{
 "cells": [
  {
   "cell_type": "markdown",
   "id": "f0f3fb32-47d2-423c-b880-86ebc2a5dbe2",
   "metadata": {},
   "source": [
    "# Projet_4 : Mission - Anticipez les besoins en consommation de bâtiments :"
   ]
  },
  {
   "cell_type": "markdown",
   "id": "8f7819ce-6f00-48d6-bcd4-33811139a1a2",
   "metadata": {},
   "source": [
    "La ville de Seattle exige les propriétaires de bâtiments non résidentiels et multifamiliaux (plus de 20 000 pieds carrés) de suivre leur performance énergétique et fassent un rapport chaque année à la ville de Seattle.  \n",
    "Nous allons travaillé ici sur les données de 2016 afin de réaliser un modèle de prédiction des consommations annuelles d'énergies futures, ainsi que les émissions de CO2, le but étant de se passer des relevés."
   ]
  },
  {
   "cell_type": "markdown",
   "id": "9e79203b-308c-4376-8cfc-caf87931c511",
   "metadata": {},
   "source": [
    "##### **Organisation des fichiers :**"
   ]
  },
  {
   "attachments": {
    "3fedaec7-0ffd-4692-8e06-a6933f224f1e.png": {
     "image/png": "[encoded data removed]"
    }
   },
   "cell_type": "markdown",
   "id": "3f35f580-3efd-4174-925f-2a5a6d044cd2",
   "metadata": {},
   "source": [
    "![image.png](attachment:3fedaec7-0ffd-4692-8e06-a6933f224f1e.png)"
   ]
  },
  {
   "cell_type": "markdown",
   "id": "772272db-710d-48f6-8c46-3927886a47a2",
   "metadata": {},
   "source": [
    "##### **Versions des librairies utilisées dans ce Notebook :**  \n",
    "\n",
    "Python: 3.9.7  \n",
    "\n",
    "pandas: 2.2.2  \n",
    "numpy: 1.26.4  \n",
    "IPython: 8.15.0  \n",
    "seaborn: 0.13.2  \n",
    "matplotlib: 3.9.0  \n",
    "ipywidgets: 8.1.2  \n",
    "scipy: 1.13.1  \n",
    "bokeh: 3.4.1  "
   ]
  },
  {
   "cell_type": "markdown",
   "id": "99bb63a2-97db-47c9-a069-876df67bb3af",
   "metadata": {},
   "source": [
    "---"
   ]
  },
  {
   "cell_type": "code",
   "execution_count": null,
   "id": "d5f32590-c4fe-491f-a2bb-026b0b057f42",
   "metadata": {},
   "outputs": [],
   "source": [
    "# importation des librairies\n",
    "import pandas as pd\n",
    "import numpy as np\n",
    "from IPython.display import display, HTML, Markdown, clear_output, IFrame\n",
    "import seaborn as sns\n",
    "import matplotlib.pyplot as plt\n",
    "import ipywidgets as widgets\n",
    "import math\n",
    "from matplotlib.ticker import FuncFormatter\n",
    "import matplotlib.gridspec as gridspec\n",
    "import matplotlib.ticker as ticker\n",
    "from scipy.stats import pearsonr"
   ]
  },
  {
   "cell_type": "code",
   "execution_count": null,
   "id": "c414801e-d1a0-4598-923d-5fc75d95a657",
   "metadata": {},
   "outputs": [],
   "source": [
    "# fonction python qui permet d'écrire du markdown par une fonction dans une fonction python\n",
    "def display_markdown(text):\n",
    "    display(Markdown(text))"
   ]
  },
  {
   "cell_type": "code",
   "execution_count": null,
   "id": "4d600d2a-b563-4727-b97c-8b73588e84ac",
   "metadata": {},
   "outputs": [],
   "source": [
    "# activate Bokeh output in Jupyter notebook\n",
    "from bokeh.io import output_notebook\n",
    "from bokeh.plotting import figure, show, ColumnDataSource, output_file, save\n",
    "from bokeh.models import NumeralTickFormatter\n",
    "\n",
    "output_notebook()"
   ]
  },
  {
   "cell_type": "code",
   "execution_count": null,
   "id": "27cf8ebe-5429-49d4-8b15-e688178c4f87",
   "metadata": {},
   "outputs": [],
   "source": [
    "# creation d'un dossier graphs afin de contenir les graphiques exportes pour limiter la taille du notebook\n",
    "import os\n",
    "\n",
    "if not os.path.exists('graphs'):\n",
    "    try:\n",
    "       os.mkdir('graphs')\n",
    "    except:\n",
    "        print(\"Merci de créer manuellement un dossier intitulé 'graphs', qui servira à stocker les graphs volumineux. \")"
   ]
  },
  {
   "cell_type": "markdown",
   "id": "6d7099e7-35a5-46c2-afd7-ea3dd6cd78fa",
   "metadata": {},
   "source": [
    "## Etape 1 : Analyse exploratoire des datasets et 1er feature engineering :"
   ]
  },
  {
   "cell_type": "markdown",
   "id": "d057b460-34b7-4951-9e8b-592eec549667",
   "metadata": {},
   "source": [
    "Description des features disponible à l'adresse suivante :\n",
    "[Dataset](https://s3.eu-west-1.amazonaws.com/course.oc-static.com/projects/Data_Scientist_P4/2016_Building_Energy_Benchmarking.csv)"
   ]
  },
  {
   "cell_type": "markdown",
   "id": "04a0f710-4e05-4736-b9de-19a36123c188",
   "metadata": {},
   "source": [
    "### 1.1 - Import du dataset :"
   ]
  },
  {
   "cell_type": "code",
   "execution_count": null,
   "id": "dffe8409-d3f9-46ed-a827-725dcb2c874a",
   "metadata": {},
   "outputs": [],
   "source": [
    "# import du dataset\n",
    "raw_data_df = pd.read_csv('./data/source/2016_Building_Energy_Benchmarking.csv')"
   ]
  },
  {
   "cell_type": "markdown",
   "id": "9cba31d3-06da-4e35-a766-dc3ca0ba9e24",
   "metadata": {},
   "source": [
    "**Affichage :**"
   ]
  },
  {
   "cell_type": "code",
   "execution_count": null,
   "id": "85a404f4-99d8-4e8d-923e-131ed3c92fdc",
   "metadata": {},
   "outputs": [],
   "source": [
    "# affichage des premieres et dernieres lignes du dataframe\n",
    "raw_data_df"
   ]
  },
  {
   "cell_type": "markdown",
   "id": "85fc0ff0-a5a9-4efc-82e3-8f80c46b9eec",
   "metadata": {},
   "source": [
    "Dataset de 3376 lignes et 46 colonnes."
   ]
  },
  {
   "cell_type": "markdown",
   "id": "46e7b99f-f0ec-4e23-b717-ada23666e280",
   "metadata": {},
   "source": [
    "**Type de données :**"
   ]
  },
  {
   "cell_type": "code",
   "execution_count": null,
   "id": "9be6039b-b857-434e-a279-d6a183a62638",
   "metadata": {},
   "outputs": [],
   "source": [
    "# visu type de donnees, nombre de donnees presentes\n",
    "raw_data_df.info()"
   ]
  },
  {
   "cell_type": "code",
   "execution_count": null,
   "id": "724c79b2-978e-4b64-8abd-2bbb9ac85fa5",
   "metadata": {},
   "outputs": [],
   "source": [
    "# quantités de colonnes quantitatives et catégorielles\n",
    "raw_data_df.dtypes.value_counts()"
   ]
  },
  {
   "cell_type": "markdown",
   "id": "6c45b54b-54c8-4e99-80c0-f7b2fa5f5276",
   "metadata": {},
   "source": [
    "**Vérification du nombre de manquants :**"
   ]
  },
  {
   "cell_type": "code",
   "execution_count": null,
   "id": "1207861f-958c-4356-9dc7-cc028897b4d6",
   "metadata": {},
   "outputs": [],
   "source": [
    "# compte le nombre de manquants\n",
    "raw_data_df.isnull().sum()"
   ]
  },
  {
   "cell_type": "markdown",
   "id": "17025646-d084-48ab-85ce-95de6b63fb62",
   "metadata": {},
   "source": [
    "Beaucoup de manquants sur certains features :\n",
    "* Outlier\n",
    "* Comments\n",
    "* YearsENERGYSTARCertified\n",
    "* SecondLargestPropertyUseType\n",
    "* SecondLargestPropertyUseTypeGFA\n",
    "* ThirdLargestPropertyUseType   \n",
    "* ThirdLargestPropertyUseTypeGFA"
   ]
  },
  {
   "cell_type": "markdown",
   "id": "2ef7648e-d161-47b8-bdd4-e050b4bece83",
   "metadata": {},
   "source": [
    "**Vérification des doublons :**"
   ]
  },
  {
   "cell_type": "code",
   "execution_count": null,
   "id": "d42a1f84-b219-46c6-ae83-441fbc5d30b6",
   "metadata": {},
   "outputs": [],
   "source": [
    "# doublons\n",
    "raw_data_df.duplicated().value_counts()"
   ]
  },
  {
   "cell_type": "markdown",
   "id": "0bc3aaed-9d4c-4567-ac41-29eee38b7b1a",
   "metadata": {},
   "source": [
    "Il n'y a pas de lignes en double."
   ]
  },
  {
   "cell_type": "code",
   "execution_count": null,
   "id": "0ac1cb5f-d246-4336-a5ad-56a48de323f5",
   "metadata": {},
   "outputs": [],
   "source": [
    "# doublons de ID\n",
    "raw_data_df.OSEBuildingID.duplicated().value_counts()"
   ]
  },
  {
   "cell_type": "markdown",
   "id": "04ac1ceb-d8c4-4fda-816a-7afd4d4458bf",
   "metadata": {},
   "source": [
    "Il n'y a pas de doublon de bâtiment non plus."
   ]
  },
  {
   "cell_type": "markdown",
   "id": "cad9ec46-1d1e-4e40-b5aa-76c9c4881593",
   "metadata": {},
   "source": [
    "---\n",
    "---"
   ]
  },
  {
   "cell_type": "markdown",
   "id": "43ce5fd2-929d-4948-8d9e-a7aba420cf31",
   "metadata": {},
   "source": [
    "### 1.2 - Description des colonnes :"
   ]
  },
  {
   "cell_type": "markdown",
   "id": "bd76acc6-8f60-4c0f-926c-ba560e353c72",
   "metadata": {},
   "source": [
    "Lecture approfondie de la [description des colonnes](https://data.seattle.gov/Permitting/2016-Building-Energy-Benchmarking/2bpz-gwpy/about_data), et réalisation d'un résumé de compréhension."
   ]
  },
  {
   "cell_type": "code",
   "execution_count": null,
   "id": "a860b6f1-6782-4d27-8623-35ed99af0e42",
   "metadata": {},
   "outputs": [],
   "source": [
    "pd.set_option('display.max_colwidth', 200)"
   ]
  },
  {
   "cell_type": "code",
   "execution_count": null,
   "id": "c517a0a5-0a59-4ed4-85e1-2815c538934d",
   "metadata": {},
   "outputs": [],
   "source": [
    "desc_dict = {'OSEBuildingID': 'ID', 'DataYear': \"Date de l'enregistrement\", 'BuildingType': 'Type de bâtiment', 'PrimaryPropertyType': \"Usage premier du bâtiment (>50% de l'usage)\", 'PropertyName': \"Nom officiel du bâtiment\", 'Address': \"Adresse du bâtiment\",\n",
    "            'City': 'Ville', 'State': \"Etat\", 'ZipCode': \"Code postal\", 'TaxParcelIdentificationNumber': \"Référence cadastrale\", \"CouncilDistrictCode\": \"Numéro de district\", \"Neighborhood\": \"Quartier\", \"Latitude\": \"Latitude\", \"Longitude\": \"Longitude\",\n",
    "             \"YearBuilt\": \"Année de construction ou année de rénovation complète\", \"NumberofBuildings\": \"Nombre de bâtiment dans la propriété\", \"NumberofFloors\": \"Nombre d'étages\", \"PropertyGFATotal\": \"Superficie totale du bâtiment et du parking\",\n",
    "             \"PropertyGFAParking\": \"Espace total en pieds carrés de tous les types de stationnement\", \"PropertyGFABuilding(s)\": \"Superficie totale en pieds carrés (surface habitable)\", \"ListOfAllPropertyUseTypes\": \"Liste des utilisations possibles\", \"LargestPropertyUseType\": \"Principale utilisation\",\n",
    "             \"LargestPropertyUseTypeGFA\": \"La superficie brute de plancher de la principale utilisation de la propriété\", \"SecondLargestPropertyUseType\": \"Deuxième principale utilisation\", \"SecondLargestPropertyUseTypeGFA\": \"La superficie brute de plancher de la deuxième utilisation de la propriété\",\n",
    "             \"ThirdLargestPropertyUseType\": \"Troisième principale utilisation\", \"ThirdLargestPropertyUseTypeGFA\": \"La superficie brute de plancher de la troisième utilisation de la propriété\", \"YearsENERGYSTARCertified\": \"Année d'obtention de la certif ENERGY STAR\", \"ENERGYSTARScore\": \"Score de ENERGY STAR entre 1 et 100\",\n",
    "             \"SiteEUI(kBtu/sf)\": \"Consommation annuelle d'énergie en milliers d'unités thermiques britanniques (kBtu) par pied carré\", \"SiteEUIWN(kBtu/sf)\": \"Consommation normalisée selon les conditions météorologiques moyennes sur 30 ans, mesurée en milliers d'unités thermiques britanniques (kBtu) par pied carré\",\n",
    "             \"SourceEUI(kBtu/sf)\": \"Consommation d'énergie annuelle à la source, incluant les pertes,... et mesurée en milliers d'unités thermiques britanniques (kBtu) par pied carré\", \"SourceEUIWN(kBtu/sf)\": \"Consommation d'énergie annuelle à la source normalisée selon les conditions météorologiques moyennes sur 30 ans, mesurée en milliers d'unités thermiques britanniques (kBtu) par pied carré\",\n",
    "             \"SiteEnergyUse(kBtu)\": \"La quantité annuelle d’énergie consommée par la propriété, toutes sources d’énergie confondues\", \"SiteEnergyUseWN(kBtu)\" : \"SiteEnergyUse normalisée selon les conditions météorologiques moyennes sur 30 ans, mesurée en milliers d'unités thermiques britanniques (kBtu) par pied carré\",\n",
    "             \"SteamUse(kBtu)\": \"La quantité annuelle de vapeur urbaine consommée par la propriété sur place, mesurée en milliers d'unités thermiques britanniques (kBtu)\", \"Electricity(kWh)\": \"Consommation annuelle d'électricité en Kwh comprend la génération par des systèmes renouvelables sur place\", \"Electricity(kBtu)\": \"Consommation annuelle d'électricité mesurée en milliers d'unités thermiques britanniques (kBtu)\",\n",
    "             \"NaturalGas(therms)\": \"Consommation annuelle de gaz naturel en therms\", \"NaturalGas(kBtu)\": \"Consommation annuelle de gaz naturel mesurée en milliers d'unités thermiques britanniques (kBtu)\", \"DefaultData\": \"La propriété a utilisé des données par défaut pour au moins une caractéristique de propriété\",\n",
    "             \"Comments\": \"Commentaires\", \"ComplianceStatus\": \"Statut de conformité du benchmark énergétique de l'année\", \"Outlier\": \"Si une propriété est une valeur aberrante élevée ou faible\", \"TotalGHGEmissions\": \"La quantité totale d'émissions de gaz à effet de serre\", \"GHGEmissionsIntensity\": \"Émissions totales de gaz à effet de serre divisées par la superficie brute de la propriété\"\n",
    "            }\n",
    "desc_df = pd.DataFrame.from_dict(desc_dict, orient='index', columns=['Description'])"
   ]
  },
  {
   "cell_type": "code",
   "execution_count": null,
   "id": "73dea4e3-9c50-4ee5-aa8a-ca37d095e3c6",
   "metadata": {},
   "outputs": [],
   "source": [
    "desc_df.style.set_properties(**{'text-align': 'left'})"
   ]
  },
  {
   "cell_type": "markdown",
   "id": "140d3272-3d89-43fa-b54d-681d2ba44163",
   "metadata": {},
   "source": [
    "---\n",
    "---"
   ]
  },
  {
   "cell_type": "markdown",
   "id": "c7803a56-3422-428a-85d0-9a82035df7bc",
   "metadata": {},
   "source": [
    "### 1.3 - Filtrer les bâtiments à usage non destinés à l'habitation :"
   ]
  },
  {
   "cell_type": "markdown",
   "id": "152aaddd-20a7-4a99-a985-13311c838086",
   "metadata": {},
   "source": [
    "Le feature \"BuildingType\" nous donne le type d'usage du bâtiment."
   ]
  },
  {
   "cell_type": "code",
   "execution_count": null,
   "id": "53b82139-67b5-4161-89ef-cfdae68e47a1",
   "metadata": {},
   "outputs": [],
   "source": [
    "# quantite de valeur dans la feature\n",
    "raw_data_df.BuildingType.value_counts()"
   ]
  },
  {
   "cell_type": "markdown",
   "id": "f5c4042c-613d-4d67-a83b-fa738c6b9bbd",
   "metadata": {},
   "source": [
    "Nous pouvons supprimer les bâtiments :\n",
    "* \"MultiFamily\" -> qui sont des habitations résidentielles\n",
    "  \n",
    "Je créé une liste avec les bâtiments non résidentiels afin de filtrer le dataframe :\n",
    "* NonResidential\n",
    "* Nonresidential COS\n",
    "* Nonresidential WA\n",
    "* SPS-District K-12\n",
    "* Campus"
   ]
  },
  {
   "cell_type": "code",
   "execution_count": null,
   "id": "7f901a59-61b2-48ea-a36f-398059b3768d",
   "metadata": {},
   "outputs": [],
   "source": [
    "# liste de non residentiel\n",
    "liste = ['NonResidential', 'Nonresidential COS', 'Nonresidential WA', 'SPS-District K-12', \"Campus\" ]\n",
    "non_residential_df = raw_data_df[raw_data_df['BuildingType'].isin(liste) ]"
   ]
  },
  {
   "cell_type": "code",
   "execution_count": null,
   "id": "4cd6d862-ceda-497b-8b6d-4c392e7345ee",
   "metadata": {},
   "outputs": [],
   "source": [
    "non_residential_df"
   ]
  },
  {
   "cell_type": "markdown",
   "id": "0d26ce11-b7dd-492e-a6aa-bfaabfb93634",
   "metadata": {},
   "source": [
    "---\n",
    "---"
   ]
  },
  {
   "cell_type": "markdown",
   "id": "63fa83f2-3b22-4343-a4aa-bb732131246e",
   "metadata": {},
   "source": [
    "### 1.4 - Evaluation des features \"Outlier\" et \"ComplianceStatus\" :"
   ]
  },
  {
   "cell_type": "markdown",
   "id": "08a0356f-7a0d-4534-99cd-cf9b8187ea56",
   "metadata": {},
   "source": [
    "#### 1.4.1 - **Feature - Outlier :**"
   ]
  },
  {
   "cell_type": "markdown",
   "id": "10921fb2-3c45-44d6-8a73-9b0b65172808",
   "metadata": {},
   "source": [
    "On observe ce que contient le feature `\"Outlier\"`"
   ]
  },
  {
   "cell_type": "code",
   "execution_count": null,
   "id": "1ad759ae-d2a4-4b3b-b7b1-2353ab365931",
   "metadata": {},
   "outputs": [],
   "source": [
    "# quantite de valseur avec les NAN\n",
    "non_residential_df['Outlier'].value_counts(dropna=False)"
   ]
  },
  {
   "cell_type": "markdown",
   "id": "b2688971-ba39-4af8-aba6-1c5f2d418666",
   "metadata": {},
   "source": [
    "---"
   ]
  },
  {
   "cell_type": "markdown",
   "id": "7fb348db-3222-4148-86ba-aa8b2de15435",
   "metadata": {},
   "source": [
    "#### 1.4.2 - **Outlier - High :**"
   ]
  },
  {
   "cell_type": "code",
   "execution_count": null,
   "id": "db589c2d-efe7-48d5-af28-1d9900e56bd2",
   "metadata": {},
   "outputs": [],
   "source": [
    "# dataframe de la categorie 'high outlier'\n",
    "df_high_outlier = non_residential_df[non_residential_df['Outlier'] == 'High outlier']"
   ]
  },
  {
   "cell_type": "code",
   "execution_count": null,
   "id": "118f1152-372a-4b6b-a03f-15fbbc088c32",
   "metadata": {},
   "outputs": [],
   "source": [
    "df_high_outlier['PropertyGFABuilding(s)']"
   ]
  },
  {
   "cell_type": "code",
   "execution_count": null,
   "id": "ef24a7b1-e9e9-4a2d-9f18-7d00eaf1047f",
   "metadata": {},
   "outputs": [],
   "source": [
    "df_high_outlier"
   ]
  },
  {
   "cell_type": "markdown",
   "id": "977203b5-1b47-45cb-afaa-5b6da2b7948f",
   "metadata": {},
   "source": [
    "Sur le premier bâtiment considéré en \"High outlier\", on constate sur le site de Seattle que ce bâtiment est ancien et est une passoir thermique avec +443% de consommation électrique par rapport à des bâtiments de même taille.  \n",
    "Des outliers de ce type risque de biaiser le modèle, je les supprime."
   ]
  },
  {
   "attachments": {
    "7c8bc4c6-6d2a-449b-8823-59c466228631.png": {
     "image/png": "[encoded data removed]"
    }
   },
   "cell_type": "markdown",
   "id": "016e2dfb-1a5e-4a15-bead-92f44aca7905",
   "metadata": {},
   "source": [
    "![image.png](attachment:7c8bc4c6-6d2a-449b-8823-59c466228631.png)"
   ]
  },
  {
   "cell_type": "markdown",
   "id": "2aa18e36-b1c2-4f91-84be-650bdc621c40",
   "metadata": {},
   "source": [
    "---"
   ]
  },
  {
   "cell_type": "markdown",
   "id": "a9e1e8d2-df44-4a1c-92ad-0d742a144668",
   "metadata": {},
   "source": [
    "#### 1.4.3 - **Outlier - Low :**"
   ]
  },
  {
   "cell_type": "code",
   "execution_count": null,
   "id": "78e1c526-f5b6-4fc0-9194-4e176f23761d",
   "metadata": {},
   "outputs": [],
   "source": [
    "# dataframe de la categorie 'low outlier'\n",
    "df_low_outlier = non_residential_df[non_residential_df['Outlier'] == 'Low outlier']"
   ]
  },
  {
   "cell_type": "code",
   "execution_count": null,
   "id": "fb8f1368-2fb8-4a0e-a36d-7f8f27e15e78",
   "metadata": {},
   "outputs": [],
   "source": [
    "df_low_outlier"
   ]
  },
  {
   "cell_type": "markdown",
   "id": "3ea5bf24-dcdc-4968-a2a1-f128fef38e86",
   "metadata": {},
   "source": [
    "Dans la liste ci-dessus, on trouve des Eglises, des écoles ou des des propriétés avec des données non conformes (colonne ComplianceStatus), ce qui biaise le Benchmark et qui les font sortir en \"Outlier - Low\".  \n",
    "Ce sont des outliers type métier, il n'est pas judicieux pour notre modèle de garder ce type de données, je les supprime."
   ]
  },
  {
   "cell_type": "code",
   "execution_count": null,
   "id": "0736bbbc-d3c7-467a-bb6d-f53f7f8715a1",
   "metadata": {},
   "outputs": [],
   "source": [
    "non_residential_df_filtered = non_residential_df[non_residential_df['Outlier'].isnull()]"
   ]
  },
  {
   "cell_type": "code",
   "execution_count": null,
   "id": "c23fb189-aab5-4a1d-bae8-533f48477cdb",
   "metadata": {},
   "outputs": [],
   "source": [
    "non_residential_df_filtered.shape"
   ]
  },
  {
   "cell_type": "markdown",
   "id": "170585d5-38ab-4cc8-819b-e09f388de76b",
   "metadata": {},
   "source": [
    "Il nous reste 1651 lignes dans le dataframe. "
   ]
  },
  {
   "cell_type": "markdown",
   "id": "f16781e9-2a0c-4c85-b531-d7ca1edb3af5",
   "metadata": {},
   "source": [
    "---"
   ]
  },
  {
   "cell_type": "markdown",
   "id": "3f3fae22-7fbe-4fb1-b259-f8e392052d81",
   "metadata": {},
   "source": [
    "#### 1.4.5 - **Feature - ComplianceStatus :**"
   ]
  },
  {
   "cell_type": "markdown",
   "id": "d62e6705-ebfd-4cb0-aef2-543266dc2a3e",
   "metadata": {},
   "source": [
    "On observe ce que contient le feature `\"ComplianceStatus\"` qui donne le Statut de conformité du benchmark énergétique de l'année."
   ]
  },
  {
   "cell_type": "code",
   "execution_count": null,
   "id": "a6101562-141e-4e83-b645-29e38c751818",
   "metadata": {},
   "outputs": [],
   "source": [
    "non_residential_df_filtered['ComplianceStatus'].value_counts(dropna=False)"
   ]
  },
  {
   "cell_type": "markdown",
   "id": "ca449c4a-b2e5-42ea-b3b6-ffc14f0c06ca",
   "metadata": {},
   "source": [
    "Pour réaliser un modèle il est plus judicieux de conserver uniquement les bâtiments \"conformes\" au Benchmark afin de ne pas apporter de données biaisées."
   ]
  },
  {
   "cell_type": "code",
   "execution_count": null,
   "id": "ab7f394c-3672-468b-a47d-4ad6677a9b1c",
   "metadata": {},
   "outputs": [],
   "source": [
    "compliant_non_residential_df = non_residential_df_filtered[non_residential_df_filtered['ComplianceStatus'] == 'Compliant']"
   ]
  },
  {
   "cell_type": "code",
   "execution_count": null,
   "id": "10ee2dfa-012d-4765-b910-3f778724e859",
   "metadata": {},
   "outputs": [],
   "source": [
    "non_residential_df_filtered[non_residential_df_filtered['ComplianceStatus'] == 'Missing Data']"
   ]
  },
  {
   "cell_type": "code",
   "execution_count": null,
   "id": "7eef366c-1675-47e1-989e-2f586adc661a",
   "metadata": {},
   "outputs": [],
   "source": [
    "compliant_non_residential_df.shape"
   ]
  },
  {
   "cell_type": "markdown",
   "id": "efb92bba-ea9c-48f2-a3d3-52faebbac176",
   "metadata": {},
   "source": [
    "---\n",
    "---"
   ]
  },
  {
   "cell_type": "markdown",
   "id": "9a903e92-2535-46fe-b3e3-0c73c6df6fc0",
   "metadata": {},
   "source": [
    "### 1.5 - Choix Cibles et features de prédiction :"
   ]
  },
  {
   "cell_type": "markdown",
   "id": "5ac9b6f8-5108-44e1-a2a5-1e3789ffe63d",
   "metadata": {},
   "source": [
    "**Le choix des cibles :**  \n",
    "Le but étant de tenter de prédire les **émissions de CO₂** et la **consommation totale d’énergie** de bâtiments non destinés à l’habitation pour lesquels elles n’ont pas encore été mesurées, les cibles choisies son :  \n",
    "* `SiteEnergyUse(kBtu)` : La quantité annuelle d’énergie consommée par la propriété, toutes sources d’énergie confondues\n",
    "* `TotalGHGEmissions` :\tLa quantité totale d'émissions de gaz à effet de serre"
   ]
  },
  {
   "cell_type": "code",
   "execution_count": null,
   "id": "d39e5653-1a86-4a62-8942-1c542a865b0c",
   "metadata": {},
   "outputs": [],
   "source": [
    "targets_list = ['SiteEnergyUse(kBtu)', 'TotalGHGEmissions']"
   ]
  },
  {
   "cell_type": "markdown",
   "id": "413d34a2-9efa-41e4-9a6d-930a5286f69a",
   "metadata": {},
   "source": [
    "---"
   ]
  },
  {
   "cell_type": "markdown",
   "id": "c44cb80b-8bc4-47e5-9522-8e2a3cffdacc",
   "metadata": {},
   "source": [
    "**Export du dataframe :**"
   ]
  },
  {
   "cell_type": "code",
   "execution_count": null,
   "id": "1578879d-412b-4635-8bde-57d8a2f5db49",
   "metadata": {},
   "outputs": [],
   "source": [
    "# export du dataframe\n",
    "#compliant_non_residential_df.to_csv('data/source/compliant_non_residential_df.csv')"
   ]
  },
  {
   "cell_type": "code",
   "execution_count": null,
   "id": "8b45b792",
   "metadata": {},
   "outputs": [],
   "source": [
    "# import du dataset\n",
    "#compliant_non_residential_df = pd.read_csv('./data/source/compliant_non_residential_df.csv', index_col=0)"
   ]
  },
  {
   "cell_type": "markdown",
   "id": "f5b0279a-733f-419b-81d2-844d9dc299f6",
   "metadata": {},
   "source": [
    "---"
   ]
  },
  {
   "cell_type": "markdown",
   "id": "80c9e7dd-dd97-482c-b7b3-610d2bc24dd7",
   "metadata": {},
   "source": [
    "### 1.5 - Cible 1 - SiteEnergyUse(kBtu) :"
   ]
  },
  {
   "cell_type": "markdown",
   "id": "fd84b83c-3f00-48fe-ba15-1b4e003a3b68",
   "metadata": {},
   "source": [
    "#### 1.5.1 - Sélection des features quantitatifs pertinents pour la cible **SiteEnergyUse(kBtu)** :"
   ]
  },
  {
   "cell_type": "markdown",
   "id": "35506c78-cc7d-401b-ae0c-02f13e920cc8",
   "metadata": {},
   "source": [
    "Pour un modèle de ML, il nous faut uniquement des features quantitatifs, je commence par travailler uniquement avec eux."
   ]
  },
  {
   "cell_type": "markdown",
   "id": "1cd1d288-18d3-4566-b482-81e80b4c2aed",
   "metadata": {},
   "source": [
    "**1 - Sélection et visualisation des features quantitatifs :**"
   ]
  },
  {
   "cell_type": "code",
   "execution_count": null,
   "id": "81fcdf46-29d2-4ea9-989b-8fb76e930cd6",
   "metadata": {},
   "outputs": [],
   "source": [
    "# separation des features qualitatifs et quantitatifs\n",
    "numeric_features_df = compliant_non_residential_df.select_dtypes(include=[np.number])\n",
    "categorical_features_df = compliant_non_residential_df.select_dtypes(exclude=[np.number])\n",
    "\n",
    "numeric_features_df.columns"
   ]
  },
  {
   "cell_type": "markdown",
   "id": "d89c7b79-b465-4f07-8869-c25cd6f7e5f9",
   "metadata": {},
   "source": [
    "---\n",
    "Les éléments qui peuvent expliquer la consommation d'énergie totale annuelle sont :\n",
    "* le lieu des bâtiments\n",
    "* l'âge des bâtiments\n",
    "* le nombre de bâtiments\n",
    "* la superficie des bâtiments\n",
    "* les usages des bâtiments\n",
    "* Le type d'énergie utilisé et son ratio\n",
    "---\n",
    "    \n",
    "Avec la liste et les éléments ci-dessus, je sélectionne les features qui à mon sens interviennent dans la prédiction de la cible :  \n",
    "* 'Latitude'\n",
    "* 'Longitude'\n",
    "* 'YearBuilt'\n",
    "* 'NumberofBuildings'\n",
    "* 'NumberofFloors'\n",
    "* 'PropertyGFABuilding(s)'\n",
    "* 'LargestPropertyUseTypeGFA'\n",
    "* 'SecondLargestPropertyUseTypeGFA'\n",
    "* 'ThirdLargestPropertyUseTypeGFA'\n",
    "* 'SteamUse(kBtu)' --> **ratio par rapport à l'énergie totale consommée**\n",
    "* 'Electricity(kBtu)' --> **ratio par rapport à l'énergie totale consommée**\n",
    "* 'NaturalGas(kBtu)' --> **ratio par rapport à l'énergie totale consommée**\n",
    "* 'ListOfAllPropertyUseTypes' --> **calcul du nombre d'utilisations**"
   ]
  },
  {
   "cell_type": "markdown",
   "id": "9a73b34a-644a-42c0-a3f3-5ce78513b2f9",
   "metadata": {},
   "source": [
    "Pré-sélection des features pertinents afin de réaliser une corrélation :"
   ]
  },
  {
   "cell_type": "code",
   "execution_count": null,
   "id": "16d0a488-e185-49e5-a688-d1bb557b31df",
   "metadata": {},
   "outputs": [],
   "source": [
    "# liste de features pour corrélation\n",
    "targets_numeric_features_list = [ 'ENERGYSTARScore', 'Latitude', 'Longitude', 'YearBuilt', 'NumberofBuildings', 'NumberofFloors','PropertyGFABuilding(s)', 'LargestPropertyUseTypeGFA', 'SecondLargestPropertyUseTypeGFA', \n",
    "                                 'ThirdLargestPropertyUseTypeGFA', 'SteamUse(kBtu)', 'Electricity(kBtu)', 'NaturalGas(kBtu)']"
   ]
  },
  {
   "cell_type": "markdown",
   "id": "89626f49-e25e-4de4-9b4a-770ba9886507",
   "metadata": {},
   "source": [
    "**2 - Corrélation entre les features :**"
   ]
  },
  {
   "cell_type": "code",
   "execution_count": null,
   "id": "6f809127-00d0-41d8-91a8-94a09cd0f239",
   "metadata": {},
   "outputs": [],
   "source": [
    "# calcul la matrice de correlation\n",
    "corr_matrix = numeric_features_df[targets_numeric_features_list].corr()\n",
    "mask = np.triu(np.ones_like(corr_matrix, dtype=bool))\n",
    "\n",
    "# afficher la matrice de correlation\n",
    "plt.figure(figsize=(16, 12))\n",
    "sns.heatmap(corr_matrix, annot=True, cmap='coolwarm', mask=mask)\n",
    "\n",
    "#plt.savefig('temp.png')\n",
    "plt.show()"
   ]
  },
  {
   "cell_type": "markdown",
   "id": "8dbfdda3-a758-4011-b0ce-2ce9b9fb3faf",
   "metadata": {},
   "source": [
    "On remarque des corrélations fortes entre des features qui apportent de la redondance, je sélectionne une feature à supprimer :\n",
    "* `LargestPropertyUseTypeGFA`\n",
    "\n",
    "Je ne tiens pas compte des features `SteamUse(kBtu)`, `Electricity(kBtu)`, `NaturalGas(kBtu)` qui seront imputer si besoin et ensuite transformé en ratio."
   ]
  },
  {
   "cell_type": "markdown",
   "id": "0fcf017c-e3ab-4de8-8c33-3d44c2fbb2db",
   "metadata": {},
   "source": [
    "**3 - Sélection des features quantitatifs de prédiction :**  \n",
    "Création d'une liste des features pertinents"
   ]
  },
  {
   "cell_type": "code",
   "execution_count": null,
   "id": "b7a1d794-6c84-4b10-bc75-58b45a48985c",
   "metadata": {},
   "outputs": [],
   "source": [
    "# liste de features pertinents\n",
    "numeric_features_list = ['Latitude', 'Longitude', 'YearBuilt', 'NumberofBuildings', 'NumberofFloors','PropertyGFABuilding(s)', 'SecondLargestPropertyUseTypeGFA', 'ThirdLargestPropertyUseTypeGFA', 'SteamUse(kBtu)', 'Electricity(kBtu)', 'NaturalGas(kBtu)', 'ENERGYSTARScore']"
   ]
  },
  {
   "cell_type": "markdown",
   "id": "772b8143-37a2-469e-abb0-b8c133baf496",
   "metadata": {},
   "source": [
    "---\n",
    "#### 1.5.2 - Sélection des features qualitatifs pertinents pour la cible `SiteEnergyUse(kBtu)`:"
   ]
  },
  {
   "cell_type": "code",
   "execution_count": null,
   "id": "730efed7-73da-4b75-bae8-3411cc493bc2",
   "metadata": {},
   "outputs": [],
   "source": [
    "# liste de colonnes\n",
    "categorical_features_df.columns"
   ]
  },
  {
   "cell_type": "markdown",
   "id": "5ef4707c-13ce-4825-9e35-317d5728f97f",
   "metadata": {},
   "source": [
    "* En ayant la latitude et longitude, l'adresse n'est pas nécessaire.  \n",
    "J'ai déjà filtré les colonnes \"Outlier\" et \"ComplianceStatus\", elles ne sont donc pas à garder."
   ]
  },
  {
   "cell_type": "code",
   "execution_count": null,
   "id": "c1bf1207-ed71-402e-8b98-2de03a381f03",
   "metadata": {},
   "outputs": [],
   "source": [
    "# statistiques descriptives\n",
    "categorical_features_df.describe()"
   ]
  },
  {
   "cell_type": "markdown",
   "id": "c2da7987-ff40-4f0f-ab68-b0da2d04ba61",
   "metadata": {},
   "source": [
    "Les colonnes avec 1 seule valeur unique n'ont pas d'intérêt (comme \"City\", \"State\",...)  \n",
    "**Je garde les features catégoriques pertinents suivants :**\n",
    "* BuildingType\n",
    "* PrimaryPropertyType\n",
    "* Neighborhood\n",
    "* LargestPropertyUseType\n",
    "* SecondLargestPropertyUseType\n",
    "* ThirdLargestPropertyUseType"
   ]
  },
  {
   "cell_type": "code",
   "execution_count": null,
   "id": "b9568218-e902-4408-982f-2ce99a14728a",
   "metadata": {},
   "outputs": [],
   "source": [
    "# liste des features categoriques pertinentes\n",
    "pertinent_categorical_features_list = ['BuildingType', 'PrimaryPropertyType', 'Neighborhood', 'LargestPropertyUseType', 'SecondLargestPropertyUseType', 'ThirdLargestPropertyUseType', 'ListOfAllPropertyUseTypes']"
   ]
  },
  {
   "cell_type": "markdown",
   "id": "8b9231e0-d1a4-49b2-8e02-4be60353c435",
   "metadata": {},
   "source": [
    "#### 1.5.3 - Analyse et traitement des manquants des features de la cible 1 :"
   ]
  },
  {
   "cell_type": "markdown",
   "id": "83345d95-fe05-44ae-af27-f83672c7b38b",
   "metadata": {},
   "source": [
    "Création du Dataframe de la première target et ses features pertinents :"
   ]
  },
  {
   "cell_type": "code",
   "execution_count": null,
   "id": "ae9fc1bb-efc2-471f-ace3-36c867a962e6",
   "metadata": {},
   "outputs": [],
   "source": [
    "target_1_list = ['SiteEnergyUse(kBtu)'] + numeric_features_list + pertinent_categorical_features_list\n",
    "energy_df = compliant_non_residential_df[target_1_list]"
   ]
  },
  {
   "cell_type": "code",
   "execution_count": null,
   "id": "1dd1c5d8-4de5-496f-ab92-35837faa7549",
   "metadata": {},
   "outputs": [],
   "source": [
    "energy_df.columns"
   ]
  },
  {
   "cell_type": "markdown",
   "id": "94966e16-2d00-47b4-8059-085abbe4951c",
   "metadata": {
    "jp-MarkdownHeadingCollapsed": true
   },
   "source": [
    "##### Fonctions"
   ]
  },
  {
   "cell_type": "code",
   "execution_count": null,
   "id": "f75d1756-4d11-43be-a651-d8aa2442d1fc",
   "metadata": {},
   "outputs": [],
   "source": [
    "# fonction création d'un tableau propre en html\n",
    "def tab_display(list, qty_col):\n",
    "    # nombre de colonnes pour l'affichage\n",
    "    num_display_columns = qty_col\n",
    "    num_rows = math.ceil(len(list) / num_display_columns)\n",
    "\n",
    "    # afficher les noms des colonnes dans un tableau\n",
    "    html = \"<table>\"\n",
    "    for i in range(num_rows):\n",
    "        html += \"<tr>\"\n",
    "        for j in range(num_display_columns):\n",
    "            if i*num_display_columns + j < len(list):\n",
    "                html += f\"<td>{list[i*num_display_columns + j]}</td>\"\n",
    "        html += \"</tr>\"\n",
    "    html += \"</table>\"\n",
    "\n",
    "    # affichage\n",
    "    return display(HTML(html))\n",
    "\n",
    "# fonction création d'un tableau propre en html\n",
    "def tab_display_from_dict(dict_data, qty_col, ):\n",
    "    # nombre de colonnes pour l'affichage\n",
    "    num_display_columns = qty_col\n",
    "    num_rows = math.ceil(len(dict_data) / num_display_columns)\n",
    "\n",
    "    # Initialiser le HTML pour le tableau\n",
    "    html = \"<table border='1' style='border-collapse: collapse;'>\"\n",
    "\n",
    "    # Obtenir les éléments sous forme de liste de tuples\n",
    "    items = list(dict_data.items())\n",
    "\n",
    "    # Ajouter les lignes et les cellules au tableau HTML\n",
    "    for i in range(num_rows):\n",
    "        html += \"<tr>\"\n",
    "        for j in range(num_display_columns):\n",
    "            index = i * num_display_columns + j\n",
    "            if index < len(items):\n",
    "                k, v = items[index]\n",
    "                #html += f\"<td>{k}</td><td>{v}</td>\"\n",
    "                html += f\"<td>{k} {v}</td>\"\n",
    "        html += \"</tr>\"\n",
    "    html += \"</table>\"\n",
    "\n",
    "    # Afficher le tableau HTML\n",
    "    return display(HTML(html))\n",
    "\n",
    "# Création d'une liste de termes qui peut s'apparenter à une donnée manquante\n",
    "missing_List = [\"\", \"n/a\", \"N/A\", \" \", \"None\", \"nan\", \"Nan\", \"NaN\", \"NAN\", \"np.nan\", \"pd.NA\", \"NA\", \"na\", \"-\", \"--\", \"N/A-\", \"na-\", \"missing\", \"?\", \"unknown\", \"UNKNOWN\"]\n",
    " \n",
    "# fonction pour filtrer les valeurs non conformes et compter par colonne\n",
    "def compter_valeurs_non_conformes(df, liste_non_conformes, filter=0, column=''):\n",
    "    compteur_valeurs_non_conformes = {}\n",
    "    total_rows = len(df)\n",
    "    liste_non_conformes_lower = {x.lower() for x in liste_non_conformes}\n",
    "\n",
    "    def calculate_non_conformity(col_data):\n",
    "        lower_col_data = col_data.str.lower()\n",
    "        mask = lower_col_data.isin(liste_non_conformes_lower)\n",
    "        nb_non_conformes = mask.sum()\n",
    "        rate_value = (nb_non_conformes / total_rows) * 100\n",
    "        return nb_non_conformes, rate_value\n",
    "\n",
    "    if column:\n",
    "        nb_non_conformes, rate_value = calculate_non_conformity(df[column].astype(str))\n",
    "        if filter == 0 or rate_value <= filter:\n",
    "            rate_str = f\"{rate_value:.2f}%\"\n",
    "            compteur_valeurs_non_conformes[column] = (nb_non_conformes, rate_str)\n",
    "    else:\n",
    "        for col in df.columns:\n",
    "            nb_non_conformes, rate_value = calculate_non_conformity(df[col].astype(str))\n",
    "            if filter == 0 or rate_value <= filter:\n",
    "                rate_str = f\"{rate_value:.2f}%\"\n",
    "                compteur_valeurs_non_conformes[col] = (nb_non_conformes, rate_str)\n",
    "\n",
    "    return compteur_valeurs_non_conformes"
   ]
  },
  {
   "cell_type": "markdown",
   "id": "81a0af9d-19ab-4bd4-bbdb-7d9019858ecf",
   "metadata": {},
   "source": [
    "#####  "
   ]
  },
  {
   "cell_type": "markdown",
   "id": "a53c2f61-d692-446c-9f8b-c25b4b9941ce",
   "metadata": {},
   "source": [
    "**Analyse des manquants :**"
   ]
  },
  {
   "cell_type": "code",
   "execution_count": null,
   "id": "171cc84a-b3ef-45b6-a16f-2f633a60be39",
   "metadata": {},
   "outputs": [],
   "source": [
    "energy_df.isnull().sum()"
   ]
  },
  {
   "cell_type": "markdown",
   "id": "4ec72800-e37d-4f76-9ed3-0a9cc35c6545",
   "metadata": {},
   "source": [
    "6 features avec des manquants"
   ]
  },
  {
   "cell_type": "markdown",
   "id": "26d51fdb-7efe-4983-a343-f6881f1e6349",
   "metadata": {},
   "source": [
    "**1 - Feature : `LargestPropertyUseType`**"
   ]
  },
  {
   "cell_type": "markdown",
   "id": "34995c13-c524-4a2d-bc8a-434166dc1a70",
   "metadata": {},
   "source": [
    "Observation plus détaillée de la feature"
   ]
  },
  {
   "cell_type": "code",
   "execution_count": null,
   "id": "189716c3-6192-450b-af98-324c42a73126",
   "metadata": {},
   "outputs": [],
   "source": [
    "energy_df['LargestPropertyUseType'].describe()"
   ]
  },
  {
   "cell_type": "code",
   "execution_count": null,
   "id": "a7359182-bd05-4614-8fd4-60b041e36c9a",
   "metadata": {},
   "outputs": [],
   "source": [
    "energy_df['LargestPropertyUseType'].value_counts(dropna=False)"
   ]
  },
  {
   "cell_type": "code",
   "execution_count": null,
   "id": "3cc80c9f-6460-467a-a0a1-2528fcf689c5",
   "metadata": {},
   "outputs": [],
   "source": [
    "# affichage des lignes avec manquant dans cette feature\n",
    "energy_null = energy_df[energy_df['LargestPropertyUseType'].isnull()]\n",
    "energy_null"
   ]
  },
  {
   "cell_type": "markdown",
   "id": "d5470ef7-d4c2-41e2-af49-2f40c0d073f4",
   "metadata": {},
   "source": [
    "On peut voir dans la feature \"PrimaryPropertyType\" le type d'utilisation principale, je vais imputer en fonction des ces données :\n",
    "* Index 353 ==> Self-Storage Facility\n",
    "* Index 1147 ==> Hotel\n",
    "* Index 2414 ==> Office\n",
    "* Index 2459 ==> Restaurant"
   ]
  },
  {
   "cell_type": "markdown",
   "id": "06949d14-e56b-4af0-bdbc-78ba5660f08f",
   "metadata": {},
   "source": [
    "Remplacement des NAN :"
   ]
  },
  {
   "cell_type": "code",
   "execution_count": null,
   "id": "5c77c207-b66f-4131-b61f-560e5e64c768",
   "metadata": {},
   "outputs": [],
   "source": [
    "# remplacement des NAN par des valeurs métiers\n",
    "energy_df.at[353, 'LargestPropertyUseType'] = 'Self-Storage Facility'\n",
    "energy_df.at[1147, 'LargestPropertyUseType'] = 'Hotel'\n",
    "energy_df.at[2414, 'LargestPropertyUseType'] = 'Office'\n",
    "energy_df.at[2459, 'LargestPropertyUseType'] = 'Restaurant'"
   ]
  },
  {
   "cell_type": "code",
   "execution_count": null,
   "id": "b473fb6a-94d6-46c4-8643-2889d4b4882c",
   "metadata": {},
   "outputs": [],
   "source": [
    "energy_df['LargestPropertyUseType'].isnull().sum()"
   ]
  },
  {
   "cell_type": "markdown",
   "id": "91007abb-77a5-48b7-8b09-7d05e7f136ea",
   "metadata": {},
   "source": [
    "**2 - Features : `'SecondLargestPropertyUseTypeGFA', 'ThirdLargestPropertyUseTypeGFA', 'SecondLargestPropertyUseType', 'ThirdLargestPropertyUseType'`**"
   ]
  },
  {
   "cell_type": "markdown",
   "id": "ac31c976-b386-4d18-a4ee-a1d926b7c19a",
   "metadata": {},
   "source": [
    "Les manquants des ces features sont de type **`NMAR`**, ils sont manquants car il n'y a pas de deuxième ou troisième usage.  \n",
    "Stratégie d'imputation :\n",
    "* Features quantitatifs --> 0\n",
    "* Features qualitatifs --> \"Not concerned\""
   ]
  },
  {
   "cell_type": "code",
   "execution_count": null,
   "id": "e1d00266-d022-43b7-be2b-6e763e0a5d5f",
   "metadata": {},
   "outputs": [],
   "source": [
    "for feature in ['SecondLargestPropertyUseTypeGFA', 'ThirdLargestPropertyUseTypeGFA']:\n",
    "    energy_df.loc[:,feature] = energy_df[feature].fillna(0)\n",
    "\n",
    "for feature in ['SecondLargestPropertyUseType', 'ThirdLargestPropertyUseType']:\n",
    "    energy_df.loc[:,feature] = energy_df[feature].fillna('Not concerned')"
   ]
  },
  {
   "cell_type": "markdown",
   "id": "a2af95d7-d7d1-4671-a2cd-c2734157422f",
   "metadata": {},
   "source": [
    "**3 - Feature : `ENERGYSTARScore` :**"
   ]
  },
  {
   "cell_type": "code",
   "execution_count": null,
   "id": "faea87d4-91a4-4953-91c6-77e72a7dde93",
   "metadata": {},
   "outputs": [],
   "source": [
    "# statistiques descriptives\n",
    "energy_df.ENERGYSTARScore.describe()"
   ]
  },
  {
   "cell_type": "markdown",
   "id": "9c88a935-7acc-4f22-8873-bdfe39711834",
   "metadata": {},
   "source": [
    "Valeurs entre 1 et 100, c'est bien les min/max de ce score.  "
   ]
  },
  {
   "cell_type": "markdown",
   "id": "607a80ac-256d-4a44-8a34-43cbc5821ac9",
   "metadata": {},
   "source": [
    "**Vérification des manquants :**"
   ]
  },
  {
   "cell_type": "code",
   "execution_count": null,
   "id": "82f4f7ff-7ae1-43cb-9993-9d682ad18a42",
   "metadata": {},
   "outputs": [],
   "source": [
    "energy_df.isnull().sum()"
   ]
  },
  {
   "cell_type": "code",
   "execution_count": null,
   "id": "b204a7ec-33ca-43d2-bcb0-bee0c9903208",
   "metadata": {},
   "outputs": [],
   "source": [
    "energy_df.ENERGYSTARScore.isnull().sum() / len(energy_df)"
   ]
  },
  {
   "cell_type": "markdown",
   "id": "260dda64-c102-4d92-b2c9-a2be73778ed4",
   "metadata": {},
   "source": [
    "La feature `ENERGYSTARScore` contient 35% de manquants.  \n",
    "Ils seront traités dans le pipeline du modèle de prédiction."
   ]
  },
  {
   "cell_type": "markdown",
   "id": "21e600a2-6d08-45d0-8008-18f4e0804077",
   "metadata": {},
   "source": [
    "---\n",
    "---"
   ]
  },
  {
   "cell_type": "markdown",
   "id": "1b1c0a44-5d3f-4225-87bb-539dd0770cd4",
   "metadata": {},
   "source": [
    "### 1.6 - Cible 1 - Analyse exploratoire de la cible `SiteEnergyUse(kBtu)` et ses features sélectionnés :"
   ]
  },
  {
   "cell_type": "markdown",
   "id": "c2204755-69fe-4b59-95ae-b91605f4782f",
   "metadata": {
    "jp-MarkdownHeadingCollapsed": true
   },
   "source": [
    "##### Fonctions graphiques "
   ]
  },
  {
   "cell_type": "code",
   "execution_count": null,
   "id": "a9e84b1f-b643-4beb-b468-aea0b441b8ce",
   "metadata": {},
   "outputs": [],
   "source": [
    "def millions(x, pos):\n",
    "    return f'{int(x):,}'.replace(',', '.')\n",
    "\n",
    "def scatterplot(df_, feature, title, log=False, level=None):\n",
    "    df = df_.copy()\n",
    "    df.reset_index(inplace=True)\n",
    "\n",
    "    source = ColumnDataSource(df)\n",
    "\n",
    "    if log == True:\n",
    "        p = figure(width=800, height=500, title=title, tools=\"pan,wheel_zoom, box_zoom,reset\", y_axis_type=\"log\")\n",
    "    else:\n",
    "        p = figure(width=800, height=500, title=title, tools=\"pan,wheel_zoom, box_zoom,reset\")\n",
    "\n",
    "    p.scatter(x='index', y=feature, source=df)\n",
    "\n",
    "    # ajout 'level' pour colorier des points\n",
    "    if level is not None:\n",
    "        above_level = df[df[feature] > level]\n",
    "        source_above = ColumnDataSource(above_level)\n",
    "        p.scatter(x='index', y=feature, source=source_above, color='red')\n",
    "\n",
    "    \n",
    "    p.yaxis.formatter = NumeralTickFormatter(format=\"0,0\")\n",
    "    show(p)\n",
    "\n",
    "def scatterplot_html(df_, feature, title, file, log=False, level=None):\n",
    "    df = df_.copy()\n",
    "    df.reset_index(inplace=True)\n",
    "\n",
    "    source = ColumnDataSource(df)\n",
    "\n",
    "    if log == True:\n",
    "        p = figure(width=800, height=500, title=title, tools=\"pan,wheel_zoom, box_zoom,reset\", y_axis_type=\"log\")\n",
    "    else:\n",
    "        p = figure(width=800, height=500, title=title, tools=\"pan,wheel_zoom, box_zoom,reset\")\n",
    "\n",
    "    p.scatter(x='index', y=feature, source=df)\n",
    "\n",
    "    # ajout 'level' pour colorier des points\n",
    "    if level is not None:\n",
    "        above_level = df[df[feature] > level]\n",
    "        source_above = ColumnDataSource(above_level)\n",
    "        p.scatter(x='index', y=feature, source=source_above, color='red')\n",
    "\n",
    "    \n",
    "    p.yaxis.formatter = NumeralTickFormatter(format=\"0,0\")\n",
    "    output_file(file)\n",
    "    save(p)\n",
    "\n",
    "def boxplotbokeh(df, feature, title, log=False, limite=None):\n",
    "    # les données pour Bokeh\n",
    "    q1 = df[feature].quantile(0.25)\n",
    "    q2 = df[feature].quantile(0.5)\n",
    "    q3 = df[feature].quantile(0.75)\n",
    "    iqr = q3 - q1\n",
    "    upper = q3 + (1.5 * iqr)\n",
    "    lower = q1 - (1.5 * iqr)\n",
    "\n",
    "    outliers = df[(df[feature] > upper) | (df[feature] < lower)]\n",
    "\n",
    "    # whiskers sans les outliers\n",
    "    whisker_upper = min(df[feature][df[feature] <= upper].max(), upper)\n",
    "    whisker_lower = max(df[feature][df[feature] >= lower].min(), lower)\n",
    "\n",
    "\n",
    "    # source outliers\n",
    "    outlier_source = ColumnDataSource(data=dict(\n",
    "        x=[0] * len(outliers),\n",
    "        y=outliers[feature]\n",
    "    ))\n",
    "\n",
    "    # créer la figure\n",
    "    if log == True:\n",
    "        p = figure(width=500, height=600, title=title, tools=\"pan,wheel_zoom, box_zoom,reset\", y_axis_type=\"log\" )\n",
    "    else:\n",
    "        p = figure(width=500, height=600, title=title, tools=\"pan,wheel_zoom, box_zoom,reset\")\n",
    "\n",
    "    # les whiskers\n",
    "    p.segment(0, whisker_upper, 0, q3, line_color=\"black\")\n",
    "    p.segment(0, whisker_lower, 0, q1, line_color=\"black\")\n",
    "    # ligne d'une limite, ex 4000kj pour l'energy\n",
    "    if limite is not None:\n",
    "        p.segment(x0=-1, x1=1, y0=limite, y1=limite, line_color=\"orange\")\n",
    "\n",
    "\n",
    "    # les boxes (quartiles)\n",
    "    p.vbar(x=0, width=0.5, bottom=q2, top=q3, fill_color=\"blue\", line_color=\"black\")\n",
    "    p.vbar(x=0, width=0.5, bottom=q1, top=q2, fill_color=\"blue\", line_color=\"black\")\n",
    "\n",
    "    # les whisker\n",
    "    p.rect(x=0, y=whisker_upper, width=0.3, height=0.01, line_color=\"black\")\n",
    "    p.rect(x=0, y=whisker_lower, width=0.3, height=0.01, line_color=\"black\")\n",
    "\n",
    "    # les outliers\n",
    "    p.scatter(x='x', y='y', size=6, source=outlier_source, color=\"red\", alpha=0.6)\n",
    "    p.yaxis.formatter = NumeralTickFormatter(format=\"0,0\")\n",
    "\n",
    "    # afficher la figure\n",
    "    show(p)\n",
    "\n",
    "def boxplotbokeh_html(df, feature, title, file, log=False, limite=None):\n",
    "    # les données pour Bokeh\n",
    "    q1 = df[feature].quantile(0.25)\n",
    "    q2 = df[feature].quantile(0.5)\n",
    "    q3 = df[feature].quantile(0.75)\n",
    "    iqr = q3 - q1\n",
    "    upper = q3 + (1.5 * iqr)\n",
    "    lower = q1 - (1.5 * iqr)\n",
    "\n",
    "    outliers = df[(df[feature] > upper) | (df[feature] < lower)]\n",
    "\n",
    "    # whiskers sans les outliers\n",
    "    whisker_upper = min(df[feature][df[feature] <= upper].max(), upper)\n",
    "    whisker_lower = max(df[feature][df[feature] >= lower].min(), lower)\n",
    "\n",
    "\n",
    "    # source outliers\n",
    "    outlier_source = ColumnDataSource(data=dict(\n",
    "        x=[0] * len(outliers),\n",
    "        y=outliers[feature]\n",
    "    ))\n",
    "\n",
    "    # créer la figure\n",
    "    if log == True:\n",
    "        p = figure(width=500, height=600, title=title, tools=\"pan,wheel_zoom, box_zoom,reset\", y_axis_type=\"log\" )\n",
    "    else:\n",
    "        p = figure(width=500, height=600, title=title, tools=\"pan,wheel_zoom, box_zoom,reset\")\n",
    "\n",
    "    # les whiskers\n",
    "    p.segment(0, whisker_upper, 0, q3, line_color=\"black\")\n",
    "    p.segment(0, whisker_lower, 0, q1, line_color=\"black\")\n",
    "    # ligne d'une limite, ex 4000kj pour l'energy\n",
    "    if limite is not None:\n",
    "        p.segment(x0=-1, x1=1, y0=limite, y1=limite, line_color=\"orange\")\n",
    "\n",
    "\n",
    "    # les boxes (quartiles)\n",
    "    p.vbar(x=0, width=0.5, bottom=q2, top=q3, fill_color=\"blue\", line_color=\"black\")\n",
    "    p.vbar(x=0, width=0.5, bottom=q1, top=q2, fill_color=\"blue\", line_color=\"black\")\n",
    "\n",
    "    # les whisker\n",
    "    p.rect(x=0, y=whisker_upper, width=0.3, height=0.01, line_color=\"black\")\n",
    "    p.rect(x=0, y=whisker_lower, width=0.3, height=0.01, line_color=\"black\")\n",
    "\n",
    "    # les outliers\n",
    "    p.scatter(x='x', y='y', size=6, source=outlier_source, color=\"red\", alpha=0.6)\n",
    "    p.yaxis.formatter = NumeralTickFormatter(format=\"0,0\")\n",
    "\n",
    "    output_file(file)\n",
    "    save(p)\n",
    "\n",
    "def display_markdown_with_variable(variable):\n",
    "    markdown_text = f\"# Titre en Markdown\\n\\nLa valeur de la variable est **{variable}**.\"\n",
    "    display(Markdown(markdown_text))\n",
    "\n",
    "def std_method(df_, feature, title, file, log=False):\n",
    "    df = df_.copy()\n",
    "    # compte les nan\n",
    "    qty_nan = df[feature].isnull().sum()\n",
    "    # calcul moyenne\n",
    "    df_mean = df[feature].mean()\n",
    "    # calcul écart-type\n",
    "    df_std = df[feature].std()\n",
    "\n",
    "    # calcul des seuils\n",
    "    Hlevel = df_mean + (3 * df_std)\n",
    "    Llevel = df_mean - (3 * df_std)\n",
    "\n",
    "    # calcul nombre d'outliers\n",
    "    df_outliers = df[(df[feature] > Hlevel) | (df[feature] < Llevel)]\n",
    "\n",
    "    # affichage des données \n",
    "    text1 = f\"Le seuil supérieur à + 3 écarts-types de la moyenne est =  {round(Hlevel,1)}\"\n",
    "    display(Markdown(text1))\n",
    "    text2 = f\"Le seuil inférieur à - 3 écarts-types de la moyenne est =  {round(Llevel,1)}\"\n",
    "    display(Markdown(text2))\n",
    "    text3 = f\"Le nombre d'outliers théoriques avec cette méthodes est de : {len(df_outliers)}\"\n",
    "    display(Markdown(text3))  \n",
    "    text4 = f\"Le nombre de valeurs manquantes est de : {qty_nan}\"\n",
    "    display(Markdown(text4))  \n",
    "    display_markdown('\\n')\n",
    "    display_markdown('\\n')\n",
    "    display_markdown('**La liste des outliers :**')\n",
    "    display_markdown('\\n')\n",
    "    display(df_outliers[feature])\n",
    "    display_markdown('\\n')\n",
    "    display_markdown('\\n')\n",
    "    display_markdown('**Visualisation des outliers théoriques en rouge sur le graphique ci-dessous :**')\n",
    "    display_markdown('\\n')\n",
    "    scatterplot_html(df_, feature, title, file, log=log, level=Hlevel)\n",
    "\n",
    "\n",
    "def iqr_method(df_, feature, title, file, log=False):\n",
    "    # compte les nan\n",
    "    qty_nan = df_[feature].isnull().sum()\n",
    "    if log == True:\n",
    "        df = df_[df_[feature] > 0]\n",
    "    else:\n",
    "        df = df_\n",
    "\n",
    "    # calcul des q1 et q3\n",
    "    q1 = df[feature].quantile(0.25)\n",
    "    q3 = df[feature].quantile(0.75)\n",
    "    IQR = q3 - q1\n",
    "\n",
    "    # calcul des seuils\n",
    "    HQ3_level = q3 + (1.5 * IQR)\n",
    "    LQ1_level = q1 - (1.5 * IQR)\n",
    "\n",
    "    # calcul de la moyenne\n",
    "    mean = df[feature].mean()\n",
    "    \n",
    "    # calcul nombre d'outliers\n",
    "    df_outliers = df[(df[feature] > HQ3_level) | (df[feature] < LQ1_level)]\n",
    "\n",
    "    # affichage des données \n",
    "    text1 = f\"Q1 = {q1}\"\n",
    "    display(Markdown(text1))\n",
    "    text2 = f\"Q3 = {q3}\"\n",
    "    display(Markdown(text2))\n",
    "    text3 = f\"Le seuil supérieur à 1,5 fois au-dessus Q3 =  {round(HQ3_level,1)}\"\n",
    "    display(Markdown(text3))\n",
    "    text4 = f\"Le seuil inférieur à 1,5 fois en-dessous Q1 =  {round(LQ1_level,1)}\"\n",
    "    display(Markdown(text4))\n",
    "    text5 = f\"Le nombre d'outliers théoriques avec cette méthodes est de : {len(df_outliers)}\"\n",
    "    display(Markdown(text5))\n",
    "    text8 = f\"Le nombre de valeurs manquantes est de : {qty_nan}\"\n",
    "    display(Markdown(text8))  \n",
    "    display_markdown('\\n')\n",
    "    display_markdown('\\n')\n",
    "    text6 = '**La liste des outliers :**'\n",
    "    display(Markdown(text6))\n",
    "    display_markdown('\\n')\n",
    "    display(df_outliers[feature])\n",
    "    display_markdown('\\n')\n",
    "    display_markdown('\\n')\n",
    "    display_markdown('\\n')\n",
    "    text7 = '**Visualisation des outliers théoriques en rouge sur le graphique ci-dessous :**'\n",
    "    display(Markdown(text7))\n",
    "    display_markdown('\\n')\n",
    "\n",
    "    boxplotbokeh_html(df, feature, title, file, log=log, limite=mean)\n",
    "\n",
    "\n",
    "def format_func(value, tick_number):\n",
    "        return f'{value:,.1f}'.replace(',', ' ')\n",
    "\n",
    "def minis_boxplots(df):\n",
    "    \n",
    "    num_cols = len(df.columns)\n",
    "    num_rows = (num_cols + 2) // 3  # calcul du nombre de lignes necessaires, en arrondissant a l'entier supéerieur\n",
    "\n",
    "    fig, axes = plt.subplots(nrows=num_rows, ncols=3, figsize=(10, num_rows * 3))\n",
    "\n",
    "    for i, col in enumerate(df.columns):\n",
    "        row = i // 3\n",
    "        col_position = i % 3\n",
    "        sns.boxplot(y=df[col].dropna(), ax=axes[row, col_position])\n",
    "        axes[row, col_position].set_ylabel(col, fontsize=7)\n",
    "        axes[row, col_position].tick_params(labelsize=6)\n",
    "        axes[row, col_position].yaxis.set_major_formatter(FuncFormatter(format_func))\n",
    "\n",
    "    # masquer les axes inutilises\n",
    "    for j in range(i + 1, num_rows * 3):\n",
    "        fig.delaxes(axes.flatten()[j])\n",
    "\n",
    "    plt.tight_layout(pad=3.0)\n",
    "    plt.show()\n",
    "\n",
    "def minis_boxplots_histograms(df, boxplot_cols, hist_cols):\n",
    "    cols = boxplot_cols + hist_cols\n",
    "    num_cols = len(cols)\n",
    "    num_rows = (num_cols + 2) // 3  # calcul du nombre de lignes nécessaires, en arrondissant a l'entier supérieur\n",
    "\n",
    "    fig, axes = plt.subplots(nrows=num_rows, ncols=3, figsize=(10, num_rows * 3))\n",
    "\n",
    "    for i, col in enumerate(cols):\n",
    "        row = i // 3\n",
    "        col_position = i % 3\n",
    "\n",
    "        if col in boxplot_cols:\n",
    "            sns.boxplot(y=df[col].dropna(), ax=axes[row, col_position])\n",
    "        elif col in hist_cols:\n",
    "            sns.histplot(df[col].dropna(), ax=axes[row, col_position], bins=30)\n",
    "\n",
    "        axes[row, col_position].set_ylabel(col, fontsize=7)\n",
    "        axes[row, col_position].tick_params(labelsize=6)\n",
    "        axes[row, col_position].yaxis.set_major_formatter(FuncFormatter(format_func))\n",
    "\n",
    "    # masquer les axes inutilisés\n",
    "    for j in range(i + 1, num_rows * 3):\n",
    "        fig.delaxes(axes.flatten()[j])\n",
    "\n",
    "    plt.tight_layout(pad=3.0)\n",
    "    plt.show()\n",
    "\n",
    "\n",
    "def plot_categorical_distribution(data, column_name, size, log=False):\n",
    "    plt.figure(figsize=size)\n",
    "    counts = data[column_name].value_counts()\n",
    "    percentages = [round(val / len(data[column_name]) * 100, 1) for val in counts]\n",
    "    ax = counts.plot(kind='bar', color='skyblue')\n",
    "    for i, (count, percentage) in enumerate(zip(counts, percentages)):\n",
    "        ax.text(i, count + (0.01 * count), f'{percentage}%', ha='center', va='bottom')\n",
    "    plt.title(f'Distribution of {column_name}')\n",
    "    plt.xlabel(column_name)\n",
    "    plt.ylabel('Frequency')\n",
    "    if log:\n",
    "        plt.yscale('log')\n",
    "        plt.gca().yaxis.set_major_formatter(ticker.ScalarFormatter())\n",
    "        plt.ylabel('Frequency (log scale)')\n",
    "    plt.xticks(rotation=45, ha='right')\n",
    "    plt.tight_layout()\n",
    "    plt.show()"
   ]
  },
  {
   "cell_type": "markdown",
   "id": "257419ce-3e78-4286-9336-7c772b2a394d",
   "metadata": {},
   "source": [
    "#####  "
   ]
  },
  {
   "cell_type": "markdown",
   "id": "e05e099d-7e2c-45d4-856c-482d915cf538",
   "metadata": {},
   "source": [
    "---"
   ]
  },
  {
   "cell_type": "markdown",
   "id": "1f5911db-69d8-4c31-9d5f-5d2a56efa0a4",
   "metadata": {},
   "source": [
    "#### 1.6.1 - Analyse exploratoire de la cible 1 : **\"SiteEnergyUse(kBtu)\"**"
   ]
  },
  {
   "cell_type": "markdown",
   "id": "654fa1ce-babe-47d6-b2b0-528589471d44",
   "metadata": {},
   "source": [
    "**Statistiques descriptives :**"
   ]
  },
  {
   "cell_type": "code",
   "execution_count": null,
   "id": "e08968b1-158e-4d64-a68b-b9de47a7cc30",
   "metadata": {},
   "outputs": [],
   "source": [
    "energy_df['SiteEnergyUse(kBtu)'].describe()"
   ]
  },
  {
   "cell_type": "markdown",
   "id": "fdc5c113-4225-44ba-a26c-00f3e408d29f",
   "metadata": {},
   "source": [
    "**Analyse des manquants :**"
   ]
  },
  {
   "cell_type": "code",
   "execution_count": null,
   "id": "d13e60e1-b761-433c-959c-7532a90f6805",
   "metadata": {},
   "outputs": [],
   "source": [
    "energy_df['SiteEnergyUse(kBtu)'].isnull().sum()"
   ]
  },
  {
   "cell_type": "markdown",
   "id": "17b7211e-3a9e-469a-9f67-2bb8d89e934d",
   "metadata": {},
   "source": [
    "Pas de manquants de la target 1."
   ]
  },
  {
   "cell_type": "markdown",
   "id": "65f2c422-e833-4209-a16d-7fb2224fa2d7",
   "metadata": {},
   "source": [
    "**Aperçu des données de la cible dans un nuage de points et histogramme :**"
   ]
  },
  {
   "cell_type": "code",
   "execution_count": null,
   "id": "06bb75d8-a005-43e8-b189-6ef2fd3f583c",
   "metadata": {},
   "outputs": [],
   "source": [
    "scatterplot_html(energy_df, 'SiteEnergyUse(kBtu)', 'Nuage de points du Feature : SiteEnergyUse(kBtu)', 'graphs/energy_scatplot.html', log=True)"
   ]
  },
  {
   "cell_type": "code",
   "execution_count": null,
   "id": "5b9d07bf-3468-4f7c-bfa1-1b237962046a",
   "metadata": {},
   "outputs": [],
   "source": [
    "# affichage HTML du graphique à partir du dossier graphs/ pour ne pas le sauvegarder sur le notebook (trop volumineux)\n",
    "html_energy_scatplot = \"graphs/energy_scatplot.html\"\n",
    "IFrame(src=html_energy_scatplot, width=800, height=500)"
   ]
  },
  {
   "cell_type": "code",
   "execution_count": null,
   "id": "b679a181-8fd2-46e2-9342-28a84adfcc24",
   "metadata": {},
   "outputs": [],
   "source": [
    "# distribution \n",
    "hist = energy_df['SiteEnergyUse(kBtu)'].hist(figsize=(10,5), bins=200, log=True)\n",
    "hist.yaxis.set_major_formatter(FuncFormatter(format_func))\n",
    "hist.xaxis.set_major_formatter(FuncFormatter(format_func))"
   ]
  },
  {
   "cell_type": "markdown",
   "id": "1df15c53-21e0-42e2-a4ac-54be7b8602c7",
   "metadata": {},
   "source": [
    "**Commentaires :**  \n",
    "* Distribution asymétrique\n",
    "* Des outliers très grands\n",
    "* La moyenne est proche de 9 millions et 75% des propriétés consomment moins de 7,3 millions kBtu/année d'énergie\n",
    "* Certainement de grosses usines à plus de 200 millions et jusqu'à presque 900 millions kBtu/année"
   ]
  },
  {
   "cell_type": "markdown",
   "id": "69f05608-c807-477a-832f-2785b54e9575",
   "metadata": {},
   "source": [
    "---\n",
    "#### 1.6.2 - Traitement des outliers de la cible 1 : **\"SiteEnergyUse(kBtu)\"**"
   ]
  },
  {
   "cell_type": "markdown",
   "id": "74132a91-fa5e-454e-b3b8-bd734956e764",
   "metadata": {},
   "source": [
    "Avec les renseignements récupérés précédemment, le traitement adéquat des outliers est la méthode par l'IQR."
   ]
  },
  {
   "cell_type": "markdown",
   "id": "c9573fea-c276-4cc5-bb42-bae75f2bcdfa",
   "metadata": {},
   "source": [
    "**Visualisation des outliers avec la méthodes interquartiles :**  \n",
    "* seuils **interquartiles** (IQR) : en général les valeurs en dehors 1,5 fois l'IQR =>  $x < Q1 - 1.5 \\times IQR \\text{ ou } x > Q3 + 1.5 \\times IQR$"
   ]
  },
  {
   "cell_type": "code",
   "execution_count": null,
   "id": "5479482f-c93f-48fc-bbd4-b2a41d8d556b",
   "metadata": {},
   "outputs": [],
   "source": [
    "# fonction calculs methode IQR\n",
    "iqr_method(energy_df, 'SiteEnergyUse(kBtu)', 'Boxplot of SiteEnergyUse(kBtu)', 'graphs/energy_iqr.html', log=True)"
   ]
  },
  {
   "cell_type": "code",
   "execution_count": null,
   "id": "db5fe03a-2554-4f0f-acff-00f986cd71ff",
   "metadata": {},
   "outputs": [],
   "source": [
    "# affichage HTML du graphique à partir du dossier graphs/ pour ne pas le sauvegarder sur le notebook (trop volumineux)\n",
    "html_energy_iqr = \"graphs/energy_iqr.html\"\n",
    "IFrame(src=html_energy_iqr, width=800, height=600)"
   ]
  },
  {
   "cell_type": "markdown",
   "id": "6c0735f9-79a3-4bd5-8db2-5ad92b22fd13",
   "metadata": {},
   "source": [
    "**Isolement des Outliers au-dela de l'écart interquartiles :**  \n",
    "Je créé un dataframe avec mes outliers séparés pour potentiellement les utiliser plus tard."
   ]
  },
  {
   "cell_type": "code",
   "execution_count": null,
   "id": "6b052e5a-99be-4198-b144-2a9568c66511",
   "metadata": {},
   "outputs": [],
   "source": [
    "# calcul des q1 et q3\n",
    "q1 = energy_df['SiteEnergyUse(kBtu)'].quantile(0.25)\n",
    "q3 = energy_df['SiteEnergyUse(kBtu)'].quantile(0.75)\n",
    "IQR = q3 - q1\n",
    "\n",
    "# calcul des seuils\n",
    "HQ3_level = q3 + (1.5 * IQR)\n",
    "LQ1_level = q1 - (1.5 * IQR)\n",
    "\n",
    "# dataframes\n",
    "isolate_outliers_target_energy = energy_df[(energy_df['SiteEnergyUse(kBtu)'] > HQ3_level) | (energy_df['SiteEnergyUse(kBtu)'] < LQ1_level)]\n",
    "energy_df = energy_df[(energy_df['SiteEnergyUse(kBtu)'] <= HQ3_level) & (energy_df['SiteEnergyUse(kBtu)'] >= LQ1_level)]"
   ]
  },
  {
   "cell_type": "markdown",
   "id": "12027306-6cfb-4284-992c-b1a570282826",
   "metadata": {},
   "source": [
    "---\n",
    "#### 1.6.3 - Analyse exploratoire des features de la cible 1 : "
   ]
  },
  {
   "cell_type": "markdown",
   "id": "dcb1b610-7ccd-4b10-806c-c9ae49a971c0",
   "metadata": {},
   "source": [
    "**Statistiques descriptives :**"
   ]
  },
  {
   "cell_type": "code",
   "execution_count": null,
   "id": "f8bc3631-ab33-48d6-a330-7437496ae89f",
   "metadata": {},
   "outputs": [],
   "source": [
    "energy_df.iloc[:,1:].describe()"
   ]
  },
  {
   "cell_type": "code",
   "execution_count": null,
   "id": "313187f2-b23e-4796-95df-ebbc8f63e008",
   "metadata": {},
   "outputs": [],
   "source": [
    "energy_df.describe(include='object')"
   ]
  },
  {
   "cell_type": "markdown",
   "id": "4f428c17-f8b6-44a7-883f-c6271811e21f",
   "metadata": {},
   "source": [
    "---"
   ]
  },
  {
   "cell_type": "markdown",
   "id": "ab67ff83-ddf0-4195-b73b-fd2684262c27",
   "metadata": {},
   "source": [
    "##### **Traitement des valeurs incohérentes :**"
   ]
  },
  {
   "cell_type": "markdown",
   "id": "92deb590-57fb-49d3-8658-90b39899851e",
   "metadata": {},
   "source": [
    "**1 - Feature : NumberofBuildings**"
   ]
  },
  {
   "cell_type": "markdown",
   "id": "10a71602-2170-4022-99b7-45f793cd49d9",
   "metadata": {},
   "source": [
    "Certaines propriétés avec 0 bâtiment."
   ]
  },
  {
   "cell_type": "code",
   "execution_count": null,
   "id": "fd59813a-8fac-4ed3-a7d1-4291c6f75e43",
   "metadata": {},
   "outputs": [],
   "source": [
    "# compte le nombre de lignes a 0\n",
    "energy_df[energy_df['NumberofBuildings'] == 0].shape[0]"
   ]
  },
  {
   "cell_type": "code",
   "execution_count": null,
   "id": "6ebe5610-d648-4d6c-851f-396cb40f99d4",
   "metadata": {},
   "outputs": [],
   "source": [
    "energy_df['NumberofBuildings'].value_counts()"
   ]
  },
  {
   "cell_type": "markdown",
   "id": "6720f20c-a358-4703-b147-a748da315dd5",
   "metadata": {},
   "source": [
    "Il y a 44 propriétés sans nombre de bâtiment.  \n",
    "En considérant la distribution de cette feature, je remplace le '0' bâtiment par '1' :"
   ]
  },
  {
   "cell_type": "code",
   "execution_count": null,
   "id": "ab292071-519b-42b4-a070-1a81ccf94cea",
   "metadata": {},
   "outputs": [],
   "source": [
    "# remplacer les valeurs  0 par 1 \n",
    "energy_df.loc[energy_df['NumberofBuildings'] == 0, 'NumberofBuildings'] = 1\n",
    "\n",
    "# verification du nombre de lignes modifiees\n",
    "print(\"Nombre de lignes modifiées :\", energy_df[energy_df['NumberofBuildings'] == 1].shape[0] - 1295)"
   ]
  },
  {
   "cell_type": "markdown",
   "id": "3a5e914f-7fa4-4bdf-8497-9f1b39ab183f",
   "metadata": {},
   "source": [
    "**2 - Feature : NumberofFloors**"
   ]
  },
  {
   "cell_type": "code",
   "execution_count": null,
   "id": "a300cd5b-822d-46b9-91a5-9fa59ef2001e",
   "metadata": {},
   "outputs": [],
   "source": [
    "# compte le nombre de lignes a 0\n",
    "energy_df[energy_df['NumberofFloors'] == 0].shape[0]"
   ]
  },
  {
   "cell_type": "code",
   "execution_count": null,
   "id": "99883889-fa69-4769-ac0a-e30cb914823d",
   "metadata": {},
   "outputs": [],
   "source": [
    "floors_null = energy_df[energy_df['NumberofFloors'] == 0]\n",
    "floors_null"
   ]
  },
  {
   "cell_type": "markdown",
   "id": "ed4a8127-1780-4dd6-96f1-51a7368318e4",
   "metadata": {},
   "source": [
    "Sur les 8 lignes, 4 sont des \"Residence Hall/Dormitory\", il est peu probable de n'avoir qu'un seul étage je préfère donc les supprimer.  \n",
    "Les 4 autres ont de fortes chances de n'avoir qu'un seul étage, je remplace la valeur par '1'."
   ]
  },
  {
   "cell_type": "code",
   "execution_count": null,
   "id": "ed6a8749-130d-4b8e-81bc-e84fbc4321ae",
   "metadata": {},
   "outputs": [],
   "source": [
    "floors_list = floors_null.index[0:4].to_list()\n",
    "for i in floors_list:\n",
    "    energy_df.at[i, 'NumberofFloors'] = 1"
   ]
  },
  {
   "cell_type": "code",
   "execution_count": null,
   "id": "70f534c2-8670-4f14-a5c9-3761470b922c",
   "metadata": {},
   "outputs": [],
   "source": [
    "energy_df = energy_df[energy_df['NumberofFloors'] != 0]"
   ]
  },
  {
   "cell_type": "code",
   "execution_count": null,
   "id": "f12344f9-09fb-42b6-b5ba-9364de6601ac",
   "metadata": {},
   "outputs": [],
   "source": [
    "energy_df[energy_df['NumberofFloors'] == 0]"
   ]
  },
  {
   "cell_type": "markdown",
   "id": "c24922b2-da15-4e14-baa3-785290226d81",
   "metadata": {},
   "source": [
    "---\n",
    "**3 - Feature `BuildingType` :**"
   ]
  },
  {
   "cell_type": "markdown",
   "id": "4d5115dc-a0b8-47be-80f9-7e8df5d28e8b",
   "metadata": {},
   "source": [
    "Je vérifie le contenu de la variable et adapte les catégories :"
   ]
  },
  {
   "cell_type": "code",
   "execution_count": null,
   "id": "42897daf-1c58-4c2b-8ab2-25d3724bb49d",
   "metadata": {},
   "outputs": [],
   "source": [
    "energy_df['BuildingType'].value_counts()"
   ]
  },
  {
   "cell_type": "code",
   "execution_count": null,
   "id": "6d1cff6d-8269-477a-afce-f4f674302eff",
   "metadata": {},
   "outputs": [],
   "source": [
    "energy_df[energy_df['BuildingType'] == 'Nonresidential WA']"
   ]
  },
  {
   "cell_type": "markdown",
   "id": "95a72c5a-0260-4cd9-8d1f-6cc51d304872",
   "metadata": {},
   "source": [
    "Je passe la ligne en \"buildingType\" = Campus"
   ]
  },
  {
   "cell_type": "code",
   "execution_count": null,
   "id": "0730aa99-0925-49eb-bb2e-a285e141dd8f",
   "metadata": {},
   "outputs": [],
   "source": [
    "energy_df.loc[energy_df['BuildingType'] == 'Nonresidential WA', 'BuildingType'] = 'Campus'"
   ]
  },
  {
   "cell_type": "code",
   "execution_count": null,
   "id": "862c4fd6-9244-4fa2-8918-1c9b4e712b54",
   "metadata": {},
   "outputs": [],
   "source": [
    "energy_df['BuildingType'].value_counts()"
   ]
  },
  {
   "cell_type": "code",
   "execution_count": null,
   "id": "67d3054e-d4bf-4853-8f3e-614f31958a49",
   "metadata": {},
   "outputs": [],
   "source": [
    "plot_categorical_distribution(energy_df, 'BuildingType', (5,5), log=True)"
   ]
  },
  {
   "cell_type": "markdown",
   "id": "6b9395a0-c985-479e-b98f-12ff41d7ee45",
   "metadata": {},
   "source": [
    "**Commentaires :**  \n",
    "La grande majorité sur une catégorie \"NonResidential\""
   ]
  },
  {
   "cell_type": "markdown",
   "id": "f37041cf-e696-4ee7-9308-55cf7b4d5dc9",
   "metadata": {},
   "source": [
    "---\n",
    "**4 - Feature `PrimaryPropertyType` :**"
   ]
  },
  {
   "cell_type": "markdown",
   "id": "5d3a35b5-0b6f-4792-9b78-f1eac5e8f612",
   "metadata": {},
   "source": [
    "Je vérifie le contenu de la variable :"
   ]
  },
  {
   "cell_type": "code",
   "execution_count": null,
   "id": "01143aeb-4067-4d0c-b2d9-6e1c2f8ba719",
   "metadata": {},
   "outputs": [],
   "source": [
    "energy_df['PrimaryPropertyType'].value_counts()"
   ]
  },
  {
   "cell_type": "code",
   "execution_count": null,
   "id": "b05ee5b8-6fa1-470c-af5b-b27533760091",
   "metadata": {},
   "outputs": [],
   "source": [
    "plot_categorical_distribution(energy_df, 'PrimaryPropertyType', (12,6))"
   ]
  },
  {
   "cell_type": "code",
   "execution_count": null,
   "id": "bd1b0156-5b62-4af6-a0a6-a8900f780111",
   "metadata": {},
   "outputs": [],
   "source": [
    "print(f\"Nombre de catégories dans le feature : {energy_df['PrimaryPropertyType'].nunique()}\")"
   ]
  },
  {
   "cell_type": "markdown",
   "id": "49777c67-37d3-4965-9767-1944bc2f2169",
   "metadata": {},
   "source": [
    "**Commentaires :**  \n",
    "La colonne 'PrimaryPropertyType' montre une distribution avec une fréquence allant de 20% pour la catégorie la plus fréquente à 0,1% pour la moins fréquente. Cette distribution reflète une grande hétérogénéité dans les fréquences des catégories."
   ]
  },
  {
   "cell_type": "markdown",
   "id": "236dd9c1-f01a-4154-b145-07083c74873e",
   "metadata": {},
   "source": [
    "---\n",
    "**5 - Feature `Neighborhood` :**"
   ]
  },
  {
   "cell_type": "markdown",
   "id": "731c5ab6-af01-4590-9c47-316d40543431",
   "metadata": {},
   "source": [
    "Je vérifie le contenu de la variable et passage en minuscule :"
   ]
  },
  {
   "cell_type": "code",
   "execution_count": null,
   "id": "df549ed9-9e1a-493d-85bb-3fdb9b6130d0",
   "metadata": {},
   "outputs": [],
   "source": [
    "energy_df['Neighborhood'].value_counts()"
   ]
  },
  {
   "cell_type": "code",
   "execution_count": null,
   "id": "74d020af-501a-4e09-a0d3-ec5336a471b5",
   "metadata": {},
   "outputs": [],
   "source": [
    "# passage en minuscule de de tous les termes\n",
    "energy_df['Neighborhood'] = energy_df['Neighborhood'].str.lower()"
   ]
  },
  {
   "cell_type": "code",
   "execution_count": null,
   "id": "c52de4cc-c8a6-4924-a63b-f9dd9a1f12b0",
   "metadata": {},
   "outputs": [],
   "source": [
    "# regroupement du quartier delridge qui porte 2 noms\n",
    "energy_df['Neighborhood'] = energy_df['Neighborhood'].replace('delridge neighborhoods', 'delridge')"
   ]
  },
  {
   "cell_type": "code",
   "execution_count": null,
   "id": "53592672-4b7a-461d-88f6-514b3bb84230",
   "metadata": {},
   "outputs": [],
   "source": [
    "energy_df['Neighborhood'].value_counts()"
   ]
  },
  {
   "cell_type": "code",
   "execution_count": null,
   "id": "2c68aea5-bcbb-4a46-9d7b-6fbec962c202",
   "metadata": {},
   "outputs": [],
   "source": [
    "plot_categorical_distribution(energy_df, 'Neighborhood', (8, 6))"
   ]
  },
  {
   "cell_type": "code",
   "execution_count": null,
   "id": "e5b12ed3-fbbf-4dfb-8642-6f18bb3b8d37",
   "metadata": {},
   "outputs": [],
   "source": [
    "print(f\"Nombre de catégories dans le feature : {energy_df['Neighborhood'].nunique()}\")"
   ]
  },
  {
   "cell_type": "markdown",
   "id": "5a466f69-761e-4b73-b454-bc4972945302",
   "metadata": {},
   "source": [
    "**Commentaires :**  \n",
    "* 13 quartiers représentés\n",
    "* 2 quartiers majoritaires dont le centre-ville\n",
    "* une feature potentiellement pertinente, les plus grosses usines sont certainement écartées du centre"
   ]
  },
  {
   "cell_type": "markdown",
   "id": "6b68e8a6-04f6-46d5-b1d4-e74f41e44ef5",
   "metadata": {},
   "source": [
    "---\n",
    "**6 - Feature `LargestPropertyUseType` :**"
   ]
  },
  {
   "cell_type": "markdown",
   "id": "7bfd057d-922e-44b3-aea7-d989a0cb66cf",
   "metadata": {},
   "source": [
    "Je vérifie le contenu de la variable :"
   ]
  },
  {
   "cell_type": "code",
   "execution_count": null,
   "id": "291fc0f7-c3ca-41c4-b30a-6df7ff62ddd7",
   "metadata": {},
   "outputs": [],
   "source": [
    "energy_df['LargestPropertyUseType'].value_counts()"
   ]
  },
  {
   "cell_type": "markdown",
   "id": "c13467a7-7755-49de-b700-051e3fb45ac3",
   "metadata": {},
   "source": [
    "**Regroupement :**\n",
    "Je réalise un groupement des catégories :"
   ]
  },
  {
   "cell_type": "code",
   "execution_count": null,
   "id": "aeeda850-8484-411e-8b4d-69b17860c537",
   "metadata": {},
   "outputs": [],
   "source": [
    "# creation dictionnaire pour categoriser certaines donnees\n",
    "mapping = {\n",
    "    'Residence Hall/Dormitory': 'Residential',\n",
    "    'Multifamily Housing': 'Residential',\n",
    "    'Other - Lodging/Residential': 'Residential',\n",
    "    'K-12 School': 'Education',\n",
    "    'College/University': 'Education',\n",
    "    'Pre-school/Daycare': 'Education',\n",
    "    'Other - Education': 'Education',\n",
    "    'Urgent Care/Clinic/Other Outpatient': 'Hospital',\n",
    "    'Hospital (General Medical & Surgical)': 'Hospital',\n",
    "    'Other/Specialty Hospital': 'Hospital',\n",
    "    'Strip Mall': 'Mall',\n",
    "    'Supermarket/Grocery Store': 'Mall',\n",
    "    'Other - Mall': 'Mall',\n",
    "    'Performing Arts': 'Entertainment',\n",
    "    'Other - Entertainment/Public Assembly': 'Entertainment',\n",
    "    'Restaurant': 'Restaurant',\n",
    "    'Other - Restaurant/Bar': 'Restaurant',\n",
    "    'Personal Services (Health/Beauty, Dry Cleaning, etc)': 'Services',\n",
    "    'Repair Services (Vehicle, Shoe, Locksmith, etc)': 'Services',\n",
    "    'Other - Services': 'Services',\n",
    "}"
   ]
  },
  {
   "cell_type": "code",
   "execution_count": null,
   "id": "043fc0aa-7886-4327-891d-23291478e09b",
   "metadata": {},
   "outputs": [],
   "source": [
    "# remplacement de donnees de la feature par les indications du dictionnaire\n",
    "energy_df['LargestPropertyUseType'] = energy_df['LargestPropertyUseType'].replace(mapping)\n",
    "energy_df['LargestPropertyUseType'].value_counts()"
   ]
  },
  {
   "cell_type": "code",
   "execution_count": null,
   "id": "824bcecd-96f3-4707-9e1f-0fb4c46490ff",
   "metadata": {},
   "outputs": [],
   "source": [
    "plot_categorical_distribution(energy_df, 'LargestPropertyUseType', (18,6), log=True)"
   ]
  },
  {
   "cell_type": "code",
   "execution_count": null,
   "id": "a138c549-80ce-4fa3-9f6b-a19e3bc885e3",
   "metadata": {},
   "outputs": [],
   "source": [
    "print(f\"Nombre de catégories dans le feature : {energy_df['LargestPropertyUseType'].nunique()}\")"
   ]
  },
  {
   "cell_type": "markdown",
   "id": "0bd49b03-25f5-4d64-8f71-f7a8c98a0b2a",
   "metadata": {},
   "source": [
    "**Commentaires :**  \n",
    "Une majorité de bureaux, presque 1/3.  \n",
    "Grande variété de catégories avec beaucoup de faible fréquence."
   ]
  },
  {
   "cell_type": "markdown",
   "id": "5d1c1f6e-af8a-46b7-8fb2-e65ca95f8768",
   "metadata": {},
   "source": [
    "---\n",
    "**7 - Feature `SecondLargestPropertyUseType` :**"
   ]
  },
  {
   "cell_type": "markdown",
   "id": "dee4cabd-1849-40fe-9e1c-4927ee828a8a",
   "metadata": {},
   "source": [
    "Je vérifie le contenu de la variable :"
   ]
  },
  {
   "cell_type": "code",
   "execution_count": null,
   "id": "533a1be8-504d-4fd8-add0-c73fdde57d12",
   "metadata": {},
   "outputs": [],
   "source": [
    "energy_df['SecondLargestPropertyUseType'].value_counts()"
   ]
  },
  {
   "cell_type": "code",
   "execution_count": null,
   "id": "eb7522fa-6fc4-4903-a038-311112f0e64e",
   "metadata": {},
   "outputs": [],
   "source": [
    "plot_categorical_distribution(energy_df, 'SecondLargestPropertyUseType', (20,6), log=True)"
   ]
  },
  {
   "cell_type": "code",
   "execution_count": null,
   "id": "e5c1ea87-d4bf-4ea3-971c-5ab38af7337c",
   "metadata": {},
   "outputs": [],
   "source": [
    "print(f\"Nombre de catégories dans le feature : {energy_df['SecondLargestPropertyUseType'].nunique()}\")"
   ]
  },
  {
   "cell_type": "markdown",
   "id": "19a87d2f-5b71-4b19-b527-9c08eb2ed591",
   "metadata": {},
   "source": [
    "**Commentaires :**  \n",
    "Presque la moitié des propriétés n'ont qu'un seul usage (48% n'ont pas de 2ème usage)"
   ]
  },
  {
   "cell_type": "markdown",
   "id": "687be8c6-7234-49ef-9cad-9873e70dc112",
   "metadata": {},
   "source": [
    "---\n",
    "**8 - Feature `ThirdLargestPropertyUseType` :**"
   ]
  },
  {
   "cell_type": "markdown",
   "id": "3a9b5f5f-569f-4795-ab4f-34da6010f8d8",
   "metadata": {},
   "source": [
    "Je vérifie le contenu de la variable :"
   ]
  },
  {
   "cell_type": "code",
   "execution_count": null,
   "id": "80777ace-4787-4b3f-b4cd-a6d96acca167",
   "metadata": {},
   "outputs": [],
   "source": [
    "energy_df['ThirdLargestPropertyUseType'].value_counts()"
   ]
  },
  {
   "cell_type": "code",
   "execution_count": null,
   "id": "eac5a4cb-90a5-46e5-a915-7e12c78b40bb",
   "metadata": {},
   "outputs": [],
   "source": [
    "plot_categorical_distribution(energy_df, 'ThirdLargestPropertyUseType', (15,7), log=True)"
   ]
  },
  {
   "cell_type": "code",
   "execution_count": null,
   "id": "351aff36-4357-4df8-af0d-aabe803cd671",
   "metadata": {},
   "outputs": [],
   "source": [
    "print(f\"Nombre de catégories dans le feature : {energy_df['ThirdLargestPropertyUseType'].nunique()}\")"
   ]
  },
  {
   "cell_type": "markdown",
   "id": "a011b962-8bcb-499f-8cd5-72a5430ef816",
   "metadata": {},
   "source": [
    "**Commentaires :**  \n",
    "80% des propriétés n'ont pas de troisième usage, les autres 20% sont partagés sur 33 catégories."
   ]
  },
  {
   "cell_type": "markdown",
   "id": "81c63f80-dbdb-470a-b2f0-5fdb28236477",
   "metadata": {},
   "source": [
    "---\n",
    "**9 - Features `SteamUse(kBtu)` et `NaturalGas(kBtu)` :**"
   ]
  },
  {
   "cell_type": "markdown",
   "id": "712c43fb-318f-4be5-a3e0-1d74f1130b92",
   "metadata": {},
   "source": [
    "Ces features possèdent des valeurs minimales à 0, mais cela est cohérent, tous les bâtiments ne sont pas équipés au Gaz Naturel ou d'énergie Vapeur."
   ]
  },
  {
   "cell_type": "markdown",
   "id": "6365dc99-3f63-4ab6-bc9b-16ed4ef6408d",
   "metadata": {},
   "source": [
    "---\n",
    "**10 - Feature `Electricity(kBtu)` :**"
   ]
  },
  {
   "cell_type": "code",
   "execution_count": null,
   "id": "3872a915-0c6f-4e7b-8f3d-494bb5b3609d",
   "metadata": {},
   "outputs": [],
   "source": [
    "energy_df[energy_df['Electricity(kBtu)'] <= 0]"
   ]
  },
  {
   "cell_type": "markdown",
   "id": "7ea0b68b-8792-455d-9513-e262062126af",
   "metadata": {},
   "source": [
    "* Index 426 : une consommation uniquement de gaz est peu probable, il faut considérer cela comme une erreur ==> **suppression de la ligne**\n",
    "\n",
    "* Index 513 : pas de relevés de Vapeur, consommation d'électricité et gaz. On ne peut pas deviner quelles énergies sont consommées ni a quelles proportions ==> **suppression de la ligne**\n",
    "\n",
    "* Index 3206 : consomation électrique négative. Ce bâtiment est en fait célèbre pour générer plus d'énergie qu'il n'en consomme (*voir encadré ci-dessous),  \n",
    "             nous sommes donc sur des valeurs réelles mais entitée atypique ==> **suppression de la ligne**  "
   ]
  },
  {
   "cell_type": "code",
   "execution_count": null,
   "id": "15b0d271-653b-4420-9fe5-4cdb686b7425",
   "metadata": {},
   "outputs": [],
   "source": [
    "# suppression des lignes ayant 0 ou moins en consommation electrique\n",
    "mask = energy_df['Electricity(kBtu)'] > 0\n",
    "energy_df = energy_df[mask]"
   ]
  },
  {
   "cell_type": "markdown",
   "id": "acd1ad2a-b79f-4ab0-9df2-380cb95adf75",
   "metadata": {},
   "source": [
    "**11 - Visualisation des features quantitatifs :**"
   ]
  },
  {
   "cell_type": "code",
   "execution_count": null,
   "id": "cb0c6677-d2ad-4a04-92dd-050667b8f129",
   "metadata": {},
   "outputs": [],
   "source": [
    "energy_df.columns"
   ]
  },
  {
   "cell_type": "code",
   "execution_count": null,
   "id": "2a9c67a2-0938-4b0f-8d2e-5822ba9f5f13",
   "metadata": {},
   "outputs": [],
   "source": [
    "boxplot_cols = ['PropertyGFABuilding(s)', 'SecondLargestPropertyUseTypeGFA', 'ThirdLargestPropertyUseTypeGFA', 'SteamUse(kBtu)', 'Electricity(kBtu)', 'NaturalGas(kBtu)', 'ENERGYSTARScore']\n",
    "hist_cols = ['YearBuilt','NumberofBuildings', 'NumberofFloors' ]"
   ]
  },
  {
   "cell_type": "code",
   "execution_count": null,
   "id": "4bea0740-f1e8-4dd4-a6f8-4b716dddd0d5",
   "metadata": {},
   "outputs": [],
   "source": [
    "minis_boxplots_histograms(energy_df, boxplot_cols, hist_cols)"
   ]
  },
  {
   "cell_type": "markdown",
   "id": "ece0ed28-7339-462a-aad7-e3d51e907c1c",
   "metadata": {},
   "source": [
    "**Commentaires :**  \n",
    "* YearBuilt: distribution étalée de 1900 à 2016, une forte baisse des constructions en temps de guerre (période Seconde Guerre Mondiale).\n",
    "* Features quantitatifs : la majorité avec des distributions avec valeurs groupées et basses, tout en ayant un certain nombre d'outliers. Les fortes consommations sont dû aux grosses entreprises et usines telles que Boeing et des usines de métallurgie."
   ]
  },
  {
   "cell_type": "markdown",
   "id": "7b2d40a6-7c63-4dd0-8e28-386a19d0b088",
   "metadata": {},
   "source": [
    "### 1.7 - Cible 1 - Analyse bivariée :"
   ]
  },
  {
   "cell_type": "code",
   "execution_count": null,
   "id": "747a24ed-1ed4-4090-8719-fd6d2b65309d",
   "metadata": {},
   "outputs": [],
   "source": [
    "energy_df.columns"
   ]
  },
  {
   "cell_type": "code",
   "execution_count": null,
   "id": "2a16f4fa-d492-4fa4-a9f3-75406cbb1b26",
   "metadata": {},
   "outputs": [],
   "source": [
    "# liste des features a observer dans une matrice de correlation\n",
    "liste = ['SiteEnergyUse(kBtu)', 'Latitude', 'Longitude', 'YearBuilt', 'NumberofBuildings', 'NumberofFloors', 'PropertyGFABuilding(s)', 'SecondLargestPropertyUseTypeGFA', 'ThirdLargestPropertyUseTypeGFA',\n",
    "     'BuildingType', 'PrimaryPropertyType', 'Neighborhood', 'LargestPropertyUseType', 'SecondLargestPropertyUseType', 'ThirdLargestPropertyUseType']"
   ]
  },
  {
   "cell_type": "markdown",
   "id": "8b846e71-a36a-465a-8c19-d9b89c92a693",
   "metadata": {},
   "source": [
    "#### 1.7.1 - Matrice de corrélation globale :"
   ]
  },
  {
   "cell_type": "code",
   "execution_count": null,
   "id": "df7bd07d-895e-4a94-b790-c9341a042724",
   "metadata": {},
   "outputs": [],
   "source": [
    "correlation_matrix = energy_df[liste].select_dtypes(exclude='object').corr()\n",
    "mask = np.triu(np.ones_like(correlation_matrix, dtype=bool))\n",
    "plt.figure(figsize=(8, 6))\n",
    "sns.heatmap(correlation_matrix, mask=mask, annot=True, cmap='viridis', fmt='.2f')\n",
    "plt.title('Correlation Heatmap of Energy Use Variables')\n",
    "#plt.savefig('temp.png', bbox_inches='tight', pad_inches=0.1)\n",
    "plt.show()"
   ]
  },
  {
   "cell_type": "markdown",
   "id": "ab628e61-c597-496f-96b4-8b3c18905873",
   "metadata": {},
   "source": [
    "**Commentaires :**  \n",
    "On remarque plusieurs corrélations assez fortes \n",
    "* Entre la cible et des features :\n",
    "    * SiteEnergyUse(kBtu) Vs PropertyGFABuilding(s)\n",
    "*  Entre deux features :\n",
    "    *  PropertyGFABuilding(s) Vs SecondLargestPropertyUseTypeGFA\n"
   ]
  },
  {
   "cell_type": "code",
   "execution_count": null,
   "id": "e7208fc3-0dfc-4d90-8a3f-ae030b1600b1",
   "metadata": {},
   "outputs": [],
   "source": [
    "sns.set(style=\"whitegrid\")"
   ]
  },
  {
   "cell_type": "markdown",
   "id": "666cc58b-ea28-41e2-aff5-9e8c308ac11b",
   "metadata": {},
   "source": [
    "---\n",
    "#### 1.7.2 - SiteEnergyUse(kBtu) **Vs** `PropertyGFABuilding(s)` :"
   ]
  },
  {
   "cell_type": "code",
   "execution_count": null,
   "id": "2f6c213c-2824-4306-a68b-ab3c29a18813",
   "metadata": {},
   "outputs": [],
   "source": [
    "g = sns.jointplot(data=energy_df, x=\"PropertyGFABuilding(s)\", y=\"SiteEnergyUse(kBtu)\", height=5, ratio=2, marginal_ticks=True)\n",
    "g.fig.set_size_inches(7, 7)\n",
    "plt.setp(g.ax_joint.get_xticklabels(), rotation=45)\n",
    "g.fig.suptitle('SiteEnergyUse Vs PropertyGFABuilding(s)', y=1)  \n",
    "g.ax_joint.set_xlabel('PropertyGFABuilding(s)', fontsize=9)\n",
    "g.ax_joint.set_ylabel('SiteEnergyUse (kBtu)', fontsize=9)\n",
    "g.ax_joint.yaxis.set_major_formatter(FuncFormatter(millions))\n",
    "plt.tight_layout()\n",
    "#plt.savefig('temp.png', bbox_inches='tight', pad_inches=0.1)\n",
    "plt.show()\n",
    "\n",
    "correlation, p_value = pearsonr(energy_df['SiteEnergyUse(kBtu)'], energy_df['PropertyGFABuilding(s)'])\n",
    "print(f'Corrélation de Pearson: {correlation}')\n",
    "print(f'Valeur p: {p_value}')"
   ]
  },
  {
   "cell_type": "markdown",
   "id": "3f75a986-fc9e-4b78-8b0f-de1c1fbe3f10",
   "metadata": {},
   "source": [
    "**Commentaires :**  \n",
    "Une corrélation forte à 0.62, on la devine graphiquement.  \n",
    "A cause des outliers, une transformation logarithmique pourrait être plus pertinente.  \n",
    "Il n'est pas surprenant de voir une corrélation entre la surface des bâtiments et la consommation d'énergie totale, on aurait même pu s'attendre à plus de corrélation."
   ]
  },
  {
   "cell_type": "markdown",
   "id": "5ec77bcc-6013-4342-84c1-00cd1de8475a",
   "metadata": {},
   "source": [
    "---\n",
    "#### 1.7.3 - SiteEnergyUse(kBtu) **Vs** `Latitude` et `Longitude`:"
   ]
  },
  {
   "cell_type": "code",
   "execution_count": null,
   "id": "b94d1135-93a7-4f4b-8c23-1b78f2dc457c",
   "metadata": {},
   "outputs": [],
   "source": [
    "plt.figure(figsize=(12, 6))\n",
    "\n",
    "# scatter plot Latitude\n",
    "plt.subplot(1, 2, 1)\n",
    "sns.scatterplot(x='Latitude', y='SiteEnergyUse(kBtu)', data=energy_df, )\n",
    "plt.xlabel('Latitude')\n",
    "plt.ylabel('SiteEnergyUse (kBtu)')\n",
    "plt.title('SiteEnergyUse vs Latitude')\n",
    "plt.gca().yaxis.set_major_formatter(FuncFormatter(millions))\n",
    "\n",
    "\n",
    "# scatter plot Longitude\n",
    "plt.subplot(1, 2, 2)\n",
    "sns.scatterplot(x='Longitude', y='SiteEnergyUse(kBtu)', data=energy_df, color='orange')\n",
    "plt.xlabel('Longitude')\n",
    "plt.ylabel('SiteEnergyUse (kBtu)')\n",
    "plt.title('SiteEnergyUse vs Longitude')\n",
    "plt.gca().yaxis.set_major_formatter(FuncFormatter(millions))\n",
    "plt.xticks(round(energy_df['Longitude'],1))\n",
    "\n",
    "\n",
    "plt.tight_layout()\n",
    "plt.show()"
   ]
  },
  {
   "cell_type": "markdown",
   "id": "8f19edab-5847-42f5-b3ac-0603d288ad44",
   "metadata": {},
   "source": [
    "**Commentaires :**  \n",
    "On note une grande varabilité sur les 2 graphiques avec tout de même :\n",
    "* sous les 4 millions kBtu, une répartition plutôt homogène en Latitude\n",
    "* une majorité de points sur la longitude -122.3  \n",
    "==> on imagine une zone industrielle par les groupements de points aux valeurs centrales des graphiques."
   ]
  },
  {
   "cell_type": "markdown",
   "id": "efeaa998-c7de-4ea0-9ab0-6a627d6d4dc4",
   "metadata": {},
   "source": [
    "---\n",
    "#### 1.7.4 - SiteEnergyUse(kBtu) **Vs** `YearBuilt` :"
   ]
  },
  {
   "cell_type": "code",
   "execution_count": null,
   "id": "858f928f-a24e-41b8-8663-9e5739630282",
   "metadata": {},
   "outputs": [],
   "source": [
    "# fonction moyenne par annees, nombre annees modifiable\n",
    "def group_by_year(df, interval=5):\n",
    "    df['YearGroup'] = df['YearBuilt'] // interval * interval\n",
    "    grouped = df.groupby('YearGroup').agg({'SiteEnergyUse(kBtu)': 'mean'}).reset_index()\n",
    "    return grouped\n",
    "\n",
    "interval = 5\n",
    "grouped_df = group_by_year(energy_df, interval)\n",
    "\n",
    "# graphique\n",
    "plt.figure(figsize=(10, 6))\n",
    "sns.lineplot(data=grouped_df, x='YearGroup', y='SiteEnergyUse(kBtu)', marker='o')\n",
    "sns.regplot(data=grouped_df, x='YearGroup', y='SiteEnergyUse(kBtu)', scatter=False, ci=None, color='orange')\n",
    "\n",
    "plt.title(f'SiteEnergyUse per year ({interval}-year average)')\n",
    "plt.xlabel('YearBuilt')\n",
    "plt.ylabel('SiteEnergyUse (kBtu)')\n",
    "plt.grid(True)\n",
    "plt.gca().yaxis.set_major_formatter(FuncFormatter(millions))\n",
    "\n",
    "plt.show()\n",
    "\n",
    "energy_df = energy_df.drop(columns='YearGroup')"
   ]
  },
  {
   "cell_type": "markdown",
   "id": "7eaab49b-ab5e-475a-91c3-1dc589955c82",
   "metadata": {},
   "source": [
    "**Commentaires :**  \n",
    "Sur une moyenne par 5 années, les consommations varient et montrent les périodes creuses et à fortes productions.  \n",
    "Une tendance tout de même dans le temps à augmenter."
   ]
  },
  {
   "cell_type": "markdown",
   "id": "740289af-d323-40ac-8974-167715cab28d",
   "metadata": {},
   "source": [
    "---\n",
    "#### 1.7.5 - SiteEnergyUse(kBtu) **Vs** `NumberofBuildings`  et `NumberofFloors` :"
   ]
  },
  {
   "cell_type": "code",
   "execution_count": null,
   "id": "18972540-18eb-4f09-8036-34834935f2eb",
   "metadata": {},
   "outputs": [],
   "source": [
    "plt.figure(figsize=(14, 6))\n",
    "gs = gridspec.GridSpec(1, 2, width_ratios=[1, 3])\n",
    "\n",
    "# scatter plot Latitude\n",
    "ax1 = plt.subplot(gs[0])\n",
    "sns.barplot(x='NumberofBuildings', y='SiteEnergyUse(kBtu)', data=energy_df, ax=ax1)\n",
    "ax1.set_xlabel('NumberofBuildings')\n",
    "ax1.set_ylabel('SiteEnergyUse (kBtu)')\n",
    "ax1.set_title('SiteEnergyUse vs NumberofBuildings')\n",
    "ax1.yaxis.set_major_formatter(FuncFormatter(millions))\n",
    "counts1 = energy_df['NumberofBuildings'].value_counts().sort_index()\n",
    "for i, count in enumerate(counts1):\n",
    "    ax1.text(i, 0.05 * max(energy_df['SiteEnergyUse(kBtu)']), str(count), ha='center')\n",
    "\n",
    "# scatter plot Longitude\n",
    "ax2 = plt.subplot(gs[1])\n",
    "sns.barplot(x='NumberofFloors', y='SiteEnergyUse(kBtu)', data=energy_df, color='orange', ax=ax2)\n",
    "ax2.set_xlabel('NumberofFloors')\n",
    "ax2.set_ylabel('SiteEnergyUse (kBtu)')\n",
    "ax2.set_title('SiteEnergyUse vs NumberofFloors')\n",
    "ax2.yaxis.set_major_formatter(FuncFormatter(millions))\n",
    "counts2 = energy_df['NumberofFloors'].value_counts().sort_index()\n",
    "for i, count in enumerate(counts2):\n",
    "    ax2.text(i, 0.05 * max(energy_df['SiteEnergyUse(kBtu)']), str(count), ha='center')\n",
    "\n",
    "\n",
    "plt.tight_layout()\n",
    "plt.show()"
   ]
  },
  {
   "cell_type": "markdown",
   "id": "75f8e829-0c7a-47b2-a7cf-35db753f2d91",
   "metadata": {},
   "source": [
    "**Commentaires :**  \n",
    "La tendance globale est de dire que plus il y a de bâtiments ou d'étages, plus la consommation d'énergie est élevée, avec tout de même de forte variabilité dans certains cas.  \n",
    "Exception sur le bâtiment à 99 étages qui a une consommation très faible, qui doit être un bâtiment à haute performance et doit générer sa propre énergie."
   ]
  },
  {
   "cell_type": "markdown",
   "id": "5aedf91f-6f5d-4745-a9ca-5bcdfa5dd9a3",
   "metadata": {},
   "source": [
    "---\n",
    "#### 1.7.6 - SiteEnergyUse(kBtu) **Vs** `SecondLargestPropertyUseTypeGFA` et `ThirdLargestPropertyUseTypeGFA` :"
   ]
  },
  {
   "cell_type": "code",
   "execution_count": null,
   "id": "194aba8f-0e32-4dbb-8ea0-54fcfff3ea31",
   "metadata": {},
   "outputs": [],
   "source": [
    "# taille de la figure\n",
    "plt.figure(figsize=(14, 6))\n",
    "\n",
    "# scatter plot SecondLargestPropertyUseTypeGFA\n",
    "ax1 = plt.subplot(1, 2, 1)\n",
    "sns.scatterplot(x='SecondLargestPropertyUseTypeGFA', y='SiteEnergyUse(kBtu)', data=energy_df, ax=ax1)\n",
    "ax1.set_xlabel('SecondLargestPropertyUseTypeGFA')\n",
    "ax1.set_ylabel('SiteEnergyUse (kBtu)')\n",
    "ax1.set_title('SiteEnergyUse vs SecondLargestPropertyUseTypeGFA')\n",
    "ax1.xaxis.set_major_formatter(FuncFormatter(millions))\n",
    "ax1.yaxis.set_major_formatter(FuncFormatter(millions))\n",
    "plt.xticks(rotation=45)\n",
    "\n",
    "# scatter plot  ThirdLargestPropertyUseTypeGFA\n",
    "ax2 = plt.subplot(1, 2, 2)\n",
    "sns.scatterplot(x='ThirdLargestPropertyUseTypeGFA', y='SiteEnergyUse(kBtu)', data=energy_df, ax=ax2)\n",
    "ax2.set_xlabel('ThirdLargestPropertyUseTypeGFA')\n",
    "ax2.set_ylabel('SiteEnergyUse (kBtu)')\n",
    "ax2.set_title('SiteEnergyUse vs ThirdLargestPropertyUseTypeGFA')\n",
    "ax2.xaxis.set_major_formatter(FuncFormatter(millions))\n",
    "ax2.yaxis.set_major_formatter(FuncFormatter(millions))\n",
    "plt.xticks(rotation=45)\n",
    "\n",
    "plt.tight_layout()\n",
    "plt.show()"
   ]
  },
  {
   "cell_type": "code",
   "execution_count": null,
   "id": "ca5c5459-4f8c-49fe-8555-90606be557e8",
   "metadata": {},
   "outputs": [],
   "source": [
    "print(f\"Le nombre de bâtiments ayant une Deuxième surface principale d'utilisation surface est : {len(energy_df[energy_df['SecondLargestPropertyUseTypeGFA']>0])}\")\n",
    "print(f\"Le nombre de bâtiments ayant une Troisième surface principale d'utilisation surface est : {len(energy_df[energy_df['ThirdLargestPropertyUseTypeGFA']>0])}\")"
   ]
  },
  {
   "cell_type": "markdown",
   "id": "14814011-f43b-47ff-bb7a-ad143106a8ee",
   "metadata": {},
   "source": [
    "**Commentaires :**  \n",
    "* SiteEnergyUse(kBtu) Vs SecondLargestPropertyUseTypeGFA :\n",
    "Sur les 1369 bâtiments de notre dataset, environ la moitié ont une \"SecondLargestPropertyUseTypeGFA\", sans compter les 0, on peut deviner une légère corrélation entre les variables.  \n",
    "  \n",
    "* SiteEnergyUse(kBtu) Vs ThirdLargestPropertyUseTypeGFA :\n",
    "Peu de bâtiments ont une \"SecondLargestPropertyUseTypeGFA\", avec une variabilité assez forte."
   ]
  },
  {
   "cell_type": "markdown",
   "id": "729b4c61-368d-4814-ad62-2da444a41ec0",
   "metadata": {},
   "source": [
    "---\n",
    "#### 1.7.7 - PropertyGFABuilding(s) Vs SecondLargestPropertyUseTypeGFA :"
   ]
  },
  {
   "cell_type": "code",
   "execution_count": null,
   "id": "ed72faa1-6ddc-4adc-abfb-95b060ff02f3",
   "metadata": {},
   "outputs": [],
   "source": [
    "g = sns.jointplot(data=energy_df, x=\"PropertyGFABuilding(s)\", y=\"SecondLargestPropertyUseTypeGFA\", height=5, ratio=2, marginal_ticks=True)\n",
    "g.fig.set_size_inches(7, 7)\n",
    "plt.setp(g.ax_joint.get_xticklabels(), rotation=45)\n",
    "g.fig.suptitle('SecondLargestPropertyUseTypeGFA Vs PropertyGFABuilding(s)', y=1)  \n",
    "g.ax_joint.set_xlabel('PropertyGFABuilding(s)', fontsize=9)\n",
    "g.ax_joint.set_ylabel('SecondLargestPropertyUseTypeGFA', fontsize=9)\n",
    "g.ax_joint.yaxis.set_major_formatter(FuncFormatter(millions))\n",
    "plt.tight_layout()\n",
    "plt.show()\n",
    "\n",
    "correlation, p_value = pearsonr(energy_df['PropertyGFABuilding(s)'], energy_df['SecondLargestPropertyUseTypeGFA'])\n",
    "print(f'Corrélation de Pearson: {correlation}')\n",
    "print(f'Valeur p: {p_value}')"
   ]
  },
  {
   "cell_type": "markdown",
   "id": "48070f66-7cd9-4b4d-9002-1b574ae67501",
   "metadata": {},
   "source": [
    "**Commentaires :**  \n",
    "Corrélation modérée de 0.556 entre \"PropertyGFABuilding(s)\" et \"SecondLargestPropertyUseTypeGFA\" qui graphiquement se montre très variable :  \n",
    "* Toute une population sur l'axe des abscisses qui n'a qu'1 seule utilisation qui représente la majorité\n",
    "* Les autres avec une variabilité certaine où l'on devine tout de même une certaine corrélation."
   ]
  },
  {
   "cell_type": "markdown",
   "id": "e35ffcce-c79f-4d8c-a27c-b5832a068975",
   "metadata": {},
   "source": [
    "---\n",
    "#### 1.7.8 - Conclusion de l'analyse exploratoire :"
   ]
  },
  {
   "cell_type": "markdown",
   "id": "0d52ae4a-7391-4026-bdea-a68bdb781796",
   "metadata": {},
   "source": [
    "**Ce que l'analyse exploratoire fait ressortir :**\n",
    "* Peu d'information à récupérer sur les features `BuildingType` et `NumberofBuildings`\n",
    "* Corrélation entre la cible et les features :\n",
    "    * `PropertyGFABuilding(s)`\n",
    "* Plus de la moitié des propriétés n'ont qu'un seul usage"
   ]
  },
  {
   "cell_type": "markdown",
   "id": "725068e4-401d-4653-a9e9-0ab1be3e82b9",
   "metadata": {},
   "source": [
    "---\n",
    "---"
   ]
  },
  {
   "cell_type": "markdown",
   "id": "ffa75949-73ad-473c-94dd-4b113787c81b",
   "metadata": {},
   "source": [
    "### 1.8 - Feature engineering : "
   ]
  },
  {
   "cell_type": "markdown",
   "id": "3ba1f78d-a1eb-4f6a-a108-6eca15a22dd0",
   "metadata": {},
   "source": [
    "#### 1.8.1 - Création de nouvelles variables :"
   ]
  },
  {
   "cell_type": "markdown",
   "id": "11714d4a-c0f4-4c0c-ab1f-6bab3c199697",
   "metadata": {},
   "source": [
    "* Age du bâtiment :\n",
    "    * 'BuildingAge' = 2016 - 'YearBuilt'"
   ]
  },
  {
   "cell_type": "code",
   "execution_count": null,
   "id": "91f806fd-2733-4cab-b6c0-5eb026eec206",
   "metadata": {},
   "outputs": [],
   "source": [
    "energy_df['BuildingAge'] = 2016 - energy_df['YearBuilt']"
   ]
  },
  {
   "cell_type": "markdown",
   "id": "bcb932b2-2ba0-47a1-a1c0-2caf4922d0ea",
   "metadata": {},
   "source": [
    "* Ratios énergies consommées :\n",
    "    * Ratio électricité = Electricity(kBtu) / SiteEnergyUse(kBtu)\n",
    "    * Ratio gaz = NaturalGas(kBtu) / SiteEnergyUse(kBtu)\n",
    "    * Ratio vapeur = SteamUse(kBtu) / SiteEnergyUse(kBtu)"
   ]
  },
  {
   "cell_type": "code",
   "execution_count": null,
   "id": "677f65d7-3581-4fe2-a9c0-7063cd73dea2",
   "metadata": {},
   "outputs": [],
   "source": [
    "energy_df['ElectricityRate'] = energy_df['Electricity(kBtu)'] / energy_df['SiteEnergyUse(kBtu)']\n",
    "energy_df['GasRate'] = energy_df['NaturalGas(kBtu)'] / energy_df['SiteEnergyUse(kBtu)']\n",
    "energy_df['SteamRate'] = energy_df['SteamUse(kBtu)'] / energy_df['SiteEnergyUse(kBtu)']"
   ]
  },
  {
   "cell_type": "code",
   "execution_count": null,
   "id": "0d84feed-4a2b-401c-a952-d6b15db8994f",
   "metadata": {},
   "outputs": [],
   "source": [
    "energy_df.head()"
   ]
  },
  {
   "cell_type": "markdown",
   "id": "584a75cd-5cb5-4508-a02e-d3315ac990f2",
   "metadata": {},
   "source": [
    "---\n",
    "#### 1.8.2 - Suppression de features :"
   ]
  },
  {
   "cell_type": "markdown",
   "id": "a9dced19-6643-4e62-93af-7183825ae16f",
   "metadata": {},
   "source": [
    "* 'Electricity(kBtu)'\n",
    "* 'NaturalGas(kBtu)'\n",
    "* 'SteamUse(kBtu)'"
   ]
  },
  {
   "cell_type": "code",
   "execution_count": null,
   "id": "c639a7a9-33c4-4155-ba17-2afd57f59428",
   "metadata": {},
   "outputs": [],
   "source": [
    "energy_df = energy_df.drop(columns=['Electricity(kBtu)', 'NaturalGas(kBtu)', 'SteamUse(kBtu)'])"
   ]
  },
  {
   "cell_type": "markdown",
   "id": "18bc23bf-0878-4c17-a114-6062f1e3d80a",
   "metadata": {},
   "source": [
    "#### 1.8.3 - Renomme la `target` :"
   ]
  },
  {
   "cell_type": "code",
   "execution_count": null,
   "id": "c56dac8c-9837-4710-bc84-5429ce21cfa0",
   "metadata": {},
   "outputs": [],
   "source": [
    "energy_df.rename(columns={'SiteEnergyUse(kBtu)' : 'target'}, inplace = True)"
   ]
  },
  {
   "cell_type": "markdown",
   "id": "daa5bdf5-3bc8-4a6d-97ef-069f6d80d90d",
   "metadata": {},
   "source": [
    "#### 1.8.4 - Exportation :"
   ]
  },
  {
   "cell_type": "markdown",
   "id": "cb1880df-e248-43e6-ac5a-893a3577518f",
   "metadata": {},
   "source": [
    "Exportation en fichier csv."
   ]
  },
  {
   "cell_type": "markdown",
   "id": "2e33e21b-9e55-49ba-ba39-a832fb6fc074",
   "metadata": {},
   "source": [
    "**Export du ficher de l'étape 6 (csv complet) :**"
   ]
  },
  {
   "cell_type": "code",
   "execution_count": null,
   "id": "a3c4566b-c142-4262-aaaa-ead87076b776",
   "metadata": {},
   "outputs": [],
   "source": [
    "energy_df.to_csv('data/cleaned/energy_df_EnergyStarScore.csv')"
   ]
  },
  {
   "cell_type": "markdown",
   "id": "a21149ba-52b7-4235-a58e-f60d7ea6a1cb",
   "metadata": {},
   "source": [
    "**Export du ficher de l'étape 3 (Amélioration FE) :**"
   ]
  },
  {
   "cell_type": "code",
   "execution_count": null,
   "id": "b21024bd-5fd6-4bd1-80df-aac269dbc44f",
   "metadata": {},
   "outputs": [],
   "source": [
    "energy_df = energy_df.drop(columns=['ENERGYSTARScore'])\n",
    "energy_df.to_csv('data/cleaned/energy_df_FE.csv')"
   ]
  },
  {
   "cell_type": "markdown",
   "id": "54971211-378a-44ca-b55e-84a64db33502",
   "metadata": {},
   "source": [
    "**Export du ficher de l'étape 1 (original) :**"
   ]
  },
  {
   "cell_type": "code",
   "execution_count": null,
   "id": "2e883af7-7530-424d-8080-85db318fefa8",
   "metadata": {},
   "outputs": [],
   "source": [
    "energy_df = energy_df.drop(columns=['ListOfAllPropertyUseTypes'])\n",
    "energy_df.to_csv('data/cleaned/energy_df.csv')"
   ]
  },
  {
   "cell_type": "markdown",
   "id": "32bba98c-3177-495d-ba28-9d80ba1f26cb",
   "metadata": {},
   "source": [
    "---\n",
    "---\n",
    "---"
   ]
  },
  {
   "cell_type": "markdown",
   "id": "59bd6514-bce3-4526-9a8f-570176eef263",
   "metadata": {},
   "source": [
    "## Etape 7 : Simulation de la 2ème target"
   ]
  },
  {
   "cell_type": "markdown",
   "id": "f26de284",
   "metadata": {},
   "source": [
    "### 7.1 - Cible 2 - TotalGHGEmissions :"
   ]
  },
  {
   "cell_type": "markdown",
   "id": "d0546761-18b7-4881-acd0-ae2a1ba0a22f",
   "metadata": {},
   "source": [
    "#### 7.1.1 - Sélection des features quantitatifs pertinents pour la cible **TotalGHGEmissions** :"
   ]
  },
  {
   "cell_type": "markdown",
   "id": "6ec8d647",
   "metadata": {},
   "source": [
    "Pour un modèle de ML, il nous faut uniquement des features quantitatifs, je commence par travailler uniquement avec eux."
   ]
  },
  {
   "cell_type": "markdown",
   "id": "12704771",
   "metadata": {},
   "source": [
    "**1. Sélection et visualisation des features quantitatifs :**"
   ]
  },
  {
   "cell_type": "code",
   "execution_count": null,
   "id": "43cd0513",
   "metadata": {},
   "outputs": [],
   "source": [
    "# separation des features qualitatifs et quantitatifs\n",
    "numeric_features_df = compliant_non_residential_df.select_dtypes(include=[np.number])\n",
    "categorical_features_df = compliant_non_residential_df.select_dtypes(exclude=[np.number])\n",
    "\n",
    "numeric_features_df.columns"
   ]
  },
  {
   "cell_type": "markdown",
   "id": "a67bc849-7be1-496d-8d1d-5813e16beaef",
   "metadata": {},
   "source": [
    "Les émissions de CO₂ des bâtiments proviennent principalement de :\n",
    "* l'électricité\n",
    "* le chauffage\n",
    "* la climatisation (gaz réfrigérant)\n",
    "* matériaux de construction\n",
    "\n",
    "---"
   ]
  },
  {
   "cell_type": "markdown",
   "id": "86780e93-6c1b-4db7-a2f2-deb404fec4b5",
   "metadata": {},
   "source": [
    "Les éléments qui peuvent expliquer l'émission totale annuelle de CO₂ sont :\n",
    "* le type d'energie utilisée\n",
    "* l'âge des bâtiments (problèmes d'isolation fera consommer plus d'énergie de chauffage)\n",
    "* le type de bâtiments\n",
    "* le nombre de bâtiments\n",
    "* le nombre d'étages\n",
    "* la superficie totale des bâtiments\n",
    "* la superficie de parking\n",
    "* les usages des propriétés, qui engendreront l'utilisation du chauffage et la climatisation\n"
   ]
  },
  {
   "cell_type": "markdown",
   "id": "3699c315",
   "metadata": {
    "jp-MarkdownHeadingCollapsed": true
   },
   "source": [
    "---\n",
    "---\n",
    "Avec la liste et les éléments ci-dessus, je sélectionne les features qui à mon sens interviennent dans la prédiction de la cible :  \n",
    "* 'YearBuilt'\n",
    "* 'NumberofBuildings'\n",
    "* 'NumberofFloors'\n",
    "* 'PropertyGFABuilding(s)'\n",
    "* 'PropertyGFAParking'\n",
    "* 'SteamUse(kBtu)' --> **transformation vers un binaire : utilisée ou pas**\n",
    "* 'Electricity(kBtu)' --> **transformation vers un binaire : utilisée ou pas**\n",
    "* 'NaturalGas(kBtu)' --> **transformation vers un binaire : utilisée ou pas**"
   ]
  },
  {
   "cell_type": "markdown",
   "id": "a9339b80",
   "metadata": {},
   "source": [
    "Pré-sélection des features pertinents afin de réaliser une corrélation :"
   ]
  },
  {
   "cell_type": "code",
   "execution_count": null,
   "id": "e42267cb",
   "metadata": {},
   "outputs": [],
   "source": [
    "# liste de features pour corrélation\n",
    "targets_numeric_features_list = ['YearBuilt', 'NumberofBuildings', 'NumberofFloors', 'PropertyGFABuilding(s)', 'PropertyGFAParking', 'SteamUse(kBtu)', 'Electricity(kBtu)', 'NaturalGas(kBtu)', 'ENERGYSTARScore']"
   ]
  },
  {
   "cell_type": "markdown",
   "id": "896804fd",
   "metadata": {},
   "source": [
    "**2. Corrélation entre les features :**"
   ]
  },
  {
   "cell_type": "code",
   "execution_count": null,
   "id": "b030e21d",
   "metadata": {},
   "outputs": [],
   "source": [
    "# calcul la matrice de correlation\n",
    "corr_matrix = numeric_features_df[targets_numeric_features_list].corr()\n",
    "mask = np.triu(np.ones_like(corr_matrix, dtype=bool))\n",
    "\n",
    "# afficher la matrice de correlation\n",
    "plt.figure(figsize=(8, 6))\n",
    "sns.heatmap(corr_matrix, fmt='.2f', annot=True, cmap='coolwarm', mask=mask)\n",
    "plt.show()"
   ]
  },
  {
   "cell_type": "markdown",
   "id": "0ea56712",
   "metadata": {},
   "source": [
    "**Commentaires :**  \n",
    "En prenant en compte que la feature `Electricity(kBtu)` sera transformée en binaire, on note des corrélations fortes, mais pas de redondance."
   ]
  },
  {
   "cell_type": "markdown",
   "id": "0b91ed23",
   "metadata": {},
   "source": [
    "**3. Sélection des features quantitatifs de prédiction :**  \n",
    "Création d'une liste des features pertinents"
   ]
  },
  {
   "cell_type": "code",
   "execution_count": null,
   "id": "e8d97d1f",
   "metadata": {},
   "outputs": [],
   "source": [
    "# liste de features pertinents\n",
    "numeric_features_list = ['YearBuilt', 'NumberofBuildings', 'NumberofFloors', 'PropertyGFATotal', 'PropertyGFABuilding(s)', 'PropertyGFAParking', \n",
    "                         'SteamUse(kBtu)', 'Electricity(kBtu)', 'NaturalGas(kBtu)', 'ENERGYSTARScore']"
   ]
  },
  {
   "cell_type": "markdown",
   "id": "24c5b0b7",
   "metadata": {},
   "source": [
    "---\n",
    "#### 7.1.2 - Sélection des features qualitatifs pertinents pour la cible `TotalGHGEmissions`:"
   ]
  },
  {
   "cell_type": "code",
   "execution_count": null,
   "id": "6e437635",
   "metadata": {},
   "outputs": [],
   "source": [
    "categorical_features_df.columns"
   ]
  },
  {
   "cell_type": "markdown",
   "id": "910743d4",
   "metadata": {},
   "source": [
    "* En ayant la latitude et longitude, l'adresse n'est pas nécessaire.  \n",
    "J'ai déjà filtré les colonnes \"Outlier\" et \"ComplianceStatus\", elles ne sont donc pas à garder."
   ]
  },
  {
   "cell_type": "code",
   "execution_count": null,
   "id": "9a01fc69",
   "metadata": {},
   "outputs": [],
   "source": [
    "categorical_features_df.describe()"
   ]
  },
  {
   "cell_type": "markdown",
   "id": "1f989d28",
   "metadata": {},
   "source": [
    "Les colonnes avec 1 seule valeur unique n'ont pas d'intérêt (comme \"City\", \"State\",...)  \n",
    "**Je garde les features catégoriques pertinents suivants :**\n",
    "* BuildingType\n",
    "* PrimaryPropertyType\n",
    "* LargestPropertyUseType\n",
    "* SecondLargestPropertyUseType\n",
    "* ThirdLargestPropertyUseType"
   ]
  },
  {
   "cell_type": "code",
   "execution_count": null,
   "id": "5c2919e4",
   "metadata": {},
   "outputs": [],
   "source": [
    "pertinent_categorical_features_list = ['BuildingType', 'PrimaryPropertyType', 'LargestPropertyUseType',\t'SecondLargestPropertyUseType',\t'ThirdLargestPropertyUseType']"
   ]
  },
  {
   "cell_type": "markdown",
   "id": "8123480e-d90b-433b-8b63-3f30da73adc9",
   "metadata": {},
   "source": [
    "---\n",
    "#### 7.1.3 - Analyse et traitement des manquants des features de la cible 2 :"
   ]
  },
  {
   "cell_type": "markdown",
   "id": "4d034b39-45f7-4da1-8bb5-1902e680ead8",
   "metadata": {},
   "source": [
    "Création du Dataframe de la première target et ses features pertinents :"
   ]
  },
  {
   "cell_type": "code",
   "execution_count": null,
   "id": "2d9032e5-234d-4c56-a071-0663d8e2193d",
   "metadata": {},
   "outputs": [],
   "source": [
    "target_2_list = ['TotalGHGEmissions'] + numeric_features_list + pertinent_categorical_features_list\n",
    "ghg_df = compliant_non_residential_df[target_2_list]"
   ]
  },
  {
   "cell_type": "code",
   "execution_count": null,
   "id": "dbdb7458-36e5-4979-a5d1-a89978abdd5f",
   "metadata": {},
   "outputs": [],
   "source": [
    "ghg_df.head()"
   ]
  },
  {
   "cell_type": "markdown",
   "id": "42c16595-176c-49d2-8d80-e53a8db8f351",
   "metadata": {},
   "source": [
    "**Analyse des manquants :**"
   ]
  },
  {
   "cell_type": "code",
   "execution_count": null,
   "id": "566c614f-9b3f-4236-b4f8-5640d55e7734",
   "metadata": {},
   "outputs": [],
   "source": [
    "ghg_df.isnull().sum()"
   ]
  },
  {
   "cell_type": "markdown",
   "id": "1b5e712e-3707-43dc-bcb9-a5ddf7fc655d",
   "metadata": {},
   "source": [
    "Des manquants sur 4 features."
   ]
  },
  {
   "cell_type": "markdown",
   "id": "d2385f08-73b3-4c5e-b08a-294b503ee4a9",
   "metadata": {},
   "source": [
    "**A - Feature : `LargestPropertyUseType`**"
   ]
  },
  {
   "cell_type": "code",
   "execution_count": null,
   "id": "8f338f23-53aa-4126-850b-7338e47f1219",
   "metadata": {},
   "outputs": [],
   "source": [
    "ghg_df['LargestPropertyUseType'].describe()"
   ]
  },
  {
   "cell_type": "code",
   "execution_count": null,
   "id": "079d5711-2ad7-4cee-a2f5-47d8f3060982",
   "metadata": {},
   "outputs": [],
   "source": [
    "ghg_df['LargestPropertyUseType'].value_counts(dropna=False)"
   ]
  },
  {
   "cell_type": "code",
   "execution_count": null,
   "id": "efd59511-1e6e-4db2-b82d-c3c0f8b1a226",
   "metadata": {},
   "outputs": [],
   "source": [
    "ghg_null = ghg_df[ghg_df['LargestPropertyUseType'].isnull()]\n",
    "ghg_null"
   ]
  },
  {
   "cell_type": "markdown",
   "id": "ad844af2-d26b-49f9-a677-06cb0ab4bd78",
   "metadata": {},
   "source": [
    "On peut voir dans la feature \"PrimaryPropertyType\" le type d'utilisation principale, je vais imputer en fonction des ces données :\n",
    "* Index 353 ==> Self-Storage Facility\n",
    "* Index 1147 ==> Hotel\n",
    "* Index 2414 ==> Office\n",
    "* Index 2459 ==> Restaurant"
   ]
  },
  {
   "cell_type": "markdown",
   "id": "a060998c-7fcd-4be6-9a9d-e268005de9af",
   "metadata": {},
   "source": [
    "Remplacement des NAN :"
   ]
  },
  {
   "cell_type": "code",
   "execution_count": null,
   "id": "480e6b0a-a517-4cf7-835d-a1625a6457b9",
   "metadata": {},
   "outputs": [],
   "source": [
    "# remplacement des NAN par des valeurs métiers\n",
    "ghg_df.at[353, 'LargestPropertyUseType'] = 'Self-Storage Facility'\n",
    "ghg_df.at[1147, 'LargestPropertyUseType'] = 'Hotel'\n",
    "ghg_df.at[2414, 'LargestPropertyUseType'] = 'Office'\n",
    "ghg_df.at[2459, 'LargestPropertyUseType'] = 'Restaurant'"
   ]
  },
  {
   "cell_type": "code",
   "execution_count": null,
   "id": "367f004b-56e1-48b6-8539-cfb804616e1e",
   "metadata": {},
   "outputs": [],
   "source": [
    "ghg_df['LargestPropertyUseType'].isnull().sum()"
   ]
  },
  {
   "cell_type": "markdown",
   "id": "be671851-4abc-4b80-8722-06b8bb2f46fa",
   "metadata": {},
   "source": [
    "**B - Features : `'SecondLargestPropertyUseType', 'ThirdLargestPropertyUseType'`**"
   ]
  },
  {
   "cell_type": "markdown",
   "id": "cdca96e4-d62d-4453-aa01-12a4422f32b1",
   "metadata": {},
   "source": [
    "Les manquants des ces features sont de type **`NMAR`**, ils sont manquants car il n'y a pas de deuxième ou troisième usage.  \n",
    "Stratégie d'imputation :\n",
    "* Features qualitatifs --> \"Not concerned\""
   ]
  },
  {
   "cell_type": "code",
   "execution_count": null,
   "id": "498b8837-8256-41b6-b5f6-ccff32d97a4b",
   "metadata": {},
   "outputs": [],
   "source": [
    "for feature in ['SecondLargestPropertyUseType', 'ThirdLargestPropertyUseType']:\n",
    "    ghg_df.loc[:,feature] = ghg_df[feature].fillna('Not concerned')"
   ]
  },
  {
   "cell_type": "markdown",
   "id": "ba82046f-baf3-48d1-94df-bb02ec4388b4",
   "metadata": {},
   "source": [
    "**Vérification des manquants :**"
   ]
  },
  {
   "cell_type": "code",
   "execution_count": null,
   "id": "326d7aef-a17e-4dc0-b09c-7c748058f53d",
   "metadata": {},
   "outputs": [],
   "source": [
    "ghg_df.isnull().sum()"
   ]
  },
  {
   "cell_type": "code",
   "execution_count": null,
   "id": "5e7223e7-90c4-4169-b12c-5c33643ffba1",
   "metadata": {},
   "outputs": [],
   "source": [
    "ghg_df.ENERGYSTARScore.isnull().sum() / len(ghg_df)"
   ]
  },
  {
   "cell_type": "markdown",
   "id": "90d5b741-c63d-422a-ab71-bc9a309028e7",
   "metadata": {},
   "source": [
    "La feature `ENERGYSTARScore` contient 35% de manquants.  \n",
    "Ils seront traités lors du preprocessor du Pipeline."
   ]
  },
  {
   "cell_type": "markdown",
   "id": "35e095c7",
   "metadata": {},
   "source": [
    "---\n",
    "---\n",
    "### 7.2 - Analyse Univariée de la cible `TotalGHGEmissions` et ses features sélectionnés :"
   ]
  },
  {
   "cell_type": "markdown",
   "id": "537d1f3e",
   "metadata": {},
   "source": [
    "#### 7.2.1 - Analyse exploratoire de la cible 2 : **\"TotalGHGEmissions\"**"
   ]
  },
  {
   "cell_type": "markdown",
   "id": "606c4bbb",
   "metadata": {},
   "source": [
    "**Statistiques descriptives :**"
   ]
  },
  {
   "cell_type": "code",
   "execution_count": null,
   "id": "f4c36c1d",
   "metadata": {},
   "outputs": [],
   "source": [
    "ghg_df['TotalGHGEmissions'].describe()"
   ]
  },
  {
   "cell_type": "markdown",
   "id": "32554e05",
   "metadata": {},
   "source": [
    "**Analyse des manquants :**"
   ]
  },
  {
   "cell_type": "code",
   "execution_count": null,
   "id": "71f2f1dc",
   "metadata": {},
   "outputs": [],
   "source": [
    "ghg_df['TotalGHGEmissions'].isnull().sum()"
   ]
  },
  {
   "cell_type": "markdown",
   "id": "7a16122a",
   "metadata": {},
   "source": [
    "Pas de manquants de la target 2."
   ]
  },
  {
   "cell_type": "markdown",
   "id": "7b054af8",
   "metadata": {},
   "source": [
    "**Aperçu des données de la cible dans un nuage de points et histogramme :**"
   ]
  },
  {
   "cell_type": "code",
   "execution_count": null,
   "id": "a51e47be",
   "metadata": {},
   "outputs": [],
   "source": [
    "scatterplot_html(ghg_df, 'TotalGHGEmissions', 'Nuage de points de la Target : TotalGHGEmissions', 'graphs/ghg_scatplot.html', log=True)"
   ]
  },
  {
   "cell_type": "code",
   "execution_count": null,
   "id": "720965bf",
   "metadata": {},
   "outputs": [],
   "source": [
    "# affichage HTML du graphique à partir du dossier graphs/ pour ne pas le sauvegarder sur le notebook (trop volumineux)\n",
    "html_ghg_scatplot = \"graphs/ghg_scatplot.html\"\n",
    "IFrame(src=html_ghg_scatplot, width=800, height=500)"
   ]
  },
  {
   "cell_type": "code",
   "execution_count": null,
   "id": "01064e97",
   "metadata": {},
   "outputs": [],
   "source": [
    "hist = ghg_df['TotalGHGEmissions'].hist(figsize=(10,5), bins=100, log=True)\n",
    "hist.yaxis.set_major_formatter(FuncFormatter(format_func))\n",
    "hist.xaxis.set_major_formatter(FuncFormatter(format_func))"
   ]
  },
  {
   "cell_type": "markdown",
   "id": "cda386b2",
   "metadata": {},
   "source": [
    "**Commentaires :**  \n",
    "* Distribution asymétrique\n",
    "* Des outliers très grands\n",
    "* La moyenne est proche de 200t et 75% des propriétés émettent moins de 150t de CO₂ à l'année.\n",
    "* Certainement de grosses usines qui émettent jusqu'à presque 17000t de CO2/an."
   ]
  },
  {
   "cell_type": "markdown",
   "id": "9c81413c",
   "metadata": {},
   "source": [
    "---\n",
    "#### 7.2.2 - Traitement des outliers de la cible 2 : **\"TotalGHGEmissions\"**"
   ]
  },
  {
   "cell_type": "markdown",
   "id": "afaee0d3",
   "metadata": {},
   "source": [
    "Avec les renseignements récupérés précédemment, le traitement adéquat des outliers est la méthode par l'IQR."
   ]
  },
  {
   "cell_type": "markdown",
   "id": "aa0b7878",
   "metadata": {},
   "source": [
    "**Visualisation des outliers avec la méthode de l'écart interquartile :**  \n",
    "* seuils **interquartiles** (IQR) : en général les valeurs en dehors 1,5 fois l'IQR =>  $x < Q1 - 1.5 \\times IQR \\text{ ou } x > Q3 + 1.5 \\times IQR$"
   ]
  },
  {
   "cell_type": "code",
   "execution_count": null,
   "id": "c7b33c58",
   "metadata": {},
   "outputs": [],
   "source": [
    "# fonction calculs methode IQR\n",
    "iqr_method(ghg_df, 'TotalGHGEmissions', 'Boxplot of TotalGHGEmissions', 'graphs/ghg_iqr.html', log=True)"
   ]
  },
  {
   "cell_type": "code",
   "execution_count": null,
   "id": "06efac48",
   "metadata": {},
   "outputs": [],
   "source": [
    "# affichage HTML du graphique à partir du dossier graphs/ pour ne pas le sauvegarder sur le notebook (trop volumineux)\n",
    "html_ghg_iqr = \"graphs/ghg_iqr.html\"\n",
    "IFrame(src=html_ghg_iqr, width=800, height=600)"
   ]
  },
  {
   "cell_type": "markdown",
   "id": "72306e6f",
   "metadata": {},
   "source": [
    "**Isolement des Outliers  :**  \n",
    "Je créé un dataframe avec mes outliers séparés pour potentiellement les utiliser plus tard."
   ]
  },
  {
   "cell_type": "code",
   "execution_count": null,
   "id": "42777101-b068-408c-bd27-08d9430aa010",
   "metadata": {},
   "outputs": [],
   "source": [
    "# calcul des q1 et q3\n",
    "q1 = ghg_df['TotalGHGEmissions'].quantile(0.25)\n",
    "q3 = ghg_df['TotalGHGEmissions'].quantile(0.75)\n",
    "IQR = q3 - q1\n",
    "\n",
    "# calcul des seuils\n",
    "HQ3_level = q3 + (1.5 * IQR)\n",
    "LQ1_level = q1 - (1.5 * IQR)\n",
    "\n",
    "# dataframes\n",
    "isolate_outliers_target_ghg = ghg_df[(ghg_df['TotalGHGEmissions'] > HQ3_level) | (ghg_df['TotalGHGEmissions'] < LQ1_level)]\n",
    "ghg_df = ghg_df[(ghg_df['TotalGHGEmissions'] <= HQ3_level) & (ghg_df['TotalGHGEmissions'] >= LQ1_level)]"
   ]
  },
  {
   "cell_type": "markdown",
   "id": "aa3263e4-1a50-4e47-a450-e893f626a120",
   "metadata": {},
   "source": [
    "---"
   ]
  },
  {
   "cell_type": "markdown",
   "id": "f1f51568-e8f0-46a8-8a40-1ac1ba7b5d8f",
   "metadata": {},
   "source": [
    "**Traitement des valeurs négatives :**"
   ]
  },
  {
   "cell_type": "code",
   "execution_count": null,
   "id": "735291d6-b330-46ea-a86a-cdc0a2d2ce56",
   "metadata": {},
   "outputs": [],
   "source": [
    "ghg_df[ghg_df['TotalGHGEmissions']<=0]"
   ]
  },
  {
   "cell_type": "markdown",
   "id": "98ce07d6-e84b-461f-b536-6d62dfa8ef84",
   "metadata": {},
   "source": [
    "**Ces 2 lignes sont traitées plus bas dans ce Notebook, section traitement des valeurs d' `Electricity(kBtu)`.**"
   ]
  },
  {
   "cell_type": "markdown",
   "id": "aaef65fb-004b-40a2-8786-72a51583fda9",
   "metadata": {},
   "source": [
    "---"
   ]
  },
  {
   "cell_type": "markdown",
   "id": "471552cf-7cba-41cc-b11c-af003ec299c1",
   "metadata": {},
   "source": [
    "#### 7.2.3 - Analyse exploratoire des Features de la Target 2 :"
   ]
  },
  {
   "cell_type": "markdown",
   "id": "3a4fdf5a",
   "metadata": {},
   "source": [
    "**Statistiques descriptives :**"
   ]
  },
  {
   "cell_type": "code",
   "execution_count": null,
   "id": "e677cc1a",
   "metadata": {},
   "outputs": [],
   "source": [
    "ghg_df.iloc[:,1:].describe()"
   ]
  },
  {
   "cell_type": "code",
   "execution_count": null,
   "id": "ebb6444b",
   "metadata": {},
   "outputs": [],
   "source": [
    "ghg_df.describe(include='object')"
   ]
  },
  {
   "cell_type": "markdown",
   "id": "edcf2ba3",
   "metadata": {},
   "source": [
    "---"
   ]
  },
  {
   "cell_type": "markdown",
   "id": "03e3c657",
   "metadata": {},
   "source": [
    "##### **Traitement des valeurs incohérentes :**"
   ]
  },
  {
   "cell_type": "markdown",
   "id": "9c560644",
   "metadata": {},
   "source": [
    "**1 - Feature : NumberofBuildings**"
   ]
  },
  {
   "cell_type": "markdown",
   "id": "1abf3783",
   "metadata": {},
   "source": [
    "Certaines propriétés avec 0 bâtiment."
   ]
  },
  {
   "cell_type": "code",
   "execution_count": null,
   "id": "7143c25a",
   "metadata": {},
   "outputs": [],
   "source": [
    "# compte le nombre de lignes a 0\n",
    "ghg_df[ghg_df['NumberofBuildings'] == 0].shape[0]"
   ]
  },
  {
   "cell_type": "code",
   "execution_count": null,
   "id": "b493eb56",
   "metadata": {},
   "outputs": [],
   "source": [
    "ghg_df['NumberofBuildings'].value_counts()"
   ]
  },
  {
   "cell_type": "markdown",
   "id": "74ad4c79",
   "metadata": {},
   "source": [
    "Je remplace le '0' bâtiment par '1' :"
   ]
  },
  {
   "cell_type": "code",
   "execution_count": null,
   "id": "e05cb171",
   "metadata": {},
   "outputs": [],
   "source": [
    "# remplacer les valeurs  0 par 1 \n",
    "ghg_df.loc[ghg_df['NumberofBuildings'] == 0, 'NumberofBuildings'] = 1\n",
    "\n",
    "# verification du nombre de lignes modifiees\n",
    "print(\"Nombre de lignes modifiées :\", ghg_df[ghg_df['NumberofBuildings'] == 1].shape[0] - 1302)"
   ]
  },
  {
   "cell_type": "markdown",
   "id": "77c1750d-8952-4a16-9d42-7cb362b5cb3a",
   "metadata": {},
   "source": [
    "Allure de la distribution :"
   ]
  },
  {
   "cell_type": "code",
   "execution_count": null,
   "id": "d6acdb49-5a2d-43c1-9d0f-9c0334d1cf9c",
   "metadata": {},
   "outputs": [],
   "source": [
    "plot_categorical_distribution(ghg_df, 'NumberofBuildings', (6,5))"
   ]
  },
  {
   "cell_type": "markdown",
   "id": "a96bfd9b-9c72-4dd8-9c75-324884635205",
   "metadata": {},
   "source": [
    "**Commentaires :**  \n",
    "Grande majorité des propriétés avec 1 batiment."
   ]
  },
  {
   "cell_type": "markdown",
   "id": "56c7c65e-fc4e-4ac1-a8d7-00bda1f4f2a1",
   "metadata": {},
   "source": [
    "---"
   ]
  },
  {
   "cell_type": "markdown",
   "id": "30ef1a33-a155-4a7a-a4d7-ce6d94723199",
   "metadata": {},
   "source": [
    "**2 - Feature : NumberofFloors**"
   ]
  },
  {
   "cell_type": "code",
   "execution_count": null,
   "id": "3449d30a-daca-4b77-87cb-d5332dbb8efc",
   "metadata": {},
   "outputs": [],
   "source": [
    "# compte le nombre de lignes a 0\n",
    "ghg_df[ghg_df['NumberofFloors'] == 0].shape[0]"
   ]
  },
  {
   "cell_type": "code",
   "execution_count": null,
   "id": "53d29cdb-be9e-48c9-8e39-2d845b638933",
   "metadata": {},
   "outputs": [],
   "source": [
    "floors_null = ghg_df[ghg_df['NumberofFloors'] == 0]\n",
    "floors_null"
   ]
  },
  {
   "cell_type": "markdown",
   "id": "85516989-fd1c-41e1-acbc-a83ce141d0e8",
   "metadata": {},
   "source": [
    "Sur les 7 lignes, 3 propriétés \"Residence Hall/Dormitory\" ont peu de chances de n'avoir qu'un seul étage je préfère donc les supprimer.  \n",
    "Les 4 autres ont de fortes chances de n'avoir qu'un seul étage, je remplace la valeur par '1'."
   ]
  },
  {
   "cell_type": "code",
   "execution_count": null,
   "id": "4da3cfb9-4127-4753-934a-92514120e42d",
   "metadata": {},
   "outputs": [],
   "source": [
    "floors_list = floors_null.index[0:4].to_list()\n",
    "for i in floors_list:\n",
    "    ghg_df.at[i, 'NumberofFloors'] = 1"
   ]
  },
  {
   "cell_type": "code",
   "execution_count": null,
   "id": "4412cd85-9c09-4565-be67-c74eef85f57a",
   "metadata": {},
   "outputs": [],
   "source": [
    "ghg_df = ghg_df[ghg_df['NumberofFloors'] != 0]"
   ]
  },
  {
   "cell_type": "code",
   "execution_count": null,
   "id": "73992555-f0c1-4243-bfd0-5c3d8adb08a1",
   "metadata": {},
   "outputs": [],
   "source": [
    "ghg_df[ghg_df['NumberofFloors'] == 0]"
   ]
  },
  {
   "cell_type": "markdown",
   "id": "efe60e31-fde7-4fdb-a113-435a4698958f",
   "metadata": {},
   "source": [
    "---\n",
    "**3 - Features  `SteamUse(kBtu)` et `NaturalGas(kBtu)`**"
   ]
  },
  {
   "cell_type": "markdown",
   "id": "40832405-2c9e-4728-9228-3bee130726bb",
   "metadata": {},
   "source": [
    "Ces features possèdent des valeurs minimales à 0, mais cela est cohérent, tous les bâtiments ne sont pas équipés au Gaz Naturel ou à la Vapeur."
   ]
  },
  {
   "cell_type": "markdown",
   "id": "8ac889dc-bdcf-4540-a994-43b42482897d",
   "metadata": {},
   "source": [
    "---\n",
    "**4 - Feature `Electricity(kBtu)` :**"
   ]
  },
  {
   "cell_type": "code",
   "execution_count": null,
   "id": "c80780ee-a9eb-48c9-a879-abbbbcf3863d",
   "metadata": {},
   "outputs": [],
   "source": [
    "ghg_df[ghg_df['Electricity(kBtu)'] <= 0]"
   ]
  },
  {
   "cell_type": "markdown",
   "id": "b01b342a-75d5-4a3f-87ef-23704cfbfe36",
   "metadata": {},
   "source": [
    "* Index 513 : pas de relevés de Vapeur, consommation d'électricité et gaz. On ne peut pas deviner quelles énergies sont consommées ni a quelles proportions ==> **suppression de la ligne**\n",
    "\n",
    "* Index 3206 : consomation électrique négative. Ce bâtiment est en fait célèbre pour générer plus d'énergie qu'il n'en consomme (*voir encadré ci-dessous),  \n",
    "             nous sommes donc sur des valeurs réelles mais entitée atypique ==> **suppression de la ligne**  "
   ]
  },
  {
   "attachments": {
    "cc884505-704e-4a8b-af92-43d31fe4825f.png": {
     "image/png": "[encoded data removed]"
    }
   },
   "cell_type": "markdown",
   "id": "b67cf5be-7b6f-4346-a50b-9e49bbaf569d",
   "metadata": {},
   "source": [
    "![image.png](attachment:cc884505-704e-4a8b-af92-43d31fe4825f.png)"
   ]
  },
  {
   "cell_type": "code",
   "execution_count": null,
   "id": "1669d4bf-c9d5-486a-a397-279f081f093d",
   "metadata": {},
   "outputs": [],
   "source": [
    "# suppression des lignes ayant 0 ou moins en consommation electrique\n",
    "mask = ghg_df['Electricity(kBtu)'] > 0\n",
    "ghg_df = ghg_df[mask]"
   ]
  },
  {
   "cell_type": "markdown",
   "id": "9ede0c53",
   "metadata": {},
   "source": [
    "---\n",
    "**5 - Feature `BuildingType` :**"
   ]
  },
  {
   "cell_type": "markdown",
   "id": "7836d419",
   "metadata": {},
   "source": [
    "Je vérifie le contenu de la variable et adapte les catégories :"
   ]
  },
  {
   "cell_type": "code",
   "execution_count": null,
   "id": "4a60e072",
   "metadata": {},
   "outputs": [],
   "source": [
    "ghg_df['BuildingType'].value_counts()"
   ]
  },
  {
   "cell_type": "code",
   "execution_count": null,
   "id": "e827aefe",
   "metadata": {},
   "outputs": [],
   "source": [
    "ghg_df[ghg_df['BuildingType'] == 'Nonresidential WA']"
   ]
  },
  {
   "cell_type": "markdown",
   "id": "c0e7fc6a",
   "metadata": {},
   "source": [
    "Je passe ligne en \"buildingType\" = Campus"
   ]
  },
  {
   "cell_type": "code",
   "execution_count": null,
   "id": "d8985a89",
   "metadata": {},
   "outputs": [],
   "source": [
    "ghg_df.loc[ghg_df['BuildingType'] == 'Nonresidential WA', 'BuildingType'] = 'Campus'"
   ]
  },
  {
   "cell_type": "code",
   "execution_count": null,
   "id": "991f9b67",
   "metadata": {},
   "outputs": [],
   "source": [
    "ghg_df['BuildingType'].value_counts()"
   ]
  },
  {
   "cell_type": "code",
   "execution_count": null,
   "id": "416b5a36-b823-4bd1-9ed1-a3d7ef18b307",
   "metadata": {},
   "outputs": [],
   "source": [
    "plot_categorical_distribution(ghg_df, 'BuildingType', (6,6))"
   ]
  },
  {
   "cell_type": "markdown",
   "id": "3106746e",
   "metadata": {},
   "source": [
    "---\n",
    "**6 - Feature `PrimaryPropertyType` :**"
   ]
  },
  {
   "cell_type": "markdown",
   "id": "b464bbdc",
   "metadata": {},
   "source": [
    "Je vérifie le contenu de la variable :"
   ]
  },
  {
   "cell_type": "code",
   "execution_count": null,
   "id": "93d74140",
   "metadata": {},
   "outputs": [],
   "source": [
    "ghg_df['PrimaryPropertyType'].value_counts()"
   ]
  },
  {
   "cell_type": "code",
   "execution_count": null,
   "id": "c6a4e9bc-0d5a-4dcd-9f6a-c93252a8f595",
   "metadata": {},
   "outputs": [],
   "source": [
    "plot_categorical_distribution(ghg_df, 'PrimaryPropertyType', (12,6))"
   ]
  },
  {
   "cell_type": "code",
   "execution_count": null,
   "id": "2ec70736-88df-4bb2-949f-9eda240b3119",
   "metadata": {},
   "outputs": [],
   "source": [
    "print(f\"Nombre de catégories dans le feature : {ghg_df['PrimaryPropertyType'].nunique()}\")"
   ]
  },
  {
   "cell_type": "markdown",
   "id": "3087392b-440f-4300-bb17-77e5b28676f1",
   "metadata": {},
   "source": [
    "**Commentaires :**  \n",
    "Une majorité de petits et moyens bureaux avec presque 21%, une part importante d'entrepôts \"warehouse\" avec 13%, suivi de 11% de grands bureaux.  \n",
    "C'est une ville active avec beaucoup de bureaux, et presque 4% d'hôtels qui laisse imaginer beaucoup de voyages d'affaires."
   ]
  },
  {
   "cell_type": "markdown",
   "id": "a591efe3-877f-4fae-9f2e-7fac602decd4",
   "metadata": {},
   "source": [
    "---\n",
    "**7 - Feature `LargestPropertyUseType` :**"
   ]
  },
  {
   "cell_type": "markdown",
   "id": "327b96f7-2e7f-4d78-bfd4-8ff7a0427a8a",
   "metadata": {},
   "source": [
    "Je vérifie le contenu de la variable :"
   ]
  },
  {
   "cell_type": "code",
   "execution_count": null,
   "id": "812eae88-420b-44de-a7bc-04aa6de38486",
   "metadata": {},
   "outputs": [],
   "source": [
    "ghg_df['LargestPropertyUseType'].value_counts()"
   ]
  },
  {
   "cell_type": "markdown",
   "id": "bf58dec7-b05a-47c8-bb1f-05790371e48e",
   "metadata": {},
   "source": [
    "**Regroupement :**\n",
    "Je réalise un groupement des catégories :"
   ]
  },
  {
   "cell_type": "code",
   "execution_count": null,
   "id": "b06df247-17c7-491f-a774-d10da76539a1",
   "metadata": {},
   "outputs": [],
   "source": [
    "# creation dictionnaire pour categoriser certaines donnees\n",
    "mapping = {\n",
    "    'Residence Hall/Dormitory': 'Residential',\n",
    "    'Multifamily Housing': 'Residential',\n",
    "    'Other - Lodging/Residential': 'Residential',\n",
    "    'K-12 School': 'Education',\n",
    "    'College/University': 'Education',\n",
    "    'Pre-school/Daycare': 'Education',\n",
    "    'Other - Education': 'Education',\n",
    "    'Urgent Care/Clinic/Other Outpatient': 'Hospital',\n",
    "    'Hospital (General Medical & Surgical)': 'Hospital',\n",
    "    'Other/Specialty Hospital': 'Hospital',\n",
    "    'Strip Mall': 'Mall',\n",
    "    'Supermarket/Grocery Store': 'Mall',\n",
    "    'Other - Mall': 'Mall',\n",
    "    'Performing Arts': 'Entertainment',\n",
    "    'Other - Entertainment/Public Assembly': 'Entertainment',\n",
    "    'Restaurant': 'Restaurant',\n",
    "    'Other - Restaurant/Bar': 'Restaurant',\n",
    "    'Personal Services (Health/Beauty, Dry Cleaning, etc)': 'Services',\n",
    "    'Repair Services (Vehicle, Shoe, Locksmith, etc)': 'Services',\n",
    "    'Other - Services': 'Services',\n",
    "}"
   ]
  },
  {
   "cell_type": "code",
   "execution_count": null,
   "id": "d753b846-3718-414f-a2d5-1c1bf84d338c",
   "metadata": {},
   "outputs": [],
   "source": [
    "ghg_df['LargestPropertyUseType'] = ghg_df['LargestPropertyUseType'].replace(mapping)\n",
    "ghg_df['LargestPropertyUseType'].value_counts()"
   ]
  },
  {
   "cell_type": "code",
   "execution_count": null,
   "id": "cea4e8d5-f2ab-4377-a394-5bab43c3e7a0",
   "metadata": {},
   "outputs": [],
   "source": [
    "plot_categorical_distribution(ghg_df, 'LargestPropertyUseType', (18,6), log=True)"
   ]
  },
  {
   "cell_type": "code",
   "execution_count": null,
   "id": "cc882432-fcba-48d9-b9f6-2c9f9fe465cb",
   "metadata": {},
   "outputs": [],
   "source": [
    "print(f\"Nombre de catégories dans le feature : {ghg_df['LargestPropertyUseType'].nunique()}\")"
   ]
  },
  {
   "cell_type": "markdown",
   "id": "612708d6-9d55-4366-bce4-e7b14dc45171",
   "metadata": {},
   "source": [
    "**Commentaires :**  \n",
    "Une majorité de bureaux, presque 1/3.  \n",
    "Grande variété de catégories avec beaucoup de faible fréquence."
   ]
  },
  {
   "cell_type": "markdown",
   "id": "c262585e-578b-4805-8798-e08b037bbadb",
   "metadata": {},
   "source": [
    "---\n",
    "**8 - Feature `SecondLargestPropertyUseType` :**"
   ]
  },
  {
   "cell_type": "markdown",
   "id": "852bf368-2099-4231-a9fe-52914267143e",
   "metadata": {},
   "source": [
    "Je vérifie le contenu de la variable :"
   ]
  },
  {
   "cell_type": "code",
   "execution_count": null,
   "id": "63c93b98-73f0-461c-910c-f273fb525b5e",
   "metadata": {},
   "outputs": [],
   "source": [
    "ghg_df['SecondLargestPropertyUseType'].value_counts()"
   ]
  },
  {
   "cell_type": "code",
   "execution_count": null,
   "id": "8553af0d-1043-41cf-b6ad-fc88deabeab4",
   "metadata": {},
   "outputs": [],
   "source": [
    "plot_categorical_distribution(ghg_df, 'SecondLargestPropertyUseType', (20,7), log=True)"
   ]
  },
  {
   "cell_type": "code",
   "execution_count": null,
   "id": "a52aef8a-99bd-48a6-96db-5dfd0928572f",
   "metadata": {},
   "outputs": [],
   "source": [
    "print(f\"Nombre de catégories dans le feature : {ghg_df['SecondLargestPropertyUseType'].nunique()}\")"
   ]
  },
  {
   "cell_type": "markdown",
   "id": "01e51acb-c469-4db3-916c-619423f0096a",
   "metadata": {},
   "source": [
    "**Commentaires :**  \n",
    "Presque la moitié des propriétés n'ont qu'un seul usage (46% n'ont pas de 2ème usage)"
   ]
  },
  {
   "cell_type": "markdown",
   "id": "4c3baaf0-ed0c-4fb4-8185-3fe4a4907d58",
   "metadata": {},
   "source": [
    "---\n",
    "**9 - Feature `ThirdLargestPropertyUseType` :**"
   ]
  },
  {
   "cell_type": "markdown",
   "id": "01dc741f-cc7b-4e22-a510-955dd80508a7",
   "metadata": {},
   "source": [
    "Je vérifie le contenu de la variable :"
   ]
  },
  {
   "cell_type": "code",
   "execution_count": null,
   "id": "91d3357c-dda1-400c-9ca7-81b136c1a14e",
   "metadata": {},
   "outputs": [],
   "source": [
    "ghg_df['ThirdLargestPropertyUseType'].value_counts()"
   ]
  },
  {
   "cell_type": "code",
   "execution_count": null,
   "id": "f7cf0ea8-dcdd-4ce5-aa5b-190ecb60f85a",
   "metadata": {},
   "outputs": [],
   "source": [
    "plot_categorical_distribution(ghg_df, 'ThirdLargestPropertyUseType', (15,7), log=True)"
   ]
  },
  {
   "cell_type": "code",
   "execution_count": null,
   "id": "96e5e1a1-ffcb-4514-bbe9-d010ae747c9b",
   "metadata": {},
   "outputs": [],
   "source": [
    "print(f\"Nombre de catégories dans le feature : {ghg_df['ThirdLargestPropertyUseType'].nunique()}\")"
   ]
  },
  {
   "cell_type": "markdown",
   "id": "b0adf038-0141-451e-9cf3-2bc6c6679f0f",
   "metadata": {},
   "source": [
    "**Commentaires :**  \n",
    "Presque 80% des propriétés n'ont pas de troisième usage, les autres 20% sont partagés sur 33 catégories."
   ]
  },
  {
   "cell_type": "markdown",
   "id": "d785c8b8",
   "metadata": {},
   "source": [
    "---\n",
    "**Visualisation des features quantitatifs :**"
   ]
  },
  {
   "cell_type": "code",
   "execution_count": null,
   "id": "cdbe95b9",
   "metadata": {},
   "outputs": [],
   "source": [
    "ghg_df.columns"
   ]
  },
  {
   "cell_type": "code",
   "execution_count": null,
   "id": "f079c68c",
   "metadata": {},
   "outputs": [],
   "source": [
    "boxplot_cols = ['PropertyGFABuilding(s)', 'SteamUse(kBtu)', 'Electricity(kBtu)', 'NaturalGas(kBtu)', 'ENERGYSTARScore']\n",
    "hist_cols = ['BuildingType', 'YearBuilt','NumberofBuildings', 'NumberofFloors']"
   ]
  },
  {
   "cell_type": "code",
   "execution_count": null,
   "id": "c8c60609",
   "metadata": {},
   "outputs": [],
   "source": [
    "minis_boxplots_histograms(ghg_df, boxplot_cols, hist_cols)"
   ]
  },
  {
   "cell_type": "markdown",
   "id": "a8c0f89b",
   "metadata": {},
   "source": [
    "**Commentaires :**  \n",
    "* YearBuilt: distribution étalée de 1900 à 2016, une forte baisse des constructions en temps de guerre (période Seconde Guerre Mondiale).\n",
    "* Features quantitatifs : la majorité avec des distributions avec valeurs groupées et basses, tout en ayant un certain nombre d'outliers. Les fortes émissions de CO₂ sont dû à de fortes consommations des grosses entreprises et usines telles que Boeing et des usines de métallurgie.\n",
    "* Features qualitatifs : BuildingType comporte 4 catégories dont 1 majoritaire."
   ]
  },
  {
   "cell_type": "markdown",
   "id": "4765de7b-4515-4c25-8f96-ad6e550aac4c",
   "metadata": {},
   "source": [
    "---\n",
    "---"
   ]
  },
  {
   "cell_type": "markdown",
   "id": "c8da38d3-82ad-468e-ad8c-85050ab469f2",
   "metadata": {},
   "source": [
    "### 7.3 - Analyse bi-variée :"
   ]
  },
  {
   "cell_type": "markdown",
   "id": "c4946480-1882-4b04-bc12-df0c23b81e48",
   "metadata": {},
   "source": [
    "Listing des colonnes du dataframe :"
   ]
  },
  {
   "cell_type": "code",
   "execution_count": null,
   "id": "3bd6e003-14bc-4941-82a3-74fe5acac9d9",
   "metadata": {},
   "outputs": [],
   "source": [
    "ghg_df.columns"
   ]
  },
  {
   "cell_type": "markdown",
   "id": "d8820897-9e1c-4759-95ad-726f77a0f4d4",
   "metadata": {},
   "source": [
    "#### 7.3.1 - Matrice de corrélation globale :"
   ]
  },
  {
   "cell_type": "code",
   "execution_count": null,
   "id": "050276ad-6bbb-4041-bc8c-482f14d3ed1b",
   "metadata": {},
   "outputs": [],
   "source": [
    "correlation_matrix = ghg_df.select_dtypes(exclude='object').corr()\n",
    "mask = np.triu(np.ones_like(correlation_matrix, dtype=bool))\n",
    "plt.figure(figsize=(8, 6))\n",
    "sns.heatmap(correlation_matrix, mask=mask, annot=True, cmap='viridis', fmt='.2f')\n",
    "plt.title('Correlation Heatmap of TotalGHGEmissions Variables')\n",
    "plt.show()"
   ]
  },
  {
   "cell_type": "markdown",
   "id": "824f675a-d946-4b20-9366-0047e1f24339",
   "metadata": {},
   "source": [
    "**Commentaires :**   \n",
    "On remarque plusieurs corrélations assez fortes \n",
    "* Entre la cible et des features :\n",
    "    * `TotalGHGEmissions` Vs `NaturalGas(kBtu)`\n",
    "    * `TotalGHGEmissions` Vs `Electricity(kBtu)`\n",
    "*  Entre deux features :\n",
    "    *  `PropertyGFABuilding(s)` Vs `NumberofFloors`\n",
    "    *  `Electricity(kBtu)` Vs `PropertyGFABuilding(s)`\n"
   ]
  },
  {
   "cell_type": "markdown",
   "id": "bebd64c7-13bf-40f0-ab06-e9eec64b4a37",
   "metadata": {},
   "source": [
    "#### 7.3.2 - Cible Vs `BuildingType` :"
   ]
  },
  {
   "cell_type": "code",
   "execution_count": null,
   "id": "8980c82f-448f-404c-a807-66e419ed2712",
   "metadata": {},
   "outputs": [],
   "source": [
    "sns.boxplot(x='TotalGHGEmissions', y='BuildingType', data=ghg_df)\n",
    "plt.show()"
   ]
  },
  {
   "cell_type": "markdown",
   "id": "ede9a62b-3105-4e6a-abb8-ed4c229cda76",
   "metadata": {},
   "source": [
    "**Commentaires :**  \n",
    "* En moyenne plus d'émission de CO₂ dans les grandes structures : Campus, Ecoles/Lycées avec forcément plusieurs bâtiments, étages, ces structures accueillent beaucoup de monde tous les jours, d'où consommation d'électricité, chauffage,...\n",
    "* Beaucoup d'outliers très fort en émission dans la catégorie \"NonResidential\" qui contient les grosses usines de production."
   ]
  },
  {
   "cell_type": "markdown",
   "id": "ced7dbbd-8c28-4b4c-944e-2acbb911026c",
   "metadata": {},
   "source": [
    "---\n",
    "#### 7.3.3 - Cible Vs `PrimaryPropertyType` :"
   ]
  },
  {
   "cell_type": "code",
   "execution_count": null,
   "id": "187f42e2-be4f-4d88-94be-8193a9224c5a",
   "metadata": {},
   "outputs": [],
   "source": [
    "order = ghg_df['PrimaryPropertyType'].value_counts().sort_index().index\n",
    "\n",
    "# axes\n",
    "fig, (ax_box, ax_count) = plt.subplots(ncols=2, figsize=(14, 6), gridspec_kw={'width_ratios': [4, 3]})\n",
    "\n",
    "# boxplot horizontal\n",
    "sns.boxplot(x='TotalGHGEmissions', y='PrimaryPropertyType', data=ghg_df, ax=ax_box, order=order)\n",
    "ax_box.set_title('TotalGHGEmissions Distribution per PrimaryPropertyType')\n",
    "ax_box.set_xlabel('Total GHG Emissions (kg CO₂e/year)')\n",
    "ax_box.set_ylabel('PrimaryPropertyType')\n",
    "\n",
    "# countplot horizontal\n",
    "counts = ghg_df['PrimaryPropertyType'].value_counts().reindex(order)\n",
    "sns.barplot(x=counts, y=counts.index, ax=ax_count, alpha=0.5, orient='h')\n",
    "ax_count.set_xlabel('Properties count')\n",
    "#ax_count.set_ylabel('')\n",
    "\n",
    "# ticklabels de l'axe Y du barplot\n",
    "ax_count.set_yticklabels([])\n",
    "ax_count.set_ylabel('')\n",
    "\n",
    "# ecrire quantites\n",
    "for p in ax_count.patches:\n",
    "    ax_count.annotate(f'{int(p.get_width())}', \n",
    "                      (p.get_width(), p.get_y() + p.get_height() / 2), \n",
    "                      ha='left', va='center', \n",
    "                      xytext=(5, 0), \n",
    "                      textcoords='offset points')\n",
    "\n",
    "# espacements des graphs\n",
    "plt.subplots_adjust(wspace=0, top=0.9, bottom=0.1, left=0.1, right=0.9)\n",
    "\n",
    "plt.show()"
   ]
  },
  {
   "cell_type": "markdown",
   "id": "1474e092-5d3e-48f1-9026-45e5ec089e73",
   "metadata": {},
   "source": [
    "**Commentaires :**  \n",
    "* En moyenne et médiane, les \"Hospitals\" émettent le plus de CO₂, à noté qu'il n'y en a que 4. Ce sont de grosses structures avec énormément de matériel (scanners, IRM,...) , chauffage (chambres), climatisation (salles d'op).\n",
    "* L'émission maximum de notre échantillon est pour un Hotel, avec plusieurs outliers très fort.\n",
    "* La catégorie qui contient plus d'éléments à 285 est : \"small and Mid-Sized Office\", qui sont en moyenne plutôt faible en émission.\n",
    "* Surprise sur la catégorie \"refrigerated Warehouse\" qui sont parmi les plus faibles émetteurs de CO₂ alors qu'ils doivent avoir une forte consommation d'énergie. On peut imaginer des structures très bien isolées et performantes."
   ]
  },
  {
   "cell_type": "markdown",
   "id": "4128afe7-1759-44e8-a736-628cb0c3798a",
   "metadata": {},
   "source": [
    "---\n",
    "#### 7.3.4 - Cible Vs `YearBuilt` :"
   ]
  },
  {
   "cell_type": "code",
   "execution_count": null,
   "id": "0948c991-4b37-4c56-962b-f0aa6f6cde31",
   "metadata": {},
   "outputs": [],
   "source": [
    "# fonction moyenne par annees, nombre annees modifiable\n",
    "def group_by_year(df, interval=5):\n",
    "    df['YearGroup'] = df['YearBuilt'] // interval * interval\n",
    "    grouped = df.groupby('YearGroup').agg({'TotalGHGEmissions': 'mean'}).reset_index()\n",
    "    return grouped\n",
    "\n",
    "interval = 5\n",
    "grouped_df = group_by_year(ghg_df, interval)\n",
    "\n",
    "# graphique\n",
    "plt.figure(figsize=(10, 6))\n",
    "sns.lineplot(data=grouped_df, x='YearGroup', y='TotalGHGEmissions', marker='o')\n",
    "sns.regplot(data=grouped_df, x='YearGroup', y='TotalGHGEmissions', scatter=False, ci=None, color='orange')\n",
    "\n",
    "plt.title(f'CO2 emissions per year ({interval}-year average)')\n",
    "plt.xlabel('YearBuilt')\n",
    "plt.ylabel('TotalGHGEmissions (kg CO₂e/year)')\n",
    "plt.grid(True)\n",
    "\n",
    "plt.show()\n",
    "\n",
    "ghg_df = ghg_df.drop(columns='YearGroup')"
   ]
  },
  {
   "cell_type": "markdown",
   "id": "c3d449bf-d299-448e-b5b7-27736ee39c5d",
   "metadata": {},
   "source": [
    "**Commentaires :**  \n",
    "La tendance des émissions de CO2 est irréprochablement à la hausse depuis les années 1900."
   ]
  },
  {
   "cell_type": "markdown",
   "id": "84909203-f223-4d4a-89d8-9eb648c72455",
   "metadata": {},
   "source": [
    "---\n",
    "#### 7.3.5 - Cible Vs `'NumberofBuildings', 'NumberofFloors'` :"
   ]
  },
  {
   "cell_type": "code",
   "execution_count": null,
   "id": "8d124b1a-4f6d-462e-a422-7e4bf3ce1ad1",
   "metadata": {},
   "outputs": [],
   "source": [
    "plt.figure(figsize=(12, 6))\n",
    "\n",
    "# scatter plot NumberofBuildings\n",
    "plt.subplot(1, 2, 1)\n",
    "sns.scatterplot(x='NumberofBuildings', y='TotalGHGEmissions', data=ghg_df, marker='x')\n",
    "plt.xlabel('Number of Buildings')\n",
    "plt.ylabel('Total GHG Emissions (kg CO₂e/year)')\n",
    "plt.title('Total GHG Emissions vs Number of Buildings')\n",
    "plt.xticks(sorted(ghg_df['NumberofBuildings'].unique()))\n",
    "\n",
    "\n",
    "# scatter plot NumberofFloors\n",
    "plt.subplot(1, 2, 2)\n",
    "sns.scatterplot(x='NumberofFloors', y='TotalGHGEmissions', data=ghg_df, color='orange')\n",
    "plt.xlabel('Number of Floors')\n",
    "plt.ylabel('Total GHG Emissions (kg CO₂e/year)')\n",
    "plt.title('Total GHG Emissions vs Number of Floors')\n",
    "plt.xticks(range(0, int(ghg_df['NumberofFloors'].max()) + 1, 5))\n",
    "\n",
    "plt.tight_layout()\n",
    "plt.show()"
   ]
  },
  {
   "cell_type": "markdown",
   "id": "0b172634-dfd1-4b3a-8bda-8453ab4bb4c0",
   "metadata": {},
   "source": [
    "**Commentaires :**  \n",
    "* Graphique `NumberofBuildings` :\n",
    "    * La grande majorité des propriétés étant avec 1 seul batiment, la majorité des extrêmes fait partie de cette catégorie.\n",
    "    * Les propriétés avec plus de 10 bâtiments ne sont pas les forts émetteurs de CO2.\n",
    "    * Le nombre de bâtiment ne reflète pas bien la taux d'émissions de CO2.\n",
    "* Graphique `NumberofFloors` :\n",
    "    * La majorité des propriétés possèdenbt moins de 15 étages et émettent moins de 500 kg CO₂e/year\n",
    "    * Le bâtiment avec le plus d'étages fait partie des plus faibles émetteurs, sans doute un bâtiment récent bien conçu."
   ]
  },
  {
   "cell_type": "markdown",
   "id": "905abc93-05a7-41f5-9d53-38643cb85071",
   "metadata": {},
   "source": [
    "---\n",
    "#### 7.3.6 - Cible Vs `PropertyGFABuilding(s)` :"
   ]
  },
  {
   "cell_type": "code",
   "execution_count": null,
   "id": "00ddc9f2-99f0-4358-89f0-f89a74751f81",
   "metadata": {},
   "outputs": [],
   "source": [
    "def millions(x, pos):\n",
    "    return f'{int(x):,}'.replace(',', '.')\n",
    "\n",
    "g = sns.jointplot(data=ghg_df, x=\"PropertyGFABuilding(s)\", y=\"TotalGHGEmissions\", height=5, ratio=2, marginal_ticks=True)\n",
    "g.fig.set_size_inches(7, 7)\n",
    "plt.setp(g.ax_joint.get_xticklabels(), rotation=45)\n",
    "g.fig.suptitle('Total GHG Emissions Vs Property Gross Floor Area Buildings', y=1)  \n",
    "g.ax_joint.xaxis.set_major_formatter(FuncFormatter(millions))\n",
    "g.ax_joint.set_xlabel('Property Gross Floor Area Buildings (ft²)', fontsize=9)\n",
    "g.ax_joint.set_ylabel('Total GHG Emissions (kg CO₂e/year)', fontsize=9)\n",
    "plt.tight_layout()\n",
    "plt.show()"
   ]
  },
  {
   "cell_type": "markdown",
   "id": "29dbf10e-b3df-4197-9d7d-5b0445ceb58a",
   "metadata": {},
   "source": [
    "**Commentaires :**  \n",
    "* Les plus grandes superficies font partie des plus forts émetteurs de CO₂.\n",
    "* La majorité des propriétés sont en dessous 200.000 ft², avec une forte variabilité des émissions de CO₂."
   ]
  },
  {
   "cell_type": "markdown",
   "id": "bfd98a91-eb26-4be7-9d90-5fb61bd5a0b0",
   "metadata": {},
   "source": [
    "---\n",
    "#### 7.3.7 - Cible Vs `PropertyGFAParking` :"
   ]
  },
  {
   "cell_type": "code",
   "execution_count": null,
   "id": "47768c2f-0f46-4da5-9f38-faf1330396e9",
   "metadata": {},
   "outputs": [],
   "source": [
    "g = sns.jointplot(data=ghg_df, x=\"PropertyGFAParking\", y=\"TotalGHGEmissions\", height=5, ratio=2, marginal_ticks=True)\n",
    "g.fig.set_size_inches(7, 7)\n",
    "plt.setp(g.ax_joint.get_xticklabels(), rotation=45)\n",
    "g.fig.suptitle('Total GHG Emissions Vs Property Gross Floor Area Parking', y=1)  \n",
    "g.ax_joint.set_xlabel('Property Gross Floor Area Parking (ft²)', fontsize=9)\n",
    "g.ax_joint.set_ylabel('Total GHG Emissions (kg CO₂e/year)', fontsize=9)\n",
    "g.ax_joint.xaxis.set_major_formatter(FuncFormatter(millions))\n",
    "plt.tight_layout()\n",
    "plt.show()"
   ]
  },
  {
   "cell_type": "markdown",
   "id": "74d754b6-3209-4055-8966-7690cc5e8807",
   "metadata": {},
   "source": [
    "**Commentaires :**  \n",
    "* La grande majorité des propriétés n'ont pas ou peu de superficie de parking.\n",
    "* Les sites qui émettent le plus n'ont pas ou peu de superficie de parking.\n",
    "* Les grandes superficie de parking ne sont pas les plus grands émetteurs de CO₂."
   ]
  },
  {
   "cell_type": "markdown",
   "id": "2f05ff59-3189-40a4-9c03-10cec017f33e",
   "metadata": {},
   "source": [
    "---\n",
    "#### 7.3.8 - Cible Vs `'SteamUse(kBtu)', 'Electricity(kBtu)', 'NaturalGas(kBtu)'` :"
   ]
  },
  {
   "cell_type": "code",
   "execution_count": null,
   "id": "518e24fb-c8aa-4093-9471-462fa9827f4c",
   "metadata": {},
   "outputs": [],
   "source": [
    "plt.figure(figsize=(18, 6))  # Augmenter la taille de la figure\n",
    "\n",
    "# Scatter plot for TotalGHGEmissions vs SteamUse(kBtu)\n",
    "ax1 = plt.subplot(1, 3, 1)\n",
    "sns.scatterplot(x='SteamUse(kBtu)', y='TotalGHGEmissions', data=ghg_df, ax=ax1)\n",
    "ax1.set_xlabel('Steam Use (kBtu)')\n",
    "ax1.set_ylabel('Total GHG Emissions')\n",
    "ax1.set_title('Total GHG Emissions vs Steam Use (kBtu)')\n",
    "ax1.xaxis.set_major_formatter(FuncFormatter(millions))\n",
    "plt.xticks(rotation=45)\n",
    "\n",
    "# Scatter plot for TotalGHGEmissions vs Electricity(kBtu)\n",
    "ax2 = plt.subplot(1, 3, 2)\n",
    "sns.scatterplot(x='Electricity(kBtu)', y='TotalGHGEmissions', data=ghg_df, ax=ax2)\n",
    "ax2.set_xlabel('Electricity (kBtu)')\n",
    "ax2.set_ylabel('Total GHG Emissions')\n",
    "ax2.set_title('Total GHG Emissions vs Electricity (kBtu)')\n",
    "ax2.xaxis.set_major_formatter(FuncFormatter(millions))\n",
    "plt.xticks(rotation=45)\n",
    "\n",
    "# Scatter plot for TotalGHGEmissions vs NaturalGas(kBtu)\n",
    "ax3 = plt.subplot(1, 3, 3)\n",
    "sns.scatterplot(x='NaturalGas(kBtu)', y='TotalGHGEmissions', data=ghg_df, ax=ax3)\n",
    "ax3.set_xlabel('Natural Gas (kBtu)')\n",
    "ax3.set_ylabel('Total GHG Emissions')\n",
    "ax3.set_title('Total GHG Emissions vs Natural Gas (kBtu)')\n",
    "ax3.xaxis.set_major_formatter(FuncFormatter(millions))\n",
    "plt.xticks(rotation=45)\n",
    "\n",
    "plt.tight_layout()\n",
    "plt.show()\n",
    "\n",
    "# heatmap de correlation\n",
    "correlation_matrix = ghg_df[['TotalGHGEmissions', 'SteamUse(kBtu)', 'Electricity(kBtu)', 'NaturalGas(kBtu)']].corr()\n",
    "mask = np.triu(np.ones_like(correlation_matrix, dtype=bool))\n",
    "plt.figure(figsize=(5, 4))\n",
    "sns.heatmap(correlation_matrix, mask=mask, annot=True, cmap='viridis', fmt='.2f')\n",
    "plt.title('Correlation Heatmap of Total GHG Emissions and Energy Use Variables')\n",
    "plt.show()"
   ]
  },
  {
   "cell_type": "markdown",
   "id": "c86fa163-44d3-493b-bf25-5d3ba9b30903",
   "metadata": {},
   "source": [
    "**Commentaires :**  \n",
    "* Les 3 variables énergies ont une corrélation plutôt forte avec notre cible, ce qui est cohérent étant donné que c'est une des causes principales des émissions de CO₂."
   ]
  },
  {
   "cell_type": "markdown",
   "id": "b94923cb-8a21-468a-a4d0-0ba797174a9f",
   "metadata": {},
   "source": [
    "---\n",
    "#### 7.3.9 - `PropertyGFABuilding(s)` Vs `NumberofFloors` :"
   ]
  },
  {
   "cell_type": "code",
   "execution_count": null,
   "id": "37d0004e-3f1d-41b2-8a33-d2fd7275f543",
   "metadata": {},
   "outputs": [],
   "source": [
    "g = sns.jointplot(data=ghg_df, x=\"PropertyGFABuilding(s)\", y=\"NumberofFloors\", height=5, ratio=2, marginal_ticks=True)\n",
    "g.fig.set_size_inches(7, 7)\n",
    "plt.setp(g.ax_joint.get_xticklabels(), rotation=45)\n",
    "g.fig.suptitle('NumberofFloors Vs PropertyGFABuilding', y=1)  \n",
    "g.ax_joint.set_xlabel('PropertyGFABuilding (s)', fontsize=9)\n",
    "g.ax_joint.set_ylabel('NumberofFloors', fontsize=9)\n",
    "g.ax_joint.xaxis.set_major_formatter(FuncFormatter(millions))\n",
    "g.ax_joint.yaxis.set_major_formatter(FuncFormatter(millions))\n",
    "plt.tight_layout()\n",
    "plt.show()\n",
    "\n",
    "correlation, p_value = pearsonr(ghg_df['NumberofFloors'], ghg_df['PropertyGFABuilding(s)'])\n",
    "print(f'Corrélation de Pearson: {correlation}')\n",
    "print(f'Valeur p: {p_value}')"
   ]
  },
  {
   "cell_type": "markdown",
   "id": "288af2af-aad5-4fb3-900e-ac58748d22c4",
   "metadata": {},
   "source": [
    "**Commentaires :**  \n",
    "Corrélation forte à 0.61 avec tout de même une variabilité forte.  \n",
    "* Transformation logarithmique à réaliser sur la feature `PropertyGFABuilding(s)`"
   ]
  },
  {
   "cell_type": "markdown",
   "id": "113255f6-a353-4d24-b622-9900a7a668cb",
   "metadata": {},
   "source": [
    "---\n",
    "#### 7.3.10 - `Electricity(kBtu)` Vs `PropertyGFABuilding(s)` :"
   ]
  },
  {
   "cell_type": "code",
   "execution_count": null,
   "id": "29beafb3-bfd0-4766-af03-c6f6c4d1ad35",
   "metadata": {},
   "outputs": [],
   "source": [
    "g = sns.jointplot(data=ghg_df, x=\"Electricity(kBtu)\", y=\"PropertyGFABuilding(s)\", height=5, ratio=2, marginal_ticks=True)\n",
    "g.fig.set_size_inches(7, 7)\n",
    "plt.setp(g.ax_joint.get_xticklabels(), rotation=45)\n",
    "g.fig.suptitle('PropertyGFABuilding Vs Electricity', y=1)  \n",
    "g.ax_joint.set_xlabel('Electricity (kBtu)', fontsize=9)\n",
    "g.ax_joint.set_ylabel('PropertyGFABuilding (s)', fontsize=9)\n",
    "g.ax_joint.xaxis.set_major_formatter(FuncFormatter(millions))\n",
    "g.ax_joint.yaxis.set_major_formatter(FuncFormatter(millions))\n",
    "plt.tight_layout()\n",
    "plt.show()\n",
    "\n",
    "correlation, p_value = pearsonr(ghg_df['PropertyGFABuilding(s)'], ghg_df['Electricity(kBtu)'])\n",
    "print(f'Corrélation de Pearson: {correlation}')\n",
    "print(f'Valeur p: {p_value}')"
   ]
  },
  {
   "cell_type": "markdown",
   "id": "d2d2beca-9871-4a34-88c6-2717f7f478d3",
   "metadata": {},
   "source": [
    "**Commentaires :**   \n",
    "Corrélation très forte à 0.8  \n",
    "Graphiquement une corrélation importante."
   ]
  },
  {
   "cell_type": "markdown",
   "id": "7e080e64-c2b8-4aaa-a013-4e71e70708b4",
   "metadata": {},
   "source": [
    "---\n",
    "#### 7.3.11 - Conclusion de l'analyse exploratoire :"
   ]
  },
  {
   "cell_type": "markdown",
   "id": "f3a55694-3ed5-4e72-994b-97e4189e9f41",
   "metadata": {},
   "source": [
    "**Ce que l'analyse exploratoire fait ressortir :**\n",
    "* Peu de variance sur les features :\n",
    "    * `NumberofBuildings`\n",
    "    * `BuildingType`\n",
    "* Tendance positive de l'émission de CO₂ dans le temps depuis 1900.\n",
    "* Majorité des propriétés n'ont pas ou peu de surface de Parking\n",
    "* Fortes corrélations entre la cible et les features énergies : `NaturalGas(kBtu)`, `Electricity(kBtu)`, ce qui parait cohérent"
   ]
  },
  {
   "cell_type": "markdown",
   "id": "32bcf98a-dfa6-4da9-9fd3-da0593e6026d",
   "metadata": {},
   "source": [
    "**Actions qui en découlent :**\n",
    "* Création de features binaires, d'utilisation ou non de chaque énergie : `SteamUse(kBtu)`, `NaturalGas(kBtu)`, `Electricity(kBtu)`, puis suppression de ces features."
   ]
  },
  {
   "cell_type": "markdown",
   "id": "d643678c",
   "metadata": {},
   "source": [
    "---\n",
    "---"
   ]
  },
  {
   "cell_type": "markdown",
   "id": "4c3f5315",
   "metadata": {},
   "source": [
    "### 7.4 - Feature engineering : "
   ]
  },
  {
   "cell_type": "markdown",
   "id": "1fde943c",
   "metadata": {},
   "source": [
    "#### 7.4.1 - Création de nouvelles variables :"
   ]
  },
  {
   "cell_type": "markdown",
   "id": "c2ef8e75",
   "metadata": {},
   "source": [
    "**Age du bâtiment :**\n",
    "    * 'BuildingAge' = 2016 - 'YearBuilt'"
   ]
  },
  {
   "cell_type": "code",
   "execution_count": null,
   "id": "dbf345bb",
   "metadata": {},
   "outputs": [],
   "source": [
    "ghg_df['BuildingAge'] = 2016 - ghg_df['YearBuilt']"
   ]
  },
  {
   "cell_type": "code",
   "execution_count": null,
   "id": "90e0f2c4",
   "metadata": {},
   "outputs": [],
   "source": [
    "ghg_df.head()"
   ]
  },
  {
   "cell_type": "markdown",
   "id": "28fbe57c-f2c0-4f8d-8600-4e36625e4a94",
   "metadata": {},
   "source": [
    "**Binaire énergies utilisées :**\n",
    "Création d'une colonne par énergie, s'il y a une consommation la valeur sera 1, s'il n'y a pas de consommation alors 0.\n",
    "* ElectricityUse\n",
    "* GazUse\n",
    "* SteamUse"
   ]
  },
  {
   "cell_type": "code",
   "execution_count": null,
   "id": "9c7df6fa-69f2-4186-a8e3-cf045e1126a3",
   "metadata": {},
   "outputs": [],
   "source": [
    "# fonction pour binariser l'utilisation d'unr energie\n",
    "def energyUse(energySerie):\n",
    "    if energySerie > 0:\n",
    "        return 1\n",
    "    else:\n",
    "        return 0\n",
    "\n",
    "\n",
    "ghg_df['ElectricityUse'] = ghg_df['Electricity(kBtu)'].apply(energyUse)\n",
    "ghg_df['GasUse'] = ghg_df['NaturalGas(kBtu)'].apply(energyUse)\n",
    "ghg_df['SteamUse'] = ghg_df['SteamUse(kBtu)'].apply(energyUse)"
   ]
  },
  {
   "cell_type": "code",
   "execution_count": null,
   "id": "3a256621-759d-4aeb-8a2f-ba4bfd155391",
   "metadata": {},
   "outputs": [],
   "source": [
    "ghg_df.head()"
   ]
  },
  {
   "cell_type": "code",
   "execution_count": null,
   "id": "90e96360",
   "metadata": {},
   "outputs": [],
   "source": [
    "ghg_df.head()"
   ]
  },
  {
   "cell_type": "markdown",
   "id": "6ce05821-5868-46fa-a7f6-631de98e5a1d",
   "metadata": {},
   "source": [
    "---\n",
    "#### 7.4.2 - Suppression de features :"
   ]
  },
  {
   "cell_type": "markdown",
   "id": "7b96150f-63e8-465c-adcd-cef20ab63bf1",
   "metadata": {},
   "source": [
    "**Suppression des features `Electricity(kBtu)`, `NaturalGas(kBtu)`, `SteamUse(kBtu)` :**"
   ]
  },
  {
   "cell_type": "code",
   "execution_count": null,
   "id": "7a07ae3f-bed1-469b-a164-4b6b5dc47c65",
   "metadata": {},
   "outputs": [],
   "source": [
    "ghg_df.drop(columns=['Electricity(kBtu)', 'NaturalGas(kBtu)', 'SteamUse(kBtu)'], inplace=True)"
   ]
  },
  {
   "cell_type": "markdown",
   "id": "b87a7aba-cb95-4d90-bcf8-481fee4b7a5a",
   "metadata": {},
   "source": [
    "---\n",
    "#### 7.4.3 - Renomme la `target` :"
   ]
  },
  {
   "cell_type": "code",
   "execution_count": null,
   "id": "4979b554-acc2-4a2f-a3ad-a809dfa0dc6d",
   "metadata": {},
   "outputs": [],
   "source": [
    "ghg_df = ghg_df.rename(columns={'TotalGHGEmissions' : 'target'})"
   ]
  },
  {
   "cell_type": "markdown",
   "id": "0640c1f9",
   "metadata": {},
   "source": [
    "---\n",
    "#### 7.4.4 - Exportation du dataframe :"
   ]
  },
  {
   "cell_type": "markdown",
   "id": "c448fba9-aba0-448f-b238-85528d7e3518",
   "metadata": {},
   "source": [
    "**Export du ficher de l'étape 6 (csv complet) :**"
   ]
  },
  {
   "cell_type": "code",
   "execution_count": null,
   "id": "0f2152ce-d5a6-46cd-9121-4d1b07133b13",
   "metadata": {},
   "outputs": [],
   "source": [
    "ghg_df.to_csv('data/cleaned/ghg_df_EnergyStarScore.csv')"
   ]
  },
  {
   "cell_type": "markdown",
   "id": "a1f1bb42-2fb1-4b93-ba4c-aec904bd1a81",
   "metadata": {},
   "source": [
    "**Export du ficher de l'étape 3 (Amélioration du FE) :**"
   ]
  },
  {
   "cell_type": "code",
   "execution_count": null,
   "id": "1e4a187d-64dc-4647-9c6b-fd2adddaa6b7",
   "metadata": {},
   "outputs": [],
   "source": [
    "ghg_df = ghg_df.drop(columns=['ENERGYSTARScore'])\n",
    "ghg_df.to_csv('data/cleaned/ghg_df_FE.csv')"
   ]
  },
  {
   "cell_type": "markdown",
   "id": "c4f72912-3195-44bc-835d-737d3b87c65e",
   "metadata": {},
   "source": [
    "**Export du ficher de l'étape 1 (csv original) :**"
   ]
  },
  {
   "cell_type": "code",
   "execution_count": null,
   "id": "4f3dfab5-aaad-4324-8953-d8e40400a5cb",
   "metadata": {},
   "outputs": [],
   "source": [
    "ghg_df = ghg_df.drop(columns=['PropertyGFATotal'])\n",
    "ghg_df.to_csv('data/cleaned/ghg_df.csv')"
   ]
  },
  {
   "cell_type": "markdown",
   "id": "13d1fa22-fa7e-4a86-a1e7-37d38971be33",
   "metadata": {},
   "source": [
    "---\n",
    "---\n",
    "---"
   ]
  },
  {
   "cell_type": "code",
   "execution_count": null,
   "id": "454993bb-4aee-4e8b-befe-7c86bf0734e6",
   "metadata": {},
   "outputs": [],
   "source": []
  }
 ],
 "metadata": {
  "kernelspec": {
   "display_name": "Python 3 (ipykernel)",
   "language": "python",
   "name": "python3"
  },
  "language_info": {
   "codemirror_mode": {
    "name": "ipython",
    "version": 3
   },
   "file_extension": ".py",
   "mimetype": "text/x-python",
   "name": "python",
   "nbconvert_exporter": "python",
   "pygments_lexer": "ipython3",
   "version": "3.9.7"
  }
 },
 "nbformat": 4,
 "nbformat_minor": 5
}
