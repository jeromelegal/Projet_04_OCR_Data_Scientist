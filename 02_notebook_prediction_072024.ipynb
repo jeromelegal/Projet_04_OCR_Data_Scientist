{
 "cells": [
  {
   "cell_type": "markdown",
   "id": "4b1e6b70-8b9b-44bd-bcc9-7bbb1b37d11c",
   "metadata": {},
   "source": [
    "##### **Versions des librairies utilisées dans ce Notebook :**  \n",
    "\n",
    "Python: 3.9.7  \n",
    "\n",
    "numpy: 1.26.4  \n",
    "pandas: 2.2.2  \n",
    "matplotlib: 3.9.0  \n",
    "sklearn: 1.5.1  \n",
    "IPython: 8.15.0  \n",
    "category_encoders: 2.6.3"
   ]
  },
  {
   "cell_type": "markdown",
   "id": "1384022c-ebfe-417f-8590-b261af329176",
   "metadata": {},
   "source": [
    "---"
   ]
  },
  {
   "cell_type": "code",
   "execution_count": null,
   "id": "054dcf12-61c0-40e8-a66b-ce1016e4c18f",
   "metadata": {},
   "outputs": [],
   "source": [
    "# importation des librairies\n",
    "import pandas as pd\n",
    "import numpy as np\n",
    "import seaborn as sns\n",
    "from IPython.display import display, HTML, Markdown\n",
    "import matplotlib.pyplot as plt"
   ]
  },
  {
   "cell_type": "code",
   "execution_count": null,
   "id": "e30203c5-6575-4c50-a265-0168f8feb28f",
   "metadata": {},
   "outputs": [],
   "source": [
    "# librairies spécifiques sklearn\n",
    "from sklearn.pipeline import Pipeline\n",
    "from sklearn.metrics import root_mean_squared_error, mean_absolute_error, r2_score\n",
    "from sklearn.compose import ColumnTransformer\n",
    "from sklearn.preprocessing import StandardScaler, OneHotEncoder, FunctionTransformer\n",
    "from category_encoders import TargetEncoder\n",
    "from sklearn.linear_model import LinearRegression\n",
    "from sklearn.model_selection import train_test_split, cross_val_score, ShuffleSplit"
   ]
  },
  {
   "cell_type": "markdown",
   "id": "6de040ed-aee9-41d1-a433-b535b36852ab",
   "metadata": {},
   "source": [
    "## Etape 2 : Développement et simulation d'un premier modèle"
   ]
  },
  {
   "cell_type": "markdown",
   "id": "4374cd60-44a8-46ae-96c6-352a330e781d",
   "metadata": {},
   "source": [
    "Import des données dans un dataframe :"
   ]
  },
  {
   "cell_type": "code",
   "execution_count": null,
   "id": "eecfa693-f3ac-4ea8-8857-5dc37ed7d3c2",
   "metadata": {},
   "outputs": [],
   "source": [
    "energy_df = pd.read_csv('data/cleaned/energy_df.csv', index_col=0)"
   ]
  },
  {
   "cell_type": "markdown",
   "id": "d44b2a0e-34b1-446b-b7a7-d5cf523d4d2d",
   "metadata": {},
   "source": [
    "### 2.1 - Préparation des données :"
   ]
  },
  {
   "cell_type": "code",
   "execution_count": null,
   "id": "09e4db7e-3471-45f7-a077-efe4670ffff9",
   "metadata": {},
   "outputs": [],
   "source": [
    "energy_df.head()"
   ]
  },
  {
   "cell_type": "markdown",
   "id": "7e4ee4e8-c6b1-493b-8844-b937652c3faf",
   "metadata": {},
   "source": [
    "---\n",
    "#### 2.1.1 - Séparation de la cible et des features"
   ]
  },
  {
   "cell_type": "code",
   "execution_count": null,
   "id": "cafe979c-583f-47e8-96cb-9cee706cf4f0",
   "metadata": {},
   "outputs": [],
   "source": [
    "X = energy_df.drop(columns = 'target')\n",
    "X.shape"
   ]
  },
  {
   "cell_type": "code",
   "execution_count": null,
   "id": "c22e1cc2-e66a-4759-9032-d01ea8e30b54",
   "metadata": {},
   "outputs": [],
   "source": [
    "y = energy_df.target\n",
    "y.shape"
   ]
  },
  {
   "cell_type": "markdown",
   "id": "334dd395-a932-4d7a-90cf-c65d0789c45f",
   "metadata": {},
   "source": [
    "---\n",
    "#### 2.1.2 - Stratégie d'encodage des variables qualitatives :"
   ]
  },
  {
   "cell_type": "code",
   "execution_count": null,
   "id": "055362e3-1e1a-40f8-9bb7-2c7d62a67333",
   "metadata": {},
   "outputs": [],
   "source": [
    "X_qual = X.select_dtypes(include=['object'])"
   ]
  },
  {
   "cell_type": "code",
   "execution_count": null,
   "id": "c2f0430c-38b2-4a22-ab98-c4904360c9ea",
   "metadata": {},
   "outputs": [],
   "source": [
    "X_qual.nunique().sort_values()"
   ]
  },
  {
   "cell_type": "markdown",
   "id": "995a2517-4db6-4df9-aaea-282668c1aff6",
   "metadata": {},
   "source": [
    "Méthode d'encodage choisie :\n",
    "* **One-Hot Encoding** "
   ]
  },
  {
   "cell_type": "markdown",
   "id": "546a3931-258c-4a76-a811-0ae5bbcc1987",
   "metadata": {},
   "source": [
    "---\n",
    "#### 2.1.3 - Fonctions :"
   ]
  },
  {
   "cell_type": "markdown",
   "id": "c5d44908-256e-4db8-af50-fe533be70dbf",
   "metadata": {},
   "source": [
    "Création du fonction afin de calculer le R² ajusté :"
   ]
  },
  {
   "cell_type": "code",
   "execution_count": null,
   "id": "f220375b-a610-4029-82ba-9185a2c60cf4",
   "metadata": {},
   "outputs": [],
   "source": [
    "def r2_ajusted(r2, X):\n",
    "    n = X.shape[0]\n",
    "    k = X.shape[1]\n",
    "    r2_ajusted = (1-(1-r2)*((n-1)/(n-k-1)))\n",
    "    return r2_ajusted"
   ]
  },
  {
   "cell_type": "code",
   "execution_count": null,
   "id": "460e5c76-c6fa-4333-86ce-1b96d1ca09bd",
   "metadata": {},
   "outputs": [],
   "source": [
    "# fonction tableau propre en html\n",
    "def model_results_tab(train_rmse, train_mae, train_r2, test_rmse, test_mae, test_r2, X_train, X_test):\n",
    "    # calcule R² ajuste\n",
    "    n_train = X_train.shape[0]\n",
    "    k_train = X_train.shape[1]\n",
    "    n_test = X_test.shape[0]\n",
    "    k_test = X_test.shape[1]\n",
    "    train_r2_adj  = (1-(1-train_r2)*((n_train-1)/(n_train-k_train-1)))\n",
    "    test_r2_adj   = (1-(1-test_r2)*((n_test-1)/(n_test-k_test-1)))\n",
    "\n",
    "    # tableau HTML\n",
    "    table_html = f\"\"\"\n",
    "    <table border=\"1\">\n",
    "        <thead>\n",
    "            <tr>\n",
    "                <th></th>\n",
    "                <th>RMSE</th>\n",
    "                <th>MAE</th>\n",
    "                <th>R²</th>\n",
    "                <th>R² ajusté</th>\n",
    "            </tr>\n",
    "        </thead>\n",
    "        <tbody>\n",
    "            <tr>\n",
    "                <td>Train</td>\n",
    "                <td>{round(train_rmse, 2)}</td>\n",
    "                <td>{round(train_mae, 2)}</td>\n",
    "                <td>{round(train_r2, 4)}</td>\n",
    "                <td>{round(train_r2_adj, 4)}</td>\n",
    "            </tr>\n",
    "            <tr>\n",
    "                <td>Test</td>\n",
    "                <td>{round(test_rmse, 2)}</td>\n",
    "                <td>{round(test_mae, 2)}</td>\n",
    "                <td>{round(test_r2, 4)}</td>\n",
    "                <td>{round(test_r2_adj, 4)}</td>\n",
    "            </tr>\n",
    "        </tbody>\n",
    "    </table>\n",
    "    \"\"\"\n",
    "    return display(HTML(table_html))\n",
    "\n",
    "def generate_summary_table(df_avfe, df_apfe, y_train, y_test, liste_train, liste_test, test_cv):\n",
    "    # calcul des statistiques descriptives\n",
    "    stats_avfe = {'Mean': round(df_avfe[\"target\"].mean(), 2), 'Std': round(df_avfe[\"target\"].std(), 2), 'Median': round(df_avfe[\"target\"].median(), 2), 'Min': round(df_avfe[\"target\"].min(), 2), 'Max': round(df_avfe[\"target\"].max(), 2)}\n",
    "    stats_apfe = {'Mean': round(df_apfe[\"target\"].mean(), 2), 'Std': round(df_apfe[\"target\"].std(), 2), 'Median': round(df_apfe[\"target\"].median(), 2), 'Min': round(df_apfe[\"target\"].min(), 2), 'Max': round(df_apfe[\"target\"].max(), 2)}\n",
    "    stats_train = {'Mean': round(y_train.mean(), 2), 'Std': round(y_train.std(), 2), 'Median': round(y_train.median(), 2), 'Min': round(y_train.min(), 2), 'Max': round(y_train.max(), 2)}\n",
    "    stats_test = {'Mean': round(y_test.mean(), 2), 'Std': round(y_test.std(), 2), 'Median': round(y_test.median(), 2), 'Min': round(y_test.min(), 2), 'Max': round(y_test.max(), 2)}\n",
    "    \n",
    "    # tableau de donnees\n",
    "    data = {\n",
    "        'Stats desc Av FE': [stats_avfe['Mean'], stats_avfe['Std'], stats_avfe['Median'], stats_avfe['Min'], stats_avfe['Max'], '---',\n",
    "                             None, None, None, None, '---', None, None, None, None, None],\n",
    "        'Stats desc Ap_FE': [stats_apfe['Mean'], stats_apfe['Std'], stats_apfe['Median'], stats_apfe['Min'], stats_apfe['Max'], '---',\n",
    "                             None, None, None, None, '---', None, None, None, None, None],\n",
    "        'Train': [stats_train['Mean'], stats_train['Std'], stats_train['Median'], stats_train['Min'], stats_train['Max'], '---',\n",
    "                  round(liste_train[0], 2), round(liste_train[1], 2), round(liste_train[2], 4), round(liste_train[3], 4), '---', None, None, None, None, None],\n",
    "        'Test': [stats_test['Mean'], stats_test['Std'], stats_test['Median'], stats_test['Min'], stats_test['Max'], '---',\n",
    "                 round(liste_test[0], 2), round(liste_test[1], 2), round(liste_test[2], 4), round(liste_test[3], 4), '---', round(test_cv[0], 4), round(test_cv[1], 4), round(test_cv[2], 4), round(test_cv[3], 4), round(test_cv[4], 4)]\n",
    "    }\n",
    "    \n",
    "    # dataFrame\n",
    "    df = pd.DataFrame(data, index=['Mean', 'Std', 'Median', 'Min', 'Max', '---', 'RMSE', 'MAE', 'R²', 'R²_adjust', '----', 'CV1', 'CV2', 'CV3', 'CV4', 'CV5'])\n",
    "    \n",
    "    # conversion du DataFrame en HTML avec style\n",
    "    def style_table(val):\n",
    "        if pd.isna(val):\n",
    "            return 'background-color: lightgrey'\n",
    "        elif val == '---':\n",
    "            return 'background-color: #d3d3d3; font-weight: bold'\n",
    "        return ''\n",
    "    \n",
    "    styled_df = df.style.map(style_table).format(precision=3)\n",
    "    \n",
    "    display(styled_df)"
   ]
  },
  {
   "cell_type": "markdown",
   "id": "679c0a62-54c8-4709-ab03-23e92d96fed0",
   "metadata": {},
   "source": [
    "---\n",
    "---\n",
    "### 2.2 - Structure Pipeline de modélisation :"
   ]
  },
  {
   "cell_type": "markdown",
   "id": "127e01d8-7682-4a86-8b85-e33451e74bb1",
   "metadata": {},
   "source": [
    "Premier modèle par régression linéaire :\n",
    "\n",
    "Pipeline :\n",
    "* Séparation variables quant/qual : **ColumnTransformer()**\n",
    "* Standardisation des données quantitatives : **StandardScaler()**\n",
    "* Encodage des variables qualitatives : **OneHotEncoder()**\n",
    "* Choix modèle : **LinearRegression()**\n",
    "* Entrainement Modèle : **fit()**\n",
    "* Prédiction : **predict()**\n",
    "* Evaluation performance : **score()** RMSE, MSE, R²"
   ]
  },
  {
   "cell_type": "markdown",
   "id": "e9b3b3b8-5a7d-4130-8233-564ebbf4a5f8",
   "metadata": {},
   "source": [
    "#### 2.2.1 - Premier modèle : Régression Linéaire"
   ]
  },
  {
   "cell_type": "markdown",
   "id": "d45f0837-1039-4959-a87d-1ff85034f3e4",
   "metadata": {},
   "source": [
    "Séparation du jeu de données et création de copies pour chaque modèle afin d'éviter des erreurs."
   ]
  },
  {
   "cell_type": "code",
   "execution_count": null,
   "id": "8ac80f03-cee0-44c9-a674-9464d12b8c8a",
   "metadata": {},
   "outputs": [],
   "source": [
    "# diviser les donnees en jeux d'entrainement et test\n",
    "X_train, X_test, y_train, y_test = train_test_split(X, y, test_size=0.2, random_state=22)"
   ]
  },
  {
   "cell_type": "code",
   "execution_count": null,
   "id": "9811a4a5-8e4e-4e8d-8670-9b2fe95005e9",
   "metadata": {},
   "outputs": [],
   "source": [
    "# definir les colonnes quantitatives et qualitatives\n",
    "quantitative_features = ['Latitude', 'Longitude', 'YearBuilt', 'NumberofBuildings', 'NumberofFloors', 'PropertyGFABuilding(s)', 'SecondLargestPropertyUseTypeGFA', 'ThirdLargestPropertyUseTypeGFA', 'BuildingAge', \n",
    "                        'ElectricityRate', 'GasRate', 'SteamRate']\n",
    "qualitative_features_OHE = ['BuildingType', 'Neighborhood', 'PrimaryPropertyType', 'LargestPropertyUseType', 'SecondLargestPropertyUseType', 'ThirdLargestPropertyUseType']"
   ]
  },
  {
   "cell_type": "code",
   "execution_count": null,
   "id": "0b46012c-d1cf-4bf3-b6bf-59bcc68c3fbf",
   "metadata": {},
   "outputs": [],
   "source": [
    "# standardisation des donnees\n",
    "quantitative_transformer = Pipeline([('scaler', StandardScaler())])\n",
    "\n",
    "# encodage des variables qualitatives\n",
    "qualitative_transformer_OHE = Pipeline([('onehot', OneHotEncoder(handle_unknown='ignore'))])\n",
    "\n",
    "# appliquer l'encodage et la standardisation\n",
    "preprocessor = ColumnTransformer(transformers=[('quant', quantitative_transformer, quantitative_features), ('qual_OHE', qualitative_transformer_OHE, qualitative_features_OHE)])"
   ]
  },
  {
   "cell_type": "code",
   "execution_count": null,
   "id": "41ddd36c-6216-41b6-bcf7-d6b71d7fc873",
   "metadata": {},
   "outputs": [],
   "source": [
    "# application preprocessor et regression\n",
    "linear_model = Pipeline([('preprocessor', preprocessor), ('linear_regression', LinearRegression())])"
   ]
  },
  {
   "cell_type": "code",
   "execution_count": null,
   "id": "acfc5e10-d39e-4301-b95f-609d465b3b24",
   "metadata": {},
   "outputs": [],
   "source": [
    "# entrainement sur le jeu d'entrainement\n",
    "linear_model.fit(X_train, y_train)"
   ]
  },
  {
   "cell_type": "code",
   "execution_count": null,
   "id": "e4941b96-9b83-4a97-97bc-35a2087ca848",
   "metadata": {},
   "outputs": [],
   "source": [
    "# recuperation du R² de l'entrainement\n",
    "linear_R2 = linear_model.score(X_train, y_train)\n",
    "print(f'Le R² pour ce modèle LinearRegression : {linear_R2}')\n",
    "print(f'Le R² ajusté pour ce modèle LinearRegression : {r2_ajusted(linear_R2, X_train)}')"
   ]
  },
  {
   "cell_type": "code",
   "execution_count": null,
   "id": "a1587208-08e3-4748-ae27-f3d155b559aa",
   "metadata": {},
   "outputs": [],
   "source": [
    "# prediction sur le jeu de test\n",
    "y_pred = linear_model.predict(X_test)\n",
    "\n",
    "# mesures de performance du modele\n",
    "test_rmse = root_mean_squared_error(y_test, y_pred)\n",
    "print(f\"Test RMSE : {test_rmse}\")\n",
    "test_mae = mean_absolute_error(y_test, y_pred)\n",
    "print(f\"Test MAE : {test_mae}\")\n",
    "test_r2 = r2_score(y_test, y_pred)\n",
    "print(f\"Test R² : {test_r2}\")\n",
    "r2_ajusted_test = r2_ajusted(test_r2, X_test)\n",
    "print(f\"Test R² ajusté : {r2_ajusted_test}\")\n",
    "\n",
    "# classe ShuffleSplit trouvé sur la doc scikit-learn afin de comparer avec un cv=5 uù je trouve de grosses différences \n",
    "# https://scikit-learn.org/stable/modules/cross_validation.html#computing-cross-validated-metrics\n",
    "#cv = ShuffleSplit(n_splits=5, test_size=0.3, random_state=22)\n",
    "score = cross_val_score(linear_model, X, y, cv=5)\n",
    "print(f\"Cross_Validation : {score}\")"
   ]
  },
  {
   "cell_type": "markdown",
   "id": "ec8aee95-4fa5-4b2d-a650-f81095b91eaf",
   "metadata": {},
   "source": [
    "**Commentaires :**  \n",
    "\n",
    "Pour rappel, les statistiques descriptives de la cible sont :  \n",
    "`mean :       8.860.058`  \n",
    "`std :       31.305.680`  \n",
    "`min :           57.133`  \n",
    "`med :        2.732.167`  \n",
    "`max :      873.923.700`  \n",
    "\n",
    "- La RMSE de 2,35 millions est en dessous la moyenne de la cible qui est d'environ 9 millions -> ce qui montre une performance relativement bonne.\n",
    "- Le MAE de 1,6 millions est au dessus le minimum de la cible mais inférieure aux autres statistiques.  \n",
    "- Le R² ajusté du jeu de test est à 0.59, celui du train est à 0.70, le modèle est en léger suraprentissage.  \n",
    "- Les scores du cross_validation montrent des différences très fortes allant de 0.13 à 0.55.    "
   ]
  },
  {
   "cell_type": "markdown",
   "id": "5bd2ece8-49f4-46e3-b6f1-3f85ea7216ad",
   "metadata": {},
   "source": [
    "**Comparaison des résultats d'entrainement et test :**"
   ]
  },
  {
   "cell_type": "code",
   "execution_count": null,
   "id": "ce34eaf4-0d04-4ca3-8744-7b85466face6",
   "metadata": {},
   "outputs": [],
   "source": [
    "# prediction sur tout le jeu d'entrainement\n",
    "y_train_pred = linear_model.predict(X_train)\n",
    "\n",
    "# calculs metriques sur tout le jeu d'entrainement\n",
    "train_rmse = root_mean_squared_error(y_train, y_train_pred)\n",
    "train_mae = mean_absolute_error(y_train, y_train_pred)\n",
    "train_r2 = r2_score(y_train, y_train_pred)\n",
    "train_r2_adjust = r2_ajusted(train_r2, X_train)\n",
    "# tableau html\n",
    "#model_results_tab(train_rmse, train_mae, train_r2, test_rmse, test_mae, test_r2, X_train_lr, X_test_lr)"
   ]
  },
  {
   "cell_type": "code",
   "execution_count": null,
   "id": "a1160b60-c51c-43de-a4ea-2a95f6d8c025",
   "metadata": {},
   "outputs": [],
   "source": [
    "# tableau récapitulatif\n",
    "df_avfe = pd.read_csv('./data/source/compliant_non_residential_df.csv', index_col=0)\n",
    "df_avfe.rename(columns={'SiteEnergyUse(kBtu)': 'target'}, inplace=True)\n",
    "df = pd.DataFrame()\n",
    "df['target'] = y\n",
    "\n",
    "liste_train = [train_rmse, train_mae, train_r2, train_r2_adjust]\n",
    "liste_test = [test_rmse, test_mae, test_r2, r2_ajusted_test]\n",
    "\n",
    "generate_summary_table(df_avfe, df, y_train, y_test, liste_train, liste_test, score)"
   ]
  },
  {
   "cell_type": "markdown",
   "id": "e8403ef7-4c28-40a1-9c85-e1c9291ef2b5",
   "metadata": {},
   "source": [
    "**Commentaires :**  \n",
    "* Les RMSE Train et Test sont assez élevés, en dessous la moyenne de la cible tou de même, ce qui montre des performances moyennes.\n",
    "* Les R² Train et Test ont un écart de 0.1, ce qui montre un léger suraprentissage.\n",
    "* Gros écarts dans les scores du Cross Validation."
   ]
  },
  {
   "cell_type": "markdown",
   "id": "47241020-2718-4337-9d61-99da6cd71e37",
   "metadata": {},
   "source": [
    "---"
   ]
  },
  {
   "cell_type": "markdown",
   "id": "837d0eba-4c94-48d4-9467-db1358ea5eda",
   "metadata": {},
   "source": [
    "#### 2.2.3 - Limites et problèmes du 1er modèle :"
   ]
  },
  {
   "cell_type": "markdown",
   "id": "a310e00e-410c-4491-bfe1-c9f82a787ab1",
   "metadata": {},
   "source": [
    "* Le OneHotEncoder apporte beaucoup de nouveaux features, peut-être non pertinents\n",
    "* Simplicité de l'algorithme\n",
    "* Feature Engineering optimisable"
   ]
  },
  {
   "cell_type": "markdown",
   "id": "191655c9-c1e3-4f91-8040-87ba29ae3bb5",
   "metadata": {},
   "source": [
    "---\n",
    "---\n",
    "---"
   ]
  },
  {
   "cell_type": "markdown",
   "id": "828cea32-d980-46d3-a37a-f0317c08a0c7",
   "metadata": {},
   "source": [
    "## 3 - ETAPE 3 : Amélioration du feature engineering "
   ]
  },
  {
   "cell_type": "markdown",
   "id": "1fddfa18-d4e2-4709-9d09-ca4ff61e7cbf",
   "metadata": {},
   "source": [
    "**Stratégie d'amélioration du feature engineering :**\n",
    "<ul>\n",
    "    <li>Ajout de features :\n",
    "        <ul>\n",
    "            <li>Nombre de type d'utilisation de chaque propriété</li>\n",
    "        </ul>\n",
    "    </li><br>\n",
    "    <li>LogTransform sur certaines features dont la distribution est dissymétrique  :\n",
    "        <ul>\n",
    "            <li>PropertyGFABuilding(s)</li>\n",
    "            <li>SecondLargestPropertyUseTypeGFA</li>\n",
    "            <li>ThirdLargestPropertyUseTypeGFA</li>\n",
    "        </ul>\n",
    "    </li>\n",
    "</ul>"
   ]
  },
  {
   "cell_type": "markdown",
   "id": "2ae87f14-c6d8-4f24-8da4-cb4b35a106a2",
   "metadata": {},
   "source": [
    "---"
   ]
  },
  {
   "cell_type": "markdown",
   "id": "d93d3bac-aad0-4560-901a-e23f93457497",
   "metadata": {},
   "source": [
    "### 3.1 - Ajout de Features :"
   ]
  },
  {
   "cell_type": "markdown",
   "id": "ba1a2a1f-e272-4c92-a3be-5f556499b7df",
   "metadata": {},
   "source": [
    "#### 3.1.1 - Feature : `UseTypesQty`"
   ]
  },
  {
   "cell_type": "markdown",
   "id": "2ce7821c-9620-4d30-918e-77f5f6c70f1c",
   "metadata": {},
   "source": [
    "* Avec la colonne 'ListOfAllPropertyUseTypes' : calcul du nombre total de type d'utilisation - compte le nombre de (',' + 1)\n"
   ]
  },
  {
   "cell_type": "markdown",
   "id": "51853985-a3e9-4d0a-b7ac-e44f8dbdf90d",
   "metadata": {},
   "source": [
    "Concernant l'ajout du nombre total d'utilisation, j'ai dû ajouter la colonne ``ListOfAllPropertyUseTypes`` au début de la sélection des features pertinents, j'ai donc réalisé un nouveau fichier EDA qui l'inclus :  \n",
    "[NOUVEAU FICHIER EDA - 01.1_EDA_Target_1_FE](./01.1_EDA_Target_1_FE.ipynb)"
   ]
  },
  {
   "cell_type": "markdown",
   "id": "f1b20d2a-4e1b-49e8-a76f-b337e267db69",
   "metadata": {},
   "source": [
    "**Chargement du nouveau Dataset :**"
   ]
  },
  {
   "cell_type": "code",
   "execution_count": null,
   "id": "905ac671-ef42-4d02-8a36-320397c586a8",
   "metadata": {},
   "outputs": [],
   "source": [
    "energy_df = pd.read_csv('data/cleaned/energy_df_FE.csv', index_col=0)"
   ]
  },
  {
   "cell_type": "markdown",
   "id": "9bdf3c3f-69f1-41e2-9640-d77f5a1d7898",
   "metadata": {},
   "source": [
    "**Création Feature : Nombre d'utilisations :**"
   ]
  },
  {
   "cell_type": "markdown",
   "id": "f868281a-cfd5-42f0-bb02-90c350141cba",
   "metadata": {},
   "source": [
    "Je vérifie le contenu de la variable :"
   ]
  },
  {
   "cell_type": "code",
   "execution_count": null,
   "id": "7cb12581-37a3-4e77-a75c-bd6164218b1b",
   "metadata": {},
   "outputs": [],
   "source": [
    "energy_df['ListOfAllPropertyUseTypes'].head()"
   ]
  },
  {
   "cell_type": "markdown",
   "id": "55f4555f-3aa2-42c9-b804-7289c2466aa4",
   "metadata": {},
   "source": [
    "Je créé une fonction qui coupe le contenu dans une liste par le séparateur ',' et je compte le nombre d'éléments dans la liste."
   ]
  },
  {
   "cell_type": "code",
   "execution_count": null,
   "id": "563b6ca0-45ca-49a6-ab29-12e6bb394e57",
   "metadata": {},
   "outputs": [],
   "source": [
    "def count_elements_str(elements):\n",
    "    x = elements.split(\",\")\n",
    "    return len(x)"
   ]
  },
  {
   "cell_type": "code",
   "execution_count": null,
   "id": "e53c048a-f8f1-416b-9baf-d88cbe56f7f6",
   "metadata": {},
   "outputs": [],
   "source": [
    "energy_df['UseTypesQty'] = energy_df['ListOfAllPropertyUseTypes'].apply(count_elements_str)"
   ]
  },
  {
   "cell_type": "code",
   "execution_count": null,
   "id": "6f9ebd38-ef6b-4863-b72b-54e9b97d7de8",
   "metadata": {},
   "outputs": [],
   "source": [
    "energy_df.head()"
   ]
  },
  {
   "cell_type": "markdown",
   "id": "1ec35b1c-20d5-4c54-b23f-d73c7a6798b7",
   "metadata": {},
   "source": [
    "Je peux supprimer la feature ``'ListOfAllPropertyUseTypes'`` :"
   ]
  },
  {
   "cell_type": "code",
   "execution_count": null,
   "id": "c4ab6370-dd09-40f2-abd9-45f1ec5b5f77",
   "metadata": {},
   "outputs": [],
   "source": [
    "energy_df = energy_df.drop(columns='ListOfAllPropertyUseTypes')"
   ]
  },
  {
   "cell_type": "markdown",
   "id": "55186325-b99d-4268-9b41-75d8aec17565",
   "metadata": {},
   "source": [
    "---\n",
    "---\n",
    "### 3.2 - Transformation Logarithmique de la cible et certains features :"
   ]
  },
  {
   "cell_type": "markdown",
   "id": "ade48cce-fb22-424c-88bb-43c96c5512a8",
   "metadata": {},
   "source": [
    "Séparation de la target et des features :"
   ]
  },
  {
   "cell_type": "code",
   "execution_count": null,
   "id": "d2d07398-db1b-48a3-a3e9-d59da6db7a4c",
   "metadata": {},
   "outputs": [],
   "source": [
    "X = energy_df.drop(columns = 'target')\n",
    "X.shape"
   ]
  },
  {
   "cell_type": "code",
   "execution_count": null,
   "id": "419d781e-6697-4fbe-89ed-bd407ecd97c4",
   "metadata": {},
   "outputs": [],
   "source": [
    "y = energy_df.target\n",
    "y.shape"
   ]
  },
  {
   "cell_type": "markdown",
   "id": "8f1dd5a4-7f00-481e-9897-cb5eaad37e2e",
   "metadata": {},
   "source": [
    "---\n",
    "#### 3.2.1 - Features :"
   ]
  },
  {
   "cell_type": "markdown",
   "id": "6d7e6745-a217-4554-bb69-47d0e7667cdc",
   "metadata": {},
   "source": [
    "Les 3 features de superficies ont également une distribution asymétrique, je réalise une transformation logarithmique :"
   ]
  },
  {
   "cell_type": "code",
   "execution_count": null,
   "id": "8ff6ddfc-8ae4-4d4e-9c1d-da871a475cd5",
   "metadata": {},
   "outputs": [],
   "source": [
    "# graphs distribution des features\n",
    "fig, axes = plt.subplots(1, 3, figsize=(18, 6))\n",
    "sns.histplot(X['PropertyGFABuilding(s)'], kde=True, ax=axes[0])\n",
    "axes[0].set_title('PropertyGFABuilding(s)')\n",
    "\n",
    "sns.histplot(X['SecondLargestPropertyUseTypeGFA'], kde=True, ax=axes[1])\n",
    "axes[1].set_title('SecondLargestPropertyUseTypeGFA')\n",
    "\n",
    "sns.histplot(X['ThirdLargestPropertyUseTypeGFA'], kde=True, ax=axes[2])\n",
    "axes[2].set_title('ThirdLargestPropertyUseTypeGFA')\n",
    "\n",
    "plt.tight_layout()\n",
    "plt.show()"
   ]
  },
  {
   "cell_type": "markdown",
   "id": "e6beba82-9500-4488-9319-b2747ccc6a47",
   "metadata": {},
   "source": [
    "Ajout dans le preprocessor de la transformation logarithmique des features :\n",
    "* `'PropertyGFABuilding(s)'`\n",
    "* `'SecondLargestPropertyUseTypeGFA'`\n",
    "* `'ThirdLargestPropertyUseTypeGFA'`"
   ]
  },
  {
   "cell_type": "markdown",
   "id": "45585411-1e81-4a00-bf91-1edaaf2b80a6",
   "metadata": {},
   "source": [
    "---\n",
    "---"
   ]
  },
  {
   "cell_type": "markdown",
   "id": "12f44932-abe4-476a-96a1-3d911e87c039",
   "metadata": {},
   "source": [
    "### 3.3 - Evaluation du Feature Engineering sur le modèle :"
   ]
  },
  {
   "cell_type": "code",
   "execution_count": null,
   "id": "97f7bbd5-8a79-4de8-8f32-a7e3bfa0de07",
   "metadata": {},
   "outputs": [],
   "source": [
    "# diviser les donnees en jeux d'entrainement et test\n",
    "X_train, X_test, y_train, y_test = train_test_split(X, y, test_size=0.2, random_state=22)"
   ]
  },
  {
   "cell_type": "markdown",
   "id": "730586c1-206f-4dca-9e17-11e5d5b584c0",
   "metadata": {},
   "source": [
    "Exportation des datasets pour les futurs modèles :"
   ]
  },
  {
   "cell_type": "code",
   "execution_count": null,
   "id": "d78193e8-3565-4ae6-8053-ad98951697cd",
   "metadata": {},
   "outputs": [],
   "source": [
    "X_train_final = X_train\n",
    "X_test_final = X_test\n",
    "y_train_final = y_train\n",
    "y_test_final = y_test"
   ]
  },
  {
   "cell_type": "markdown",
   "id": "9d426a1c-cb88-4104-8044-553d2d24eb0a",
   "metadata": {},
   "source": [
    "**Ajout des nouvelles Features dans les listes :**"
   ]
  },
  {
   "cell_type": "code",
   "execution_count": null,
   "id": "9eaeff83-159c-462b-b714-f14be0b77c6d",
   "metadata": {},
   "outputs": [],
   "source": [
    "# definir les colonnes quantitatives et qualitatives\n",
    "quantitative_features = ['Latitude', 'Longitude', 'YearBuilt', 'NumberofBuildings', 'NumberofFloors', 'BuildingAge', 'ElectricityRate', 'GasRate', 'SteamRate', 'UseTypesQty',]\n",
    "log_transform_features = ['PropertyGFABuilding(s)', 'SecondLargestPropertyUseTypeGFA', 'ThirdLargestPropertyUseTypeGFA']\n",
    "qualitative_features_OHE = ['BuildingType', 'Neighborhood', 'PrimaryPropertyType', 'LargestPropertyUseType', 'SecondLargestPropertyUseType', 'ThirdLargestPropertyUseType']"
   ]
  },
  {
   "cell_type": "code",
   "execution_count": null,
   "id": "1ac6d384-2641-4e5f-b3c0-83a18cac6def",
   "metadata": {},
   "outputs": [],
   "source": [
    "# standardisation des donnees\n",
    "quantitative_transformer = Pipeline([('scaler', StandardScaler())])\n",
    "\n",
    "# fonction de transformation logarithmique de certains features\n",
    "log_transformer = Pipeline([('log_transform', FunctionTransformer(np.log1p, validate=True))])\n",
    "\n",
    "# pipeline pour realiser la transformation log puis standardisation\n",
    "log_and_scale_transformer = Pipeline([('log_transform', log_transformer), ('scaler', StandardScaler())])\n",
    "\n",
    "# encodage des variables qualitatives\n",
    "qualitative_transformer_OHE = Pipeline([('onehot', OneHotEncoder(handle_unknown='ignore'))])\n",
    "\n",
    "# appliquer l'encodage et la standardisation\n",
    "preprocessor = ColumnTransformer(transformers=[('quant', quantitative_transformer, quantitative_features), ('log_and_scale', log_and_scale_transformer, log_transform_features), ('qual_OHE', qualitative_transformer_OHE, qualitative_features_OHE)]) "
   ]
  },
  {
   "cell_type": "code",
   "execution_count": null,
   "id": "cb6e2e7d-8764-4aae-beaa-1f8a601dd078",
   "metadata": {},
   "outputs": [],
   "source": [
    "# application preprocessor et regression\n",
    "linear_model_FE = Pipeline([('preprocessor', preprocessor), ('linear_regression', LinearRegression())])"
   ]
  },
  {
   "cell_type": "code",
   "execution_count": null,
   "id": "312be86d-ac1a-423b-8e7d-c91cf22a09a3",
   "metadata": {},
   "outputs": [],
   "source": [
    "# entrainement sur le jeu d'entrainement\n",
    "linear_model_FE.fit(X_train, y_train)"
   ]
  },
  {
   "cell_type": "code",
   "execution_count": null,
   "id": "6c62d9dc-da57-405a-a8ff-c7311c7deba4",
   "metadata": {},
   "outputs": [],
   "source": [
    "# recuperation du R² de l'entrainement\n",
    "linear_FE_R2 = linear_model_FE.score(X_train, y_train)\n",
    "print(f'Le R² pour ce modèle LinearRegression après FE : {linear_FE_R2}')\n",
    "print(f'Le R² ajusté pour ce modèle LinearRegression après FE : {r2_ajusted(linear_FE_R2, X_train)}')"
   ]
  },
  {
   "cell_type": "code",
   "execution_count": null,
   "id": "d376726a-04d1-4a50-81c9-16671ace84af",
   "metadata": {},
   "outputs": [],
   "source": [
    "# prediction sur le jeu de test\n",
    "y_pred = linear_model_FE.predict(X_test)\n",
    "\n",
    "# mesures de performance du modele\n",
    "test_r2_FE = r2_score(y_test, y_pred)\n",
    "print(f\"Test R² : {test_r2_FE}\")\n",
    "r2_ajusted_test_FE = r2_ajusted(test_r2_FE, X_test)\n",
    "print(f\"Test R² ajusté : {r2_ajusted_test_FE}\")\n",
    "\n",
    "score_FE = cross_val_score(linear_model_FE, X, y, cv=5)\n",
    "print(f\"Cross_Validation : {score_FE}\")"
   ]
  },
  {
   "cell_type": "code",
   "execution_count": null,
   "id": "49c52595-464a-4b76-9847-694023c6f377",
   "metadata": {},
   "outputs": [],
   "source": [
    "print(f\"Les r²_train et r²_train ajusté avant FE étaient : {liste_train[2:]}\")\n",
    "print(f\"Les r²_test et r²_test ajusté avant FE étaient : {liste_test[2:]}\")\n",
    "print(f\"Les résultats Cross_Validation avant FE étaient : {score}\")"
   ]
  },
  {
   "cell_type": "markdown",
   "id": "7b8ffc3d-3557-404f-870f-2cdf02365126",
   "metadata": {},
   "source": [
    "**Commentaires :**  \n",
    "Avec le Feature Engineering ici, on obtient :\n",
    "* léger retrait en Train\n",
    "* légère amélioration en Test\n",
    "* légers meilleurs scores en Cross_Validation"
   ]
  },
  {
   "cell_type": "markdown",
   "id": "94c21e74-0448-465b-9326-195402c5f058",
   "metadata": {},
   "source": [
    "---\n",
    "---\n",
    "---\n",
    "\n",
    "## Etape 4 : Simulation d'autres modèles et choix d'un modèle final"
   ]
  },
  {
   "cell_type": "markdown",
   "id": "610b9165-44ad-4fdb-a10c-008cb4c6d6ac",
   "metadata": {},
   "source": [
    "Reflexion sur les modèles à tester :\n",
    "* [Bagging Regressor](https://scikit-learn.org/stable/modules/generated/sklearn.ensemble.BaggingRegressor.html) : multiples régressions sur des échantillons tirés aléatoirerement avec remise, le résultat est la moyenne des résultats.  \n",
    "    ==> Réduit la variance\n",
    "* [Random Forest Regressor](https://scikit-learn.org/stable/modules/generated/sklearn.ensemble.RandomForestRegressor.html) : multiples arbres de décision avec bootstrap des échantillons et sélection aléatoires des caractéristiques à chaque décision\n",
    "    ==> Réduit la variance et le surajustement\n",
    "* [Adaboost Regressor](https://scikit-learn.org/stable/modules/generated/sklearn.ensemble.AdaBoostRegressor.html) : combine plusieurs régressions simples en les pondérant en fonction de leur performance.\n",
    "    ==> Réduit biais et variance\n",
    "* [Stacking Regressor](https://scikit-learn.org/stable/modules/generated/sklearn.ensemble.StackingRegressor.html) : combine plusieurs modèles de base qui apprennent à un méta-modèle qui est entrainé sur les prédictions des modèles de base\n",
    "    ==> performance et robustesse\n",
    "* [Gradient Boosting Regressor](https://scikit-learn.org/stable/modules/generated/sklearn.ensemble.GradientBoostingRegressor.html) : basé sur un modèle simple (par exemple, un arbre de décision), l'algorithme itère les apprentissages en utilisant chaque nouveau modèle pour corriger les erreurs du modèle précédent. Ce processus continue jusqu'à atteindre une valeur d'erreur minimale, optimisée à chaque étape par la descente de gradient.\n",
    "\n",
    "  Pour chaque modèle une optimisation des hyperparamètres sera testé avec [GridSearchCV](https://scikit-learn.org/stable/modules/generated/sklearn.model_selection.GridSearchCV.html) ou [Random SearchCV](https://scikit-learn.org/stable/modules/generated/sklearn.model_selection.RandomizedSearchCV.html)."
   ]
  },
  {
   "cell_type": "code",
   "execution_count": null,
   "id": "9a4c8ac8-faaa-4154-9ea8-6011c7ce5267",
   "metadata": {},
   "outputs": [],
   "source": [
    "import time\n",
    "from sklearn.model_selection import GridSearchCV, RandomizedSearchCV\n",
    "from sklearn.ensemble import BaggingRegressor, RandomForestRegressor, AdaBoostRegressor \n",
    "from sklearn.linear_model import RidgeCV\n",
    "from sklearn.svm import LinearSVR\n",
    "from sklearn.ensemble import StackingRegressor\n",
    "from sklearn.linear_model import LinearRegression, Ridge, Lasso\n",
    "from sklearn.svm import SVR"
   ]
  },
  {
   "cell_type": "markdown",
   "id": "b4cd151a-2f94-416b-b84c-5bfcca469a64",
   "metadata": {},
   "source": [
    "##### Fonctions"
   ]
  },
  {
   "cell_type": "code",
   "execution_count": null,
   "id": "542717a4-f7aa-4e7b-a3c4-4d86a88595b6",
   "metadata": {},
   "outputs": [],
   "source": [
    "def train_r2(model, X_train, y_train):\n",
    "    r2 = model.score(X_train, y_train)\n",
    "    print(f'Le R²_train pour ce modèle : {r2}')\n",
    "    print(f'Le R²_train ajusté pour ce modèle : {r2_ajusted(r2, X_train)}')\n",
    "\n",
    "def test_r2(y_test, y_pred):\n",
    "    r2 = r2_score(y_test, y_pred)\n",
    "    print(f'Le R²_test pour ce modèle : {r2}')\n",
    "    print(f'Le R²_test ajusté pour ce modèle : {r2_ajusted(r2, X_train)}')\n",
    "\n",
    "def plot_learning_curve(model, X, y):\n",
    "    from sklearn.model_selection import learning_curve\n",
    "    \n",
    "    train_sizes, train_scores, test_scores = learning_curve(model, X, y, cv=5, scoring='r2', n_jobs=-1, random_state=22)\n",
    "    train_scores_mean = np.mean(train_scores, axis=1)\n",
    "    test_scores_mean = np.mean(test_scores, axis=1)\n",
    "    \n",
    "    plt.plot(train_sizes, train_scores_mean, label='Train score')\n",
    "    plt.plot(train_sizes, test_scores_mean, label='Test score')\n",
    "    plt.xlabel('Training examples')\n",
    "    plt.ylabel('Score')\n",
    "    plt.title('Learning Curve')\n",
    "    plt.legend()\n",
    "    plt.show()"
   ]
  },
  {
   "cell_type": "markdown",
   "id": "46ff56ee-ccd8-4ed2-813d-199384420aff",
   "metadata": {},
   "source": [
    "#####"
   ]
  },
  {
   "cell_type": "markdown",
   "id": "9b794d7e-b224-4835-bfb5-c417e4d5030b",
   "metadata": {},
   "source": [
    "---\n",
    "---\n",
    "### 4.1 - Bagging Regressor :"
   ]
  },
  {
   "cell_type": "markdown",
   "id": "27a5edec-8196-4adf-b848-93613e4c0f91",
   "metadata": {},
   "source": [
    "Hyperparamètres à évaluer :\n",
    "* n_estimators : nombre d'estimateur de base\n",
    "* max_features : pourcentage de variables (colonnes) de X à utiliser pour chaque arbre\n",
    "* max_samples : le pourcentage d'individus (de lignes) de X à utiliser pour chaque arbre"
   ]
  },
  {
   "cell_type": "code",
   "execution_count": null,
   "id": "08740f27-5e53-46cb-8f78-f435cb0f3fe0",
   "metadata": {},
   "outputs": [],
   "source": [
    "# chargement des datasets\n",
    "X_train_BR = X_train_final.copy()\n",
    "X_test_BR = X_test_final.copy()\n",
    "y_train_BR = y_train_final.copy()\n",
    "y_test_BR = y_test_final.copy()"
   ]
  },
  {
   "cell_type": "code",
   "execution_count": null,
   "id": "9ac10c09-afc1-4897-8e95-598c5f6d8018",
   "metadata": {},
   "outputs": [],
   "source": [
    "# application preprocessor et modèle\n",
    "bagging_model = Pipeline([('preprocessor', preprocessor), ('bagging_regressor', BaggingRegressor(random_state=22))])"
   ]
  },
  {
   "cell_type": "code",
   "execution_count": null,
   "id": "4662a969-f0b5-41b3-8f20-8a167f7bf84b",
   "metadata": {},
   "outputs": [],
   "source": [
    "# entrainement sur le jeu d'entrainement\n",
    "bagging_model.fit(X_train_BR, y_train_BR)\n",
    "train_r2(bagging_model, X_train_BR, y_train_BR)"
   ]
  },
  {
   "cell_type": "code",
   "execution_count": null,
   "id": "5c4e780d-d7a4-4c2f-83d9-947be43cae47",
   "metadata": {},
   "outputs": [],
   "source": [
    "# prediction sur le jeu de test\n",
    "y_pred_BR = bagging_model.predict(X_test_BR)\n",
    "test_r2(y_test_BR, y_pred_BR)\n",
    "\n",
    "# classe ShuffleSplit trouvé sur la doc scikit-learn afin de comparer avec un cv=5 uù je trouve de grosses différences \n",
    "# https://scikit-learn.org/stable/modules/cross_validation.html#computing-cross-validated-metrics\n",
    "#cv = ShuffleSplit(n_splits=5, test_size=0.3, random_state=22)\n",
    "score_BR = cross_val_score(bagging_model, X, y, cv=5)\n",
    "print(f\"Cross_Validation : {score_BR}\")"
   ]
  },
  {
   "cell_type": "markdown",
   "id": "5dddc7fd-c720-4115-8004-8e3daa2404d4",
   "metadata": {},
   "source": [
    "**Commentaires :**  \n",
    "* Ecart important entre le score de train et de test (0.93 et 0.65) ==> overfitting important\n",
    "* Cross_Validation varie fortement (0.31 à 0.57)"
   ]
  },
  {
   "cell_type": "markdown",
   "id": "6d7963ec-574d-4e81-bc1c-77b2f0952ee6",
   "metadata": {},
   "source": [
    "**Comparaison optimisation par GridSearchCV Vs RandomSearchCV:**"
   ]
  },
  {
   "cell_type": "code",
   "execution_count": null,
   "id": "6a3f3b07-b6e1-4947-a8f0-8d2f44f5ef25",
   "metadata": {},
   "outputs": [],
   "source": [
    "param_bagging = {\n",
    "    'bagging_regressor__n_estimators': [10, 50, 100, 200],\n",
    "    'bagging_regressor__max_features': [0.3, 0.5, 0.7, 1.0],\n",
    "    'bagging_regressor__max_samples': [0.5, 0.7, 1.0]\n",
    "}"
   ]
  },
  {
   "cell_type": "code",
   "execution_count": null,
   "id": "3c952ef8-c336-4ce3-ad1d-253815e598b8",
   "metadata": {},
   "outputs": [],
   "source": [
    "# application preprocessor et modèle\n",
    "bagging_model = Pipeline([('preprocessor', preprocessor), ('bagging_regressor', BaggingRegressor(random_state=22))])"
   ]
  },
  {
   "cell_type": "markdown",
   "id": "91673748-9bc4-49b4-965d-569e002797a4",
   "metadata": {},
   "source": [
    "**GridSearchCV :**"
   ]
  },
  {
   "cell_type": "code",
   "execution_count": null,
   "id": "2c11b82d-a878-4c91-9790-fd57207577ac",
   "metadata": {},
   "outputs": [],
   "source": [
    "# mesure du temps pour GridSearchCV\n",
    "start_time = time.time()\n",
    "grid_search = GridSearchCV(estimator=bagging_model, param_grid=param_bagging, cv=5, n_jobs=-1, scoring='r2')\n",
    "grid_search.fit(X_train_BR, y_train_BR)\n",
    "end_time = time.time()\n",
    "grid_search_time = end_time - start_time"
   ]
  },
  {
   "cell_type": "code",
   "execution_count": null,
   "id": "0f93aa2d-00c4-4ef8-9526-284c03a31f3a",
   "metadata": {},
   "outputs": [],
   "source": [
    "print(f\"Temps d'optimisation par GridSearchCV : {grid_search_time}\")\n",
    "print(f\"Meilleurs hyperparamètres : {grid_search.best_params_}\")\n",
    "print(f\"Meilleur score (R²) : {grid_search.best_score_}\")"
   ]
  },
  {
   "cell_type": "code",
   "execution_count": null,
   "id": "05bba195-a9f9-4ec3-b851-816f0889efc6",
   "metadata": {},
   "outputs": [],
   "source": [
    "best_params = grid_search.best_params_\n",
    "\n",
    "best_bagging_model = Pipeline([('preprocessor', preprocessor), \n",
    "                               ('bagging_regressor', BaggingRegressor(n_estimators=best_params['bagging_regressor__n_estimators'],\n",
    "                                                                      max_features=best_params['bagging_regressor__max_features'], \n",
    "                                                                      random_state=22))])\n",
    "best_bagging_model.fit(X_train_BR, y_train_BR)\n",
    "train_r2(best_bagging_model, X_train_BR, y_train_BR)"
   ]
  },
  {
   "cell_type": "code",
   "execution_count": null,
   "id": "f0d59540-62cf-4bcc-822e-9bef606d8505",
   "metadata": {},
   "outputs": [],
   "source": [
    "# prediction sur le jeu de test\n",
    "y_pred_BR_grid = best_bagging_model.predict(X_test_BR)\n",
    "test_r2(y_test_BR, y_pred_BR_grid)\n",
    "\n",
    "# classe ShuffleSplit trouvé sur la doc scikit-learn afin de comparer avec un cv=5 uù je trouve de grosses différences \n",
    "# https://scikit-learn.org/stable/modules/cross_validation.html#computing-cross-validated-metrics\n",
    "#cv = ShuffleSplit(n_splits=5, test_size=0.2, random_state=22)\n",
    "score_BR_grid = cross_val_score(best_bagging_model, X, y, cv=5)\n",
    "print(f\"Cross_Validation : {score_BR_grid}\")"
   ]
  },
  {
   "cell_type": "markdown",
   "id": "63a90dd1-cb3a-45fe-a87d-00805942c76d",
   "metadata": {},
   "source": [
    "**Commentaires :**  \n",
    "* Légère amélioration des scores suite à l'optimisation, toujours un overfitting important.\n",
    "* Même constat d'un cross_validation qui varie"
   ]
  },
  {
   "cell_type": "code",
   "execution_count": null,
   "id": "1795e494-9e7b-43d8-89d5-5dd1554b462e",
   "metadata": {},
   "outputs": [],
   "source": [
    "#plot_learning_curve(best_bagging_model, X, y)"
   ]
  },
  {
   "cell_type": "markdown",
   "id": "30034780-7993-41c0-8a68-fe095301a3de",
   "metadata": {},
   "source": [
    "**RandomSearchCV :**"
   ]
  },
  {
   "cell_type": "code",
   "execution_count": null,
   "id": "a76d217d-d717-416a-a6df-40d490106ba9",
   "metadata": {},
   "outputs": [],
   "source": [
    "# mesure temps optimisation de RandomSearchCV\n",
    "start_time = time.time()\n",
    "random_search = RandomizedSearchCV(estimator=bagging_model, param_distributions=param_bagging, cv=5, n_jobs=-1, scoring='r2')\n",
    "random_search.fit(X_train_BR, y_train_BR)\n",
    "end_time = time.time()\n",
    "random_search_time = end_time - start_time"
   ]
  },
  {
   "cell_type": "code",
   "execution_count": null,
   "id": "7483eb0c-8a86-4086-83bd-700a3b588ab6",
   "metadata": {},
   "outputs": [],
   "source": [
    "print(f\"Temps d'optimisation par RandomSearchCV : {random_search_time}\")\n",
    "print(f\"Meilleurs hyperparamètres : {random_search.best_params_}\")\n",
    "print(f\"Meilleur score (R^2) : {random_search.best_score_}\")"
   ]
  },
  {
   "cell_type": "code",
   "execution_count": null,
   "id": "ba4e8609-8df9-40b9-ac87-6987eab41eb8",
   "metadata": {},
   "outputs": [],
   "source": [
    "best_params_random = random_search.best_params_\n",
    "\n",
    "best_bagging_model_random = Pipeline([('preprocessor', preprocessor), \n",
    "                               ('bagging_regressor', BaggingRegressor(n_estimators=best_params_random['bagging_regressor__n_estimators'],\n",
    "                                                                      max_features=best_params_random['bagging_regressor__max_features'], \n",
    "                                                                      random_state=22))])\n",
    "best_bagging_model_random.fit(X_train_BR, y_train_BR)\n",
    "train_r2(best_bagging_model_random, X_train_BR, y_train_BR)"
   ]
  },
  {
   "cell_type": "code",
   "execution_count": null,
   "id": "bbdfb466-f610-467a-a4e3-a20f2d39d97f",
   "metadata": {},
   "outputs": [],
   "source": [
    "# prediction sur le jeu de test\n",
    "y_pred_BR_random = best_bagging_model_random.predict(X_test_BR)\n",
    "test_r2(y_test_BR, y_pred_BR_random)\n",
    "\n",
    "# classe ShuffleSplit trouvé sur la doc scikit-learn afin de comparer avec un cv=5 uù je trouve de grosses différences \n",
    "# https://scikit-learn.org/stable/modules/cross_validation.html#computing-cross-validated-metrics\n",
    "#cv = ShuffleSplit(n_splits=5, test_size=0.3, random_state=22)\n",
    "score_BR_random = cross_val_score(best_bagging_model_random, X, y, cv=5)\n",
    "print(f\"Cross_Validation : {score_BR_random}\")"
   ]
  },
  {
   "cell_type": "markdown",
   "id": "0303070b-710b-4d66-90fd-94c874ea5e95",
   "metadata": {},
   "source": [
    "**Commentaires :**  \n",
    "* Scores très proches entre le GridSearch et le RandomSearch (Train : 0.94 et Test 0.66), mais le RandomSearch est beaucoup plus rapide : 7s contre 35s.\n",
    "* Cross_Validation entre 0.36 et 0.66, le modèle n'a pas une bonne généralisation."
   ]
  },
  {
   "cell_type": "markdown",
   "id": "910537a7-3294-48e8-a826-b8e234edd2f4",
   "metadata": {},
   "source": [
    "---\n",
    "---\n",
    "### 4.2 - Random Forest Regressor :"
   ]
  },
  {
   "cell_type": "markdown",
   "id": "984ac6a4-4ebc-4f9f-b0ca-0d54b4889198",
   "metadata": {},
   "source": [
    "Hyperparamètres à évaluer :\n",
    "* n_estimators : nombre d'arbres dans la forêt\n",
    "* max_depht : profondeur maximale des arbres\n",
    "* min_samples_split : nombre minimum d'échantillons pour diviser un nœud"
   ]
  },
  {
   "cell_type": "code",
   "execution_count": null,
   "id": "1718dfef-ed8f-4cb3-841d-412ee2b2038b",
   "metadata": {},
   "outputs": [],
   "source": [
    "# chargement des datasets\n",
    "X_train_RF = X_train_final.copy()\n",
    "X_test_RF = X_test_final.copy()\n",
    "y_train_RF = y_train_final.copy()\n",
    "y_test_RF = y_test_final.copy()"
   ]
  },
  {
   "cell_type": "code",
   "execution_count": null,
   "id": "309130d9-7e31-49da-b515-51bb9b242034",
   "metadata": {},
   "outputs": [],
   "source": [
    "# application preprocessor et modèle\n",
    "RF_model = Pipeline([('preprocessor', preprocessor), ('random_forest', RandomForestRegressor(random_state=22))])"
   ]
  },
  {
   "cell_type": "code",
   "execution_count": null,
   "id": "2d6ac86c-fbf1-4d7d-89a4-ffb9818496b1",
   "metadata": {},
   "outputs": [],
   "source": [
    "# entrainement sur le jeu d'entrainement\n",
    "RF_model.fit(X_train_RF, y_train_RF)\n",
    "train_r2(RF_model, X_train_RF, y_train_RF)"
   ]
  },
  {
   "cell_type": "code",
   "execution_count": null,
   "id": "99781629-8fcf-470a-86bd-48b06432641c",
   "metadata": {},
   "outputs": [],
   "source": [
    "# prediction sur le jeu de test\n",
    "y_pred_RF = RF_model.predict(X_test_RF)\n",
    "test_r2(y_test_RF, y_pred_RF)\n",
    "\n",
    "# classe ShuffleSplit trouvé sur la doc scikit-learn afin de comparer avec un cv=5 uù je trouve de grosses différences \n",
    "# https://scikit-learn.org/stable/modules/cross_validation.html#computing-cross-validated-metrics\n",
    "#cv = ShuffleSplit(n_splits=5, test_size=0.3, random_state=22)\n",
    "score_RF = cross_val_score(RF_model, X, y, cv=5)\n",
    "print(f\"Cross_Validation : {score_RF}\")"
   ]
  },
  {
   "cell_type": "markdown",
   "id": "2f15c385-19ed-4d0d-9797-0ef69984ab04",
   "metadata": {},
   "source": [
    "**Commentaires :**  \n",
    "* Overfitting sur le jeu de train : 0.94 contre 0.66 sur le test.\n",
    "* Forte variation des scores du Cross_validation (0.34 à 0.64)"
   ]
  },
  {
   "cell_type": "markdown",
   "id": "1b895233-1373-4806-8c6a-35baea578044",
   "metadata": {},
   "source": [
    "**Comparaison optimisation par GridSearchCV Vs RandomSearchCV:**"
   ]
  },
  {
   "cell_type": "code",
   "execution_count": null,
   "id": "9b235b0a-a716-48a2-b1d0-76c3c0fbe240",
   "metadata": {},
   "outputs": [],
   "source": [
    "param_RF = {\n",
    "    'random_forest__n_estimators': [100, 200, 500, 1000],\n",
    "    'random_forest__max_samples': [0.5, 0.7, 1.0],\n",
    "    #'random_forest__criterion': ['squared_error', 'absolute_error', 'friedman_mse', 'poisson']\n",
    "}"
   ]
  },
  {
   "cell_type": "code",
   "execution_count": null,
   "id": "71d4e80b-9db9-46a2-abf4-a2a44491a4d6",
   "metadata": {},
   "outputs": [],
   "source": [
    "# application preprocessor et modèle\n",
    "RF_model = Pipeline([('preprocessor', preprocessor), ('random_forest', RandomForestRegressor(random_state=22))])"
   ]
  },
  {
   "cell_type": "markdown",
   "id": "39353ba2-f366-4449-92ad-865384d04192",
   "metadata": {},
   "source": [
    "**GridSearchCV :**"
   ]
  },
  {
   "cell_type": "code",
   "execution_count": null,
   "id": "0fd14f23-d33d-4ad0-a7d2-0209960ebdbc",
   "metadata": {},
   "outputs": [],
   "source": [
    "# mesure du temps pour GridSearchCV\n",
    "start_time = time.time()\n",
    "grid_search = GridSearchCV(estimator=RF_model, param_grid=param_RF, cv=5, n_jobs=-1, scoring='r2')\n",
    "grid_search.fit(X_train_BR, y_train_BR)\n",
    "end_time = time.time()\n",
    "grid_search_time = end_time - start_time"
   ]
  },
  {
   "cell_type": "code",
   "execution_count": null,
   "id": "a08ad8ab-f4ec-46a1-a87d-d23f37f535ea",
   "metadata": {},
   "outputs": [],
   "source": [
    "print(f\"Temps d'optimisation par GridSearchCV : {grid_search_time}\")\n",
    "print(f\"Meilleurs hyperparamètres : {grid_search.best_params_}\")\n",
    "print(f\"Meilleur score (R^2) : {grid_search.best_score_}\")"
   ]
  },
  {
   "cell_type": "code",
   "execution_count": null,
   "id": "28383a19-cc97-40e1-bc5d-3616e287e39b",
   "metadata": {},
   "outputs": [],
   "source": [
    "best_params_grid_RF = grid_search.best_params_\n",
    "\n",
    "best_RF_model_grid = Pipeline([('preprocessor', preprocessor), \n",
    "                               ('random_forest', RandomForestRegressor(n_estimators=best_params_grid_RF['random_forest__n_estimators'],\n",
    "                                                                       max_samples=best_params_grid_RF['random_forest__max_samples'], \n",
    "                                                                       #criterion=best_params_grid_RF['random_forest__criterion'],\n",
    "                                                                       random_state=22))])\n",
    "best_RF_model_grid.fit(X_train_RF, y_train_RF)\n",
    "train_r2(best_RF_model_grid, X_train_RF, y_train_RF)"
   ]
  },
  {
   "cell_type": "code",
   "execution_count": null,
   "id": "7b2885b7-bc1a-47fa-9f07-7acdf2a7386b",
   "metadata": {},
   "outputs": [],
   "source": [
    "# prediction sur le jeu de test\n",
    "y_pred_BR_grid = best_RF_model_grid.predict(X_test_BR)\n",
    "test_r2(y_test_BR, y_pred_BR_grid)\n",
    "\n",
    "# classe ShuffleSplit trouvé sur la doc scikit-learn afin de comparer avec un cv=5 uù je trouve de grosses différences \n",
    "# https://scikit-learn.org/stable/modules/cross_validation.html#computing-cross-validated-metrics\n",
    "#cv = ShuffleSplit(n_splits=5, test_size=0.3, random_state=22)\n",
    "score_RF_grid = cross_val_score(best_RF_model_grid, X, y, cv=5)\n",
    "print(f\"Cross_Validation : {score_RF_grid}\")"
   ]
  },
  {
   "cell_type": "markdown",
   "id": "4998b472-1a90-4dd5-905e-88d452d88d6d",
   "metadata": {},
   "source": [
    "**Commentaires :**  \n",
    "* Baisse du score de train suite à optimisation (0.85) ==> réduction de l'écart avec les score de test\n",
    "* Toujours une forte variation des scores du Cross_Validation (0.37 à 0.66)"
   ]
  },
  {
   "cell_type": "code",
   "execution_count": null,
   "id": "c9108451-9535-40a8-b5e3-4d7b149fc100",
   "metadata": {},
   "outputs": [],
   "source": [
    "#plot_learning_curve(best_RF_model_grid, X, y)"
   ]
  },
  {
   "cell_type": "markdown",
   "id": "f87c2263-df24-478e-a9a3-21f5c0101069",
   "metadata": {},
   "source": [
    "**RandomSearchCV :**"
   ]
  },
  {
   "cell_type": "code",
   "execution_count": null,
   "id": "4158cb04-bd3c-4936-b097-8779ec7b1923",
   "metadata": {},
   "outputs": [],
   "source": [
    "# mesure temps optimisation de RandomSearchCV\n",
    "start_time = time.time()\n",
    "random_search = RandomizedSearchCV(estimator=RF_model, param_distributions=param_RF, cv=5, n_jobs=-1, scoring='r2')\n",
    "random_search.fit(X_train_BR, y_train_BR)\n",
    "end_time = time.time()\n",
    "random_search_time = end_time - start_time"
   ]
  },
  {
   "cell_type": "code",
   "execution_count": null,
   "id": "baeabd9c-6f0a-4225-a5ad-3fbebf281b66",
   "metadata": {},
   "outputs": [],
   "source": [
    "print(f\"Temps d'optimisation par RandomSearchCV : {random_search_time}\")\n",
    "print(f\"Meilleurs hyperparamètres : {random_search.best_params_}\")\n",
    "print(f\"Meilleur score (R^2) : {random_search.best_score_}\")"
   ]
  },
  {
   "cell_type": "code",
   "execution_count": null,
   "id": "db03c090-f3f7-48a7-b171-78cd9c26f823",
   "metadata": {},
   "outputs": [],
   "source": [
    "best_params_random_RF = random_search.best_params_\n",
    "\n",
    "best_RF_model_random = Pipeline([('preprocessor', preprocessor), \n",
    "                               ('random_forest', RandomForestRegressor(n_estimators=best_params_random_RF['random_forest__n_estimators'],\n",
    "                                                                       max_samples=best_params_random_RF['random_forest__max_samples'], \n",
    "                                                                       #criterion=best_params_random_RF['random_forest__criterion'],\n",
    "                                                                       random_state=22))])\n",
    "best_RF_model_random.fit(X_train_RF, y_train_RF)\n",
    "train_r2(best_RF_model_random, X_train_RF, y_train_RF)"
   ]
  },
  {
   "cell_type": "code",
   "execution_count": null,
   "id": "c50e639f-384e-41c9-a957-6b8f086e7660",
   "metadata": {},
   "outputs": [],
   "source": [
    "# prediction sur le jeu de test\n",
    "y_pred_RF_random = best_RF_model_random.predict(X_test_RF)\n",
    "test_r2(y_test_RF, y_pred_RF_random)\n",
    "\n",
    "# classe ShuffleSplit trouvé sur la doc scikit-learn afin de comparer avec un cv=5 uù je trouve de grosses différences \n",
    "# https://scikit-learn.org/stable/modules/cross_validation.html#computing-cross-validated-metrics\n",
    "#cv = ShuffleSplit(n_splits=5, test_size=0.3, random_state=22)\n",
    "score_RF_random = cross_val_score(best_RF_model_random, X, y, cv=5)\n",
    "print(f\"Cross_Validation : {score_RF_random}\")"
   ]
  },
  {
   "cell_type": "markdown",
   "id": "1688f861-09b2-4656-96ff-7cc96779d8ea",
   "metadata": {},
   "source": [
    "**Commentaires :**  \n",
    "* Gain de temps du RandomSearch pour trouver les mêmes hyperparamètres optimaux\n",
    "* Scores équivalents entre RandomSearch et GridSearch."
   ]
  },
  {
   "cell_type": "markdown",
   "id": "fca8485e-6847-406d-aeb9-62452effac3e",
   "metadata": {},
   "source": [
    "---\n",
    "---\n",
    "### 4.3 - AdaBoost Regressor :"
   ]
  },
  {
   "cell_type": "markdown",
   "id": "b6ecffb4-0a78-4c6b-b01e-4ee3550a9d7d",
   "metadata": {},
   "source": [
    "Hyperparamètres à évaluer :\n",
    "* n_estimators : nombre d'arbres dans la forêt\n",
    "* max_depht : profondeur maximale des arbres\n",
    "* min_samples_split : nombre minimum d'échantillons pour diviser un nœud"
   ]
  },
  {
   "cell_type": "code",
   "execution_count": null,
   "id": "78c2c005-8761-4e8a-850f-d8063592a2ce",
   "metadata": {},
   "outputs": [],
   "source": [
    "# chargement des datasets\n",
    "X_train_AB = X_train_final.copy()\n",
    "X_test_AB = X_test_final.copy()\n",
    "y_train_AB = y_train_final.copy()\n",
    "y_test_AB = y_test_final.copy()"
   ]
  },
  {
   "cell_type": "code",
   "execution_count": null,
   "id": "f62241fb-5642-456e-8094-e71b631db842",
   "metadata": {},
   "outputs": [],
   "source": [
    "# application preprocessor et modèle\n",
    "AB_model = Pipeline([('preprocessor', preprocessor), ('adaboost_regressor', AdaBoostRegressor(random_state=22))])"
   ]
  },
  {
   "cell_type": "code",
   "execution_count": null,
   "id": "5199c99e-6ef3-4bb2-8a6e-f8bd91bdc4fb",
   "metadata": {},
   "outputs": [],
   "source": [
    "# entrainement sur le jeu d'entrainement\n",
    "AB_model.fit(X_train_AB, y_train_AB)\n",
    "train_r2(AB_model, X_train_AB, y_train_AB)"
   ]
  },
  {
   "cell_type": "code",
   "execution_count": null,
   "id": "472dacc9-2718-4f89-a6cc-e0ff203caa48",
   "metadata": {},
   "outputs": [],
   "source": [
    "# prediction sur le jeu de test\n",
    "y_pred_AB = AB_model.predict(X_test_AB)\n",
    "test_r2(y_test_AB, y_pred_AB)\n",
    "\n",
    "# classe ShuffleSplit trouvé sur la doc scikit-learn afin de comparer avec un cv=5 uù je trouve de grosses différences \n",
    "# https://scikit-learn.org/stable/modules/cross_validation.html#computing-cross-validated-metrics\n",
    "#cv = ShuffleSplit(n_splits=5, test_size=0.3, random_state=22)\n",
    "score_AB = cross_val_score(AB_model, X, y, cv=5)\n",
    "print(f\"Cross_Validation : {score_AB}\")"
   ]
  },
  {
   "cell_type": "markdown",
   "id": "d1a30eb9-a72c-456c-873d-32b548a274e7",
   "metadata": {},
   "source": [
    "**Commentaires :**  \n",
    "* Scores plutôt mauvais avec les hyperparamètres par défaut du modèle AdaBoost Regressor."
   ]
  },
  {
   "cell_type": "markdown",
   "id": "72b802ad-ceac-4970-b742-f7eb1972b28f",
   "metadata": {},
   "source": [
    "**Comparaison optimisation par GridSearchCV Vs RandomSearchCV:**"
   ]
  },
  {
   "cell_type": "code",
   "execution_count": null,
   "id": "58343e17-b9b2-4ca4-84e2-901795f78244",
   "metadata": {},
   "outputs": [],
   "source": [
    "param_adaboost = {\n",
    "    'adaboost_regressor__n_estimators': [100, 200, 300, 500, 1000],\n",
    "    'adaboost_regressor__learning_rate': [0.01, 0.1, 1, 10],\n",
    "}"
   ]
  },
  {
   "cell_type": "code",
   "execution_count": null,
   "id": "fe918808-5797-4ecc-9982-bce7a04c41cd",
   "metadata": {},
   "outputs": [],
   "source": [
    "# application preprocessor et modèle\n",
    "AB_model = Pipeline([('preprocessor', preprocessor), ('adaboost_regressor', AdaBoostRegressor(random_state=22))])"
   ]
  },
  {
   "cell_type": "markdown",
   "id": "8ca5d692-ff13-4a5d-8835-2c4b96f468a8",
   "metadata": {},
   "source": [
    "**GridSearchCV :**"
   ]
  },
  {
   "cell_type": "code",
   "execution_count": null,
   "id": "d828d9a3-8547-453b-9362-730fc11b9892",
   "metadata": {},
   "outputs": [],
   "source": [
    "# mesure du temps pour GridSearchCV\n",
    "start_time = time.time()\n",
    "grid_search = GridSearchCV(estimator=AB_model, param_grid=param_adaboost, cv=5, n_jobs=-1, scoring='r2')\n",
    "grid_search.fit(X_train_AB, y_train_AB)\n",
    "end_time = time.time()\n",
    "grid_search_time = end_time - start_time"
   ]
  },
  {
   "cell_type": "code",
   "execution_count": null,
   "id": "70f3270a-d911-4ffc-96cd-bf1961473902",
   "metadata": {},
   "outputs": [],
   "source": [
    "print(f\"Temps d'optimisation par GridSearchCV : {grid_search_time}\")\n",
    "print(f\"Meilleurs hyperparamètres : {grid_search.best_params_}\")\n",
    "print(f\"Meilleur score (R^2) : {grid_search.best_score_}\")"
   ]
  },
  {
   "cell_type": "code",
   "execution_count": null,
   "id": "e78ec696-ee83-430e-8027-18b4e6e4462d",
   "metadata": {},
   "outputs": [],
   "source": [
    "best_params_grid_AB = grid_search.best_params_\n",
    "\n",
    "best_AB_model_grid = Pipeline([('preprocessor', preprocessor), \n",
    "                               ('adaboost_regressor', AdaBoostRegressor(n_estimators=best_params_grid_AB['adaboost_regressor__n_estimators'],\n",
    "                                                                       learning_rate=best_params_grid_AB['adaboost_regressor__learning_rate'], \n",
    "                                                                       random_state=22))])\n",
    "best_AB_model_grid.fit(X_train_AB, y_train_AB)\n",
    "train_r2(best_AB_model_grid, X_train_AB, y_train_AB)"
   ]
  },
  {
   "cell_type": "code",
   "execution_count": null,
   "id": "74445514-b718-4118-b538-6214224ed863",
   "metadata": {},
   "outputs": [],
   "source": [
    "# prediction sur le jeu de test\n",
    "y_pred_AB_grid = best_AB_model_grid.predict(X_test_BR)\n",
    "test_r2(y_test_AB, y_pred_AB_grid)\n",
    "\n",
    "# classe ShuffleSplit trouvé sur la doc scikit-learn afin de comparer avec un cv=5 uù je trouve de grosses différences \n",
    "# https://scikit-learn.org/stable/modules/cross_validation.html#computing-cross-validated-metrics\n",
    "#cv = ShuffleSplit(n_splits=5, test_size=0.3, random_state=22)\n",
    "score_AB_grid = cross_val_score(best_AB_model_grid, X, y, cv=5)\n",
    "print(f\"Cross_Validation : {score_AB_grid}\")"
   ]
  },
  {
   "cell_type": "markdown",
   "id": "bfe1a37b-dfab-410d-bbe1-53f4ea5851dd",
   "metadata": {},
   "source": [
    "**Commentaires :**  \n",
    "* Scores train et test équivalents (0.56)\n",
    "* Cross_validation varie fortement."
   ]
  },
  {
   "cell_type": "code",
   "execution_count": null,
   "id": "6c30fb50-d67d-43c6-bb8b-1311e7ae1e9c",
   "metadata": {},
   "outputs": [],
   "source": [
    "#plot_learning_curve(best_AB_model_grid, X, y)"
   ]
  },
  {
   "cell_type": "markdown",
   "id": "bc2bbdb7-b93b-4532-a484-8138daf5f957",
   "metadata": {},
   "source": [
    "**RandomSearchCV :**"
   ]
  },
  {
   "cell_type": "code",
   "execution_count": null,
   "id": "ff98ba9d-7099-4605-b6ef-ad76afac7d1c",
   "metadata": {},
   "outputs": [],
   "source": [
    "# mesure temps optimisation de RandomSearchCV\n",
    "start_time = time.time()\n",
    "random_search = RandomizedSearchCV(estimator=AB_model, param_distributions=param_adaboost, cv=5, n_jobs=-1, scoring='r2')\n",
    "random_search.fit(X_train_AB, y_train_AB)\n",
    "end_time = time.time()\n",
    "random_search_time = end_time - start_time"
   ]
  },
  {
   "cell_type": "code",
   "execution_count": null,
   "id": "13d42d43-b8b3-4532-be09-a2bb5b079f10",
   "metadata": {},
   "outputs": [],
   "source": [
    "print(f\"Temps d'optimisation par RandomSearchCV : {random_search_time}\")\n",
    "print(f\"Meilleurs hyperparamètres : {random_search.best_params_}\")\n",
    "print(f\"Meilleur score (R^2) : {random_search.best_score_}\")"
   ]
  },
  {
   "cell_type": "code",
   "execution_count": null,
   "id": "e7dcdde0-b18f-4e97-8d65-d3c2ba042466",
   "metadata": {},
   "outputs": [],
   "source": [
    "best_params_random_AB = grid_search.best_params_\n",
    "\n",
    "best_AB_model_random = Pipeline([('preprocessor', preprocessor), \n",
    "                               ('adaboost_regressor', AdaBoostRegressor(n_estimators=best_params_random_AB['adaboost_regressor__n_estimators'],\n",
    "                                                                       learning_rate=best_params_random_AB['adaboost_regressor__learning_rate'], \n",
    "                                                                       random_state=22))])\n",
    "best_AB_model_random.fit(X_train_AB, y_train_AB)\n",
    "train_r2(best_AB_model_random, X_train_AB, y_train_AB)"
   ]
  },
  {
   "cell_type": "code",
   "execution_count": null,
   "id": "51d40b7c-c52e-40a3-a672-40cea7239960",
   "metadata": {},
   "outputs": [],
   "source": [
    "# prediction sur le jeu de test\n",
    "y_pred_AB_random = best_AB_model_random.predict(X_test_AB)\n",
    "test_r2(y_test_AB, y_pred_AB_random)\n",
    "\n",
    "# classe ShuffleSplit trouvé sur la doc scikit-learn afin de comparer avec un cv=5 uù je trouve de grosses différences \n",
    "# https://scikit-learn.org/stable/modules/cross_validation.html#computing-cross-validated-metrics\n",
    "#cv = ShuffleSplit(n_splits=5, test_size=0.3, random_state=22)\n",
    "score_AB_random = cross_val_score(best_AB_model_random, X, y, cv=5)\n",
    "print(f\"Cross_Validation : {score_AB_random}\")"
   ]
  },
  {
   "cell_type": "markdown",
   "id": "6ad6ae6c-21e9-40cf-b5f3-7506a7b7bfd7",
   "metadata": {},
   "source": [
    "**Commentaires :**  \n",
    "* Scores équivalents entre GridSearch et RandomSearch mais gain de temps pour ce dernier.\n"
   ]
  },
  {
   "cell_type": "markdown",
   "id": "1a22f733-1f39-483d-8d1c-031540094025",
   "metadata": {},
   "source": [
    "---\n",
    "---\n",
    "### 4.4 - Stacking Regressor :"
   ]
  },
  {
   "attachments": {
    "0aea0fe5-cf23-420d-8f4d-7918adb583f8.png": {
     "image/png": "[encoded data removed]"
    }
   },
   "cell_type": "markdown",
   "id": "be8fa18e-0ac6-4431-ad54-070529a85242",
   "metadata": {},
   "source": [
    "![stackingregression_overview.png](attachment:0aea0fe5-cf23-420d-8f4d-7918adb583f8.png)"
   ]
  },
  {
   "cell_type": "markdown",
   "id": "01a82bbb-6316-4969-b712-e7a2a0941597",
   "metadata": {},
   "source": [
    "Hyperparamètres à évaluer :\n",
    "* Régularisation C de l'estimateur SVR\n",
    "* Régularisation alpha de l'estimateur Ridge\n",
    "* n_estimators de l'estimateur final RandomForestRegressor"
   ]
  },
  {
   "cell_type": "code",
   "execution_count": null,
   "id": "72f408c0-06a2-41f0-b60e-07ebd0ca88d9",
   "metadata": {},
   "outputs": [],
   "source": [
    "# chargement des datasets\n",
    "X_train_SR = X_train_final.copy()\n",
    "X_test_SR = X_test_final.copy()\n",
    "y_train_SR = y_train_final.copy()\n",
    "y_test_SR = y_test_final.copy()"
   ]
  },
  {
   "cell_type": "code",
   "execution_count": null,
   "id": "b1fc8f62-8c9b-4ad3-b9f8-2fef402f27b9",
   "metadata": {},
   "outputs": [],
   "source": [
    "estimators = [('lr', LinearRegression()),\n",
    "              ('svr_lin', LinearSVR(random_state=22)),\n",
    "              ('ridge', Ridge(random_state=22))\n",
    "             ]"
   ]
  },
  {
   "cell_type": "code",
   "execution_count": null,
   "id": "d647533b-89d7-4821-8425-1a8684c2a3b0",
   "metadata": {},
   "outputs": [],
   "source": [
    "# application preprocessor et modèle\n",
    "SR_model = Pipeline([('preprocessor', preprocessor), \n",
    "                     ('stacking_regressor', StackingRegressor(estimators=estimators,\n",
    "                                                              final_estimator=RandomForestRegressor(random_state=22)))])"
   ]
  },
  {
   "cell_type": "code",
   "execution_count": null,
   "id": "d4e64c49-dfd0-455f-9c5b-ad4116d9540c",
   "metadata": {},
   "outputs": [],
   "source": [
    "# entrainement sur le jeu d'entrainement\n",
    "SR_model.fit(X_train_SR, y_train_SR)\n",
    "train_r2(SR_model, X_train_SR, y_train_SR)"
   ]
  },
  {
   "cell_type": "code",
   "execution_count": null,
   "id": "25babd68-7903-49b3-9f32-c20c6c06d6be",
   "metadata": {},
   "outputs": [],
   "source": [
    "# prediction sur le jeu de test\n",
    "y_pred_SR = SR_model.predict(X_test_SR)\n",
    "test_r2(y_test_SR, y_pred_SR)\n",
    "\n",
    "# classe ShuffleSplit trouvé sur la doc scikit-learn afin de comparer avec un cv=5 uù je trouve de grosses différences \n",
    "# https://scikit-learn.org/stable/modules/cross_validation.html#computing-cross-validated-metrics\n",
    "#cv = ShuffleSplit(n_splits=5, test_size=0.3, random_state=22)\n",
    "score_SR = cross_val_score(SR_model, X, y, cv=5)\n",
    "print(f\"Cross_Validation : {score_SR}\")"
   ]
  },
  {
   "cell_type": "markdown",
   "id": "dfefee5d-dab7-4ee9-889c-0d8f77bccded",
   "metadata": {},
   "source": [
    "**Commentaires :**  \n",
    "* Scores Train et test équivalent à 0.64\n",
    "* Cross_validation varie entre 0.20 et 0.48"
   ]
  },
  {
   "cell_type": "markdown",
   "id": "aa1be82f-fdc6-4c39-a8fb-16364d0ca5c2",
   "metadata": {},
   "source": [
    "**Comparaison optimisation par GridSearchCV Vs RandomSearchCV:**"
   ]
  },
  {
   "cell_type": "code",
   "execution_count": null,
   "id": "09c77a21-f8fe-4eda-82da-ed9b14b1a203",
   "metadata": {},
   "outputs": [],
   "source": [
    "param_stacking = {\n",
    "    'stacking_regressor__svr_lin__C': [0.01, 0.1, 1, 10],\n",
    "    'stacking_regressor__ridge__alpha': [0.1, 1, 10, 20],\n",
    "    'stacking_regressor__final_estimator__n_estimators': [10, 50, 100, 200],\n",
    "}"
   ]
  },
  {
   "cell_type": "code",
   "execution_count": null,
   "id": "eafae9bc-09e9-417a-993e-cd78d32a6dc6",
   "metadata": {},
   "outputs": [],
   "source": [
    "estimators = [('lr', LinearRegression()),\n",
    "              ('svr_lin', LinearSVR(random_state=22)),\n",
    "              ('ridge', Ridge(random_state=22))\n",
    "             ]"
   ]
  },
  {
   "cell_type": "code",
   "execution_count": null,
   "id": "949c6dbe-7ffe-4a69-9cdf-117f2f7536ed",
   "metadata": {},
   "outputs": [],
   "source": [
    "SR_model = Pipeline([('preprocessor', preprocessor), ('stacking_regressor', StackingRegressor(estimators=estimators, final_estimator=RandomForestRegressor(random_state=22)))])"
   ]
  },
  {
   "cell_type": "markdown",
   "id": "71b2cc55-157a-4680-ac48-ffe1b86158a9",
   "metadata": {},
   "source": [
    "**GridSearchCV :**"
   ]
  },
  {
   "cell_type": "code",
   "execution_count": null,
   "id": "94a68cb9-07aa-441f-afc3-92e4c80b0ff0",
   "metadata": {},
   "outputs": [],
   "source": [
    "# mesure du temps pour GridSearchCV\n",
    "start_time = time.time()\n",
    "grid_search = GridSearchCV(estimator=SR_model, param_grid=param_stacking, cv=5, n_jobs=-1, scoring='r2')\n",
    "grid_search.fit(X_train_SR, y_train_SR)\n",
    "end_time = time.time()\n",
    "grid_search_time = end_time - start_time"
   ]
  },
  {
   "cell_type": "code",
   "execution_count": null,
   "id": "e500b1ab-5003-4958-9ab5-917ec71b2018",
   "metadata": {},
   "outputs": [],
   "source": [
    "print(f\"Temps d'optimisation par GridSearchCV : {grid_search_time}\")\n",
    "print(f\"Meilleurs hyperparamètres : {grid_search.best_params_}\")\n",
    "print(f\"Meilleur score (R^2) : {grid_search.best_score_}\")"
   ]
  },
  {
   "cell_type": "code",
   "execution_count": null,
   "id": "3a9ef76e-c77e-4694-8f21-ab73c770ae0c",
   "metadata": {},
   "outputs": [],
   "source": [
    "best_params = grid_search.best_params_\n",
    "\n",
    "best_estimators = [('lr', LinearRegression()),\n",
    "                   ('svr_lin', LinearSVR(random_state=22, C=best_params['stacking_regressor__svr_lin__C'])),\n",
    "                   ('ridge', Ridge(random_state=22, alpha=best_params['stacking_regressor__ridge__alpha']))\n",
    "                  ]\n",
    "\n",
    "best_final_estimator = RandomForestRegressor(random_state=22, n_estimators=best_params['stacking_regressor__final_estimator__n_estimators'])"
   ]
  },
  {
   "cell_type": "code",
   "execution_count": null,
   "id": "5a764a58-8d3d-4f4d-8a67-adcdad693eff",
   "metadata": {},
   "outputs": [],
   "source": [
    "best_stacking_model = Pipeline([('preprocessor', preprocessor),\n",
    "                                ('stacking_regressor', StackingRegressor(estimators=best_estimators, final_estimator=best_final_estimator))\n",
    "                               ])\n",
    "\n",
    "best_stacking_model.fit(X_train_SR, y_train_SR)\n",
    "train_r2(best_stacking_model, X_train_SR, y_train_SR)"
   ]
  },
  {
   "cell_type": "code",
   "execution_count": null,
   "id": "833e9ec5-bc0e-415a-b7f9-d20b9bb90337",
   "metadata": {},
   "outputs": [],
   "source": [
    "# prediction sur le jeu de test\n",
    "y_pred_SR_grid = best_stacking_model.predict(X_test_SR)\n",
    "test_r2(y_test_SR, y_pred_SR_grid)\n",
    "\n",
    "# classe ShuffleSplit trouvé sur la doc scikit-learn afin de comparer avec un cv=5 uù je trouve de grosses différences \n",
    "# https://scikit-learn.org/stable/modules/cross_validation.html#computing-cross-validated-metrics\n",
    "#cv = ShuffleSplit(n_splits=5, test_size=0.3, random_state=22)\n",
    "score_SR_grid = cross_val_score(best_stacking_model, X, y, cv=5)\n",
    "print(f\"Cross_Validation : {score_SR_grid}\")"
   ]
  },
  {
   "cell_type": "markdown",
   "id": "9bf47247-115b-40c6-a2cb-c929fff45ca1",
   "metadata": {},
   "source": [
    "**Commentaires :**  \n",
    "* Scores équivalent avec optimisation\n",
    "* Dégradation des scores de Cross_validation (entre 0.19 et 0.55)"
   ]
  },
  {
   "cell_type": "code",
   "execution_count": null,
   "id": "884e590f-1d42-45fd-b238-d514fe55e068",
   "metadata": {},
   "outputs": [],
   "source": [
    "#plot_learning_curve(best_stacking_model, X, y)"
   ]
  },
  {
   "cell_type": "markdown",
   "id": "f18fc527-c4c9-490a-9105-6d957c9f844b",
   "metadata": {},
   "source": [
    "**RandomSearchCV :**"
   ]
  },
  {
   "cell_type": "code",
   "execution_count": null,
   "id": "3b2c4b78-682a-430c-ad85-29824d6ea31e",
   "metadata": {},
   "outputs": [],
   "source": [
    "estimators = [('lr', LinearRegression()),\n",
    "              ('svr_lin', LinearSVR(random_state=22)),\n",
    "              ('ridge', Ridge(random_state=22))\n",
    "             ]"
   ]
  },
  {
   "cell_type": "code",
   "execution_count": null,
   "id": "b563e7f4-d75c-4e64-8c5d-e04947edc968",
   "metadata": {},
   "outputs": [],
   "source": [
    "# mesure temps optimisation de RandomSearchCV\n",
    "start_time = time.time()\n",
    "random_search = RandomizedSearchCV(estimator=SR_model, param_distributions=param_stacking, cv=5, n_jobs=-1, scoring='r2')\n",
    "random_search.fit(X_train_SR, y_train_SR)\n",
    "end_time = time.time()\n",
    "random_search_time = end_time - start_time"
   ]
  },
  {
   "cell_type": "code",
   "execution_count": null,
   "id": "ec4c72b5-9ec7-4d25-9a92-ab9f8e3c07cd",
   "metadata": {},
   "outputs": [],
   "source": [
    "print(f\"Temps d'optimisation par RandomSearchCV : {random_search_time}\")\n",
    "print(f\"Meilleurs hyperparamètres : {random_search.best_params_}\")\n",
    "print(f\"Meilleur score (R^2) : {random_search.best_score_}\")"
   ]
  },
  {
   "cell_type": "code",
   "execution_count": null,
   "id": "70468f8c-bbfe-4036-971a-1e181f53d4f3",
   "metadata": {},
   "outputs": [],
   "source": [
    "best_params_random = random_search.best_params_\n",
    "\n",
    "best_estimators_random = [('lr', LinearRegression()),\n",
    "                          ('svr_lin', LinearSVR(random_state=22, C=best_params_random['stacking_regressor__svr_lin__C'])),\n",
    "                          ('ridge', Ridge(random_state=22, alpha=best_params_random['stacking_regressor__ridge__alpha']))\n",
    "                         ]\n",
    "\n",
    "best_final_estimator_random = RandomForestRegressor(random_state=22,\n",
    "                                             n_estimators=best_params_random['stacking_regressor__final_estimator__n_estimators']\n",
    "                                            )"
   ]
  },
  {
   "cell_type": "code",
   "execution_count": null,
   "id": "c9ed4a4d-d85e-463c-8bd0-cc09dd8d51fb",
   "metadata": {},
   "outputs": [],
   "source": [
    "best_stacking_model_random = Pipeline([('preprocessor', preprocessor), \n",
    "                                       ('stacking_regressor', StackingRegressor(estimators=best_estimators_random, final_estimator=best_final_estimator_random))\n",
    "                                      ])\n",
    "\n",
    "best_stacking_model_random.fit(X_train_SR, y_train_SR)\n",
    "train_r2(best_stacking_model_random, X_train_SR, y_train_SR)"
   ]
  },
  {
   "cell_type": "code",
   "execution_count": null,
   "id": "48e0d6f9-0c83-4458-89a9-bb2475b5ec46",
   "metadata": {},
   "outputs": [],
   "source": [
    "# prediction sur le jeu de test\n",
    "y_pred_SR_random = best_stacking_model_random.predict(X_test_SR)\n",
    "test_r2(y_test_SR, y_pred_SR)\n",
    "\n",
    "# classe ShuffleSplit trouvé sur la doc scikit-learn afin de comparer avec un cv=5 uù je trouve de grosses différences \n",
    "# https://scikit-learn.org/stablebbb/modules/cross_validation.html#computing-cross-validated-metrics\n",
    "#cv = ShuffleSplit(n_splits=5, test_size=0.3, random_state=22)\n",
    "score_SR_random = cross_val_score(best_stacking_model_random, X, y, cv=5)\n",
    "print(f\"Cross_Validation : {score_SR_random}\")"
   ]
  },
  {
   "cell_type": "markdown",
   "id": "87abba70-f4db-4f73-bf1b-cbdccd78f4a9",
   "metadata": {},
   "source": [
    "**Commentaires :**  \n",
    "* Scores équivalents entre GridSearch et RandomSearch mais gain de temps pour ce dernier."
   ]
  },
  {
   "cell_type": "markdown",
   "id": "83b30b04-f379-4b7c-8a43-ca9e480a10fb",
   "metadata": {},
   "source": [
    "---\n",
    "---\n",
    "### 4.5 - Gradient Boosting Regressor :"
   ]
  },
  {
   "attachments": {
    "03702794-9778-4de2-bf4a-00aeb299ed01.png": {
     "image/png": "[encoded data removed]"
    }
   },
   "cell_type": "markdown",
   "id": "a0edf9a0-2aed-43c1-9616-d361cbbec0f2",
   "metadata": {},
   "source": [
    "![Schematical-representation-of-gradient-boosting-regression-in-regards-to-algorithm.png](attachment:03702794-9778-4de2-bf4a-00aeb299ed01.png)"
   ]
  },
  {
   "cell_type": "code",
   "execution_count": null,
   "id": "d56fbd6a-1ac0-4ab8-b379-e668caa5fa08",
   "metadata": {},
   "outputs": [],
   "source": [
    "from sklearn.ensemble import GradientBoostingRegressor"
   ]
  },
  {
   "cell_type": "code",
   "execution_count": null,
   "id": "cfc69e59-0c6a-4a9c-8615-ea9f8bf1b5a6",
   "metadata": {},
   "outputs": [],
   "source": [
    "# chargement des datasets\n",
    "X_train_gbr = X_train_final.copy()\n",
    "X_test_gbr = X_test_final.copy()\n",
    "y_train_gbr = y_train_final.copy()\n",
    "y_test_gbr = y_test_final.copy()"
   ]
  },
  {
   "cell_type": "code",
   "execution_count": null,
   "id": "f634d02b-04dd-41a0-af83-08eeaf8e3feb",
   "metadata": {},
   "outputs": [],
   "source": [
    "gbr_model = Pipeline([('preprocessor', preprocessor), ('gbr', GradientBoostingRegressor(random_state=22))])"
   ]
  },
  {
   "cell_type": "code",
   "execution_count": null,
   "id": "2a41b1d1-a3a3-42b5-9aa7-352397a7e72b",
   "metadata": {},
   "outputs": [],
   "source": [
    "gbr_model.fit(X_train_gbr, y_train_gbr)"
   ]
  },
  {
   "cell_type": "code",
   "execution_count": null,
   "id": "940a0b36-2aa0-4f2c-abc2-5e785708b671",
   "metadata": {},
   "outputs": [],
   "source": [
    "train_r2(gbr_model, X_train_gbr, y_train_gbr)"
   ]
  },
  {
   "cell_type": "code",
   "execution_count": null,
   "id": "70946aa8-b592-43db-9a53-69e09572306c",
   "metadata": {},
   "outputs": [],
   "source": [
    "# prediction sur le jeu de test\n",
    "y_pred_gbr = gbr_model.predict(X_test_gbr)\n",
    "test_r2(y_test_gbr, y_pred_gbr)\n",
    "\n",
    "# classe ShuffleSplit trouvé sur la doc scikit-learn afin de comparer avec un cv=5 uù je trouve de grosses différences \n",
    "# https://scikit-learn.org/stable/modules/cross_validation.html#computing-cross-validated-metrics\n",
    "#cv = ShuffleSplit(n_splits=5, test_size=0.3, random_state=22)\n",
    "score_gbr = cross_val_score(gbr_model, X, y, cv=5)\n",
    "print(f\"Cross_Validation : {score_gbr}\")"
   ]
  },
  {
   "cell_type": "markdown",
   "id": "e89f7a1b-1346-4c1f-aa97-026f2ead1ae6",
   "metadata": {},
   "source": [
    "**Commentaires :**  \n",
    "* Léger surapprentissage 0.82 et 0.67\n",
    "* Variation dans les scores de Cross_validation : de 0.40 à 0.68"
   ]
  },
  {
   "cell_type": "markdown",
   "id": "10fb4ba4-62df-415d-a374-2bc99b98cea5",
   "metadata": {},
   "source": [
    "**Comparaison optimisation par GridSearchCV Vs RandomSearchCV:**"
   ]
  },
  {
   "cell_type": "code",
   "execution_count": null,
   "id": "2634f7b2-377d-43b0-a602-9c733163e662",
   "metadata": {},
   "outputs": [],
   "source": [
    "param_grid_bgr = {\n",
    "    'gbr__n_estimators': [100, 200, 300],\n",
    "    'gbr__learning_rate': [0.01, 0.05, 0.1],\n",
    "    'gbr__max_depth': [3, 4, 5],\n",
    "    'gbr__subsample': [0.8, 0.9, 1.0]\n",
    "}"
   ]
  },
  {
   "cell_type": "code",
   "execution_count": null,
   "id": "ce052d56-bf31-4338-90e7-322b5df93690",
   "metadata": {},
   "outputs": [],
   "source": [
    "gbr_model = Pipeline([('preprocessor', preprocessor), ('gbr', GradientBoostingRegressor(random_state=22))])"
   ]
  },
  {
   "cell_type": "markdown",
   "id": "f3c96383-9718-43ce-8bd3-6229685e9979",
   "metadata": {},
   "source": [
    "**GridSearchCV :**"
   ]
  },
  {
   "cell_type": "code",
   "execution_count": null,
   "id": "ba2e0b7f-0b3e-4887-8bbc-bc35710035d6",
   "metadata": {},
   "outputs": [],
   "source": [
    "# mesure du temps pour GridSearchCV\n",
    "start_time = time.time()\n",
    "grid_search = GridSearchCV(estimator=gbr_model, param_grid=param_grid_bgr, cv=5, n_jobs=-1, scoring='r2')\n",
    "grid_search.fit(X_train_gbr, y_train_gbr)\n",
    "end_time = time.time()\n",
    "grid_search_time = end_time - start_time"
   ]
  },
  {
   "cell_type": "code",
   "execution_count": null,
   "id": "08ced233-4932-412b-b7cd-a14601a7f1cb",
   "metadata": {},
   "outputs": [],
   "source": [
    "print(f\"Temps d'optimisation par GridSearchCV : {grid_search_time}\")\n",
    "print(f\"Meilleurs hyperparamètres : {grid_search.best_params_}\")\n",
    "print(f\"Meilleur score (R^2) : {grid_search.best_score_}\")"
   ]
  },
  {
   "cell_type": "code",
   "execution_count": null,
   "id": "12460ea3-d30e-47fa-91f8-9066f9e4cbc4",
   "metadata": {},
   "outputs": [],
   "source": [
    "best_params_grid_gbr = grid_search.best_params_\n",
    "\n",
    "best_gbr_model_grid = Pipeline([('preprocessor', preprocessor), \n",
    "                               ('gbr', GradientBoostingRegressor(n_estimators=best_params_grid_gbr['gbr__n_estimators'],\n",
    "                                                                 learning_rate=best_params_grid_gbr['gbr__learning_rate'],\n",
    "                                                                 max_depth=best_params_grid_gbr['gbr__max_depth'],\n",
    "                                                                 subsample=best_params_grid_gbr['gbr__subsample'],\n",
    "                                                                 random_state=22))])\n",
    "best_gbr_model_grid.fit(X_train_gbr, y_train_gbr)\n",
    "train_r2(best_gbr_model_grid, X_train_gbr, y_train_gbr)"
   ]
  },
  {
   "cell_type": "code",
   "execution_count": null,
   "id": "7246275f-10d5-4702-b519-790dae560f26",
   "metadata": {},
   "outputs": [],
   "source": [
    "# prediction sur le jeu de test\n",
    "y_pred_gbr_grid = best_gbr_model_grid.predict(X_test_gbr)\n",
    "test_r2(y_test_gbr, y_pred_gbr_grid)\n",
    "\n",
    "# classe ShuffleSplit trouvé sur la doc scikit-learn afin de comparer avec un cv=5 uù je trouve de grosses différences \n",
    "# https://scikit-learn.org/stable/modules/cross_validation.html#computing-cross-validated-metrics\n",
    "#cv = ShuffleSplit(n_splits=5, test_size=0.3, random_state=22)\n",
    "score_gbr_grid = cross_val_score(best_gbr_model_grid, X, y, cv=5)\n",
    "print(f\"Cross_Validation : {score_gbr_grid}\")"
   ]
  },
  {
   "cell_type": "markdown",
   "id": "ace42210-1241-49b7-a32d-3d9650396322",
   "metadata": {},
   "source": [
    "**Commentaires :**  \n",
    "* Amélioration des scores - Test: 0.82 à 0.87 - Train: 0.67 à 0.69\n",
    "* Augmentation de l'écart entre le Trai et le Test\n",
    "* Variation importante des scores de Cross_validation : 0.41 à 0.67"
   ]
  },
  {
   "cell_type": "code",
   "execution_count": null,
   "id": "a7cc0dae-5dd7-4a50-861c-14e23ac23fd3",
   "metadata": {},
   "outputs": [],
   "source": [
    "#plot_learning_curve(best_gbr_model_grid, X, y)"
   ]
  },
  {
   "cell_type": "markdown",
   "id": "4892e150-c522-4c0b-907c-250969f9d6f9",
   "metadata": {},
   "source": [
    "**RandomSearchCV :**"
   ]
  },
  {
   "cell_type": "code",
   "execution_count": null,
   "id": "01838b45-e179-4445-8142-d78e0a98bc69",
   "metadata": {},
   "outputs": [],
   "source": [
    "# mesure temps optimisation de RandomSearchCV\n",
    "start_time = time.time()\n",
    "random_search = RandomizedSearchCV(estimator=gbr_model, param_distributions=param_grid_bgr, cv=5, n_jobs=-1, scoring='r2')\n",
    "random_search.fit(X_train_gbr, y_train_gbr)\n",
    "end_time = time.time()\n",
    "random_search_time = end_time - start_time"
   ]
  },
  {
   "cell_type": "code",
   "execution_count": null,
   "id": "909dcfdd-40bd-4224-b9c5-1ab7de135c6e",
   "metadata": {},
   "outputs": [],
   "source": [
    "print(f\"Temps d'optimisation par RandomSearchCV : {random_search_time}\")\n",
    "print(f\"Meilleurs hyperparamètres : {random_search.best_params_}\")\n",
    "print(f\"Meilleur score (R^2) : {random_search.best_score_}\")"
   ]
  },
  {
   "cell_type": "code",
   "execution_count": null,
   "id": "ba01b300-05a6-44f9-baa7-0eecaec0b400",
   "metadata": {},
   "outputs": [],
   "source": [
    "best_params_random_gbr = grid_search.best_params_\n",
    "\n",
    "best_gbr_model_random = Pipeline([('preprocessor', preprocessor), \n",
    "                               ('gbr', GradientBoostingRegressor(n_estimators=best_params_grid_gbr['gbr__n_estimators'],\n",
    "                                                                 learning_rate=best_params_grid_gbr['gbr__learning_rate'],\n",
    "                                                                 max_depth=best_params_grid_gbr['gbr__max_depth'],\n",
    "                                                                 subsample=best_params_grid_gbr['gbr__subsample'],\n",
    "                                                                 random_state=22))])\n",
    "best_gbr_model_random.fit(X_train_gbr, y_train_gbr)\n",
    "train_r2(best_gbr_model_random, X_train_gbr, y_train_gbr)"
   ]
  },
  {
   "cell_type": "code",
   "execution_count": null,
   "id": "9dc65f7b-2bb8-4b70-8e19-c871f90dd9f8",
   "metadata": {},
   "outputs": [],
   "source": [
    "# prediction sur le jeu de test\n",
    "y_pred_gbr_random = best_gbr_model_random.predict(X_test_gbr)\n",
    "test_r2(y_test_gbr, y_pred_gbr_random)\n",
    "\n",
    "# classe ShuffleSplit trouvé sur la doc scikit-learn afin de comparer avec un cv=5 uù je trouve de grosses différences \n",
    "# https://scikit-learn.org/stable/modules/cross_validation.html#computing-cross-validated-metrics\n",
    "#cv = ShuffleSplit(n_splits=5, test_size=0.3, random_state=22)\n",
    "score_gbr_random = cross_val_score(best_gbr_model_random, X, y, cv=5)\n",
    "print(f\"Cross_Validation : {score_gbr_random}\")"
   ]
  },
  {
   "cell_type": "markdown",
   "id": "2bdc1f7c-17d8-476c-8410-7df17ecb1030",
   "metadata": {},
   "source": [
    "**Commentaires :**  \n",
    "* Scores équivalents entre GridSearch et RandomSearch mais gain de temps pour ce dernier."
   ]
  },
  {
   "cell_type": "markdown",
   "id": "1cae313a-c1b9-4602-b035-66fbd2c54428",
   "metadata": {},
   "source": [
    "---\n",
    "---\n",
    "### 4.6 - Choix du modèle et hyperparamètres "
   ]
  },
  {
   "cell_type": "markdown",
   "id": "0329f7b2-67f3-4269-af4b-a66544f5148d",
   "metadata": {},
   "source": [
    "Suite à l'étape précédente, ce qui en ressort :\n",
    "* L'optimisation des modèles est chronophage\n",
    "* Le RandomSearch est toujours plus rapide que le GridSearch\n",
    "* Le RandomSearch est toujours très proche des résultats du GridSearch voir équivalent\n",
    "* Chaque modèle montre un surapprentissage\n",
    "* Chaque modèle donne des scores Cross_validation qui varient et toujours en dessous les scores Test"
   ]
  },
  {
   "cell_type": "markdown",
   "id": "8d96f4ee-11ee-4967-bfed-7a7bc6ae5bcc",
   "metadata": {},
   "source": [
    "---\n",
    "### 4.6.1 - Choix du modèle :"
   ]
  },
  {
   "cell_type": "markdown",
   "id": "0dedb08f-fa3d-4782-8356-50a52ffc6d5e",
   "metadata": {},
   "source": [
    "Le modèle qui offre le meilleur compromis entre les scores Train/Test, ainsi que les scores de Cross_validation est le modèle : **Stacking Regressor**,  \n",
    "avec en estimateurs :\n",
    "* LinearRegression\n",
    "* LinearSVR avec C=1\n",
    "* Ridge avec alpha =1\n",
    "\n",
    "en final_estimator :\n",
    "* RandomForestRegressor avec n_estimators=100"
   ]
  },
  {
   "cell_type": "code",
   "execution_count": null,
   "id": "14d53cd8-0a7b-43bc-b86f-8bfd56b41b32",
   "metadata": {},
   "outputs": [],
   "source": [
    "# chargement des datasets\n",
    "X_train_SR = X_train_final.copy()\n",
    "X_test_SR = X_test_final.copy()\n",
    "y_train_SR = y_train_final.copy()\n",
    "y_test_SR = y_test_final.copy()"
   ]
  },
  {
   "cell_type": "code",
   "execution_count": null,
   "id": "ecbc9b6d-33b0-4a91-a004-ddf1260c2880",
   "metadata": {},
   "outputs": [],
   "source": [
    "estimators = [('lr', LinearRegression()),\n",
    "              ('svr_lin', LinearSVR(C=1, random_state=22)),\n",
    "              ('ridge', Ridge(alpha=1, random_state=22))\n",
    "             ]"
   ]
  },
  {
   "cell_type": "code",
   "execution_count": null,
   "id": "0659a72a-b743-456c-a87a-ace08c1fcea8",
   "metadata": {},
   "outputs": [],
   "source": [
    "# application preprocessor et modèle\n",
    "stacking_regressor = StackingRegressor(estimators=estimators, final_estimator=RandomForestRegressor(n_estimators=100, random_state=22))\n",
    "\n",
    "SR_model = Pipeline([('preprocessor', preprocessor), \n",
    "                     ('stacking_regressor', stacking_regressor)])"
   ]
  },
  {
   "cell_type": "code",
   "execution_count": null,
   "id": "1498407b-e47e-4902-9a98-0288750d1056",
   "metadata": {},
   "outputs": [],
   "source": [
    "# entrainement sur le jeu d'entrainement\n",
    "SR_model.fit(X_train_SR, y_train_SR)"
   ]
  },
  {
   "cell_type": "code",
   "execution_count": null,
   "id": "00e8f6bd-1a0f-4813-94fa-a62ee5effb59",
   "metadata": {},
   "outputs": [],
   "source": [
    "train_r2(SR_model, X_train_SR, y_train_SR)"
   ]
  },
  {
   "cell_type": "code",
   "execution_count": null,
   "id": "823618f6-e098-4135-9637-ad4e227722f0",
   "metadata": {},
   "outputs": [],
   "source": [
    "# prediction sur le jeu de test\n",
    "y_pred_SR = SR_model.predict(X_test_SR)\n",
    "test_r2(y_test_SR, y_pred_SR)\n",
    "\n",
    "# classe ShuffleSplit trouvé sur la doc scikit-learn afin de comparer avec un cv=5 uù je trouve de grosses différences \n",
    "# https://scikit-learn.org/stable/modules/cross_validation.html#computing-cross-validated-metrics\n",
    "#cv = ShuffleSplit(n_splits=5, test_size=0.3, random_state=22)\n",
    "score_SR = cross_val_score(SR_model, X, y, cv=5)\n",
    "print(f\"Cross_Validation : {score_SR}\")"
   ]
  },
  {
   "cell_type": "code",
   "execution_count": null,
   "id": "429bac7c-d4d9-4ca4-8cc2-f5ed31f83c0e",
   "metadata": {},
   "outputs": [],
   "source": [
    "#plot_learning_curve(SR_model, X, y)"
   ]
  },
  {
   "cell_type": "markdown",
   "id": "cc46984b-6c5f-4a36-ba6e-9225b177229f",
   "metadata": {},
   "source": [
    "---\n",
    "---\n",
    "---\n",
    "## Etape 5 - Analyse de la \"feature importance\" globale et locale :"
   ]
  },
  {
   "cell_type": "markdown",
   "id": "1437745d-d138-4235-922b-eb95193b46f8",
   "metadata": {},
   "source": [
    "**Stratégie d'analyse :**  \n",
    "\n",
    "Le modèle sélectionné est de type : **Stacking Regressor** (modèle d'ensemble qui utilise plusieurs modèles simples dont les prédictions servent à entrainer un modèle final).  \n",
    "\n",
    "* Feature importance globale :\n",
    "    -  Méthode `permutation_importance` *(explication des prédictions sur le jeu de **test**)*\n",
    "    -  Méthode avec SHAP *(explication du modèle pendant l'entrainement)*\n",
    "* Feature importance locale :\n",
    "    - Méthode **SHAP** *(explication d'une prédiction en particulier lors de l'entrainement)*"
   ]
  },
  {
   "cell_type": "markdown",
   "id": "a27f45fd-8b08-4c8f-98b7-f19f28b2d780",
   "metadata": {},
   "source": [
    "---\n",
    "---\n",
    "### 5.1 - Feature Importance Globale :"
   ]
  },
  {
   "cell_type": "markdown",
   "id": "164fe210-9124-408e-aec3-154ce627dc06",
   "metadata": {},
   "source": [
    "#### 5.1.1 - Méthode `permutation_importance` :"
   ]
  },
  {
   "cell_type": "markdown",
   "id": "386fac10-6ff4-41ac-954e-8bfcc9cdc8fe",
   "metadata": {},
   "source": [
    "**Rappel de la méthode:** Pour chaque feature, les valeurs de cette feature sont mélangées aléatoirement dans le jeu de test, la performance du modèle est mesurée sur ce jeu de test où une seule feature a été permutée et comparer à la performance du jeu original. ==> Une forte diminution de la performance indique que la feature est importante pour le modèle."
   ]
  },
  {
   "cell_type": "code",
   "execution_count": null,
   "id": "a57add33-49a6-45b4-96f0-828a96702ae8",
   "metadata": {},
   "outputs": [],
   "source": [
    "import warnings\n",
    "warnings.filterwarnings('ignore')"
   ]
  },
  {
   "cell_type": "code",
   "execution_count": null,
   "id": "198be0f5-fa11-444a-822a-e2b477d56dec",
   "metadata": {},
   "outputs": [],
   "source": [
    "from sklearn.inspection import permutation_importance"
   ]
  },
  {
   "cell_type": "code",
   "execution_count": null,
   "id": "452c4cc9-edfe-46d0-bf2d-a3966de48b7f",
   "metadata": {},
   "outputs": [],
   "source": [
    "# recuperation des noms des features avec celles encodees sous forme de liste\n",
    "feature_names = quantitative_features + log_transform_features + list(SR_model.named_steps['preprocessor'].named_transformers_['qual_OHE'].get_feature_names_out())"
   ]
  },
  {
   "cell_type": "code",
   "execution_count": null,
   "id": "1cd71b3b-9f2d-46d3-8203-86f6ba366cab",
   "metadata": {},
   "outputs": [],
   "source": [
    "# recuperation du modele stacking uniquement\n",
    "pipe_model = SR_model.named_steps['stacking_regressor']\n",
    "\n",
    "# Application du preprocessor sur le jeu de test - encodage des features\n",
    "X_test_transformed = SR_model.named_steps['preprocessor'].transform(X_test_SR)\n",
    "X_test_transformed_dense = X_test_transformed.toarray() \n",
    "\n",
    "# Permutation Importance\n",
    "result = permutation_importance(pipe_model, X_test_transformed_dense, y_test_SR, n_repeats=10, random_state=22, n_jobs=-1)"
   ]
  },
  {
   "cell_type": "code",
   "execution_count": null,
   "id": "53487ad2-d553-4c05-906d-8c8b15f423ff",
   "metadata": {},
   "outputs": [],
   "source": [
    "# mise en dataframe de la propriété permutation_importance\n",
    "importances_df = pd.DataFrame()\n",
    "for key in result:\n",
    "    if key == 'importances':\n",
    "        for j in range(result[key].shape[1]):\n",
    "            importances_df[f'importances-{j + 1}'] = result[key][:, j]\n",
    "    else:\n",
    "        importances_df[key] = result[key]\n",
    "\n",
    "importances_df.index = feature_names"
   ]
  },
  {
   "cell_type": "markdown",
   "id": "426b280f-c928-4d78-b4e1-95320c742517",
   "metadata": {},
   "source": [
    "**Affichage des 10 features les plus importants :**"
   ]
  },
  {
   "cell_type": "code",
   "execution_count": null,
   "id": "9d98704b-5b4d-410b-8bb1-c58a280ea1c8",
   "metadata": {},
   "outputs": [],
   "source": [
    "# affichage des 10 features les plus importantes\n",
    "importances_df.abs().sort_values(by='importances_mean', ascending=False).head(10).iloc[:, [0]]"
   ]
  },
  {
   "cell_type": "code",
   "execution_count": null,
   "id": "ee1c7ba1-78a1-48a9-bedc-9c25c4053fb0",
   "metadata": {},
   "outputs": [],
   "source": [
    "fig, ax = plt.subplots(figsize=(10, 6))\n",
    "# trier les importances par les valeurs absolues\n",
    "importances_abs = np.abs(result.importances_mean)\n",
    "sorted_idx_perm_abs = np.argsort(importances_abs)[-20:]\n",
    "\n",
    "# Boxplot for Permutation Importance\n",
    "ax.boxplot(result.importances[sorted_idx_perm_abs].T, vert=False)\n",
    "ax.axvline(x=0, color='gray', linestyle='--', linewidth=1)\n",
    "ax.set_yticks(np.arange(20) + 1)  \n",
    "ax.set_yticklabels(np.array(feature_names)[sorted_idx_perm_abs])\n",
    "ax.set_title(\"Top 20 - Permutation Importance (test set)\")\n",
    "\n",
    "# ajustement des marges\n",
    "fig.subplots_adjust(left=0.3, right=0.9, top=0.9, bottom=0.1)\n",
    "fig.tight_layout()\n",
    "plt.show()"
   ]
  },
  {
   "cell_type": "markdown",
   "id": "305b13b5-4577-4260-b29a-ace8e876b0ad",
   "metadata": {},
   "source": [
    "**Commentaires :**  \n",
    "* Des modifications dans la feature `PropertyGFABuilding(s)` créés les plus fortes variations dans le score de prédiction ==> cohérence d'une corrélation forte entre la consommation d'énergie et la surface totale des bâtiments en lien avec le chauffage/climatisation.\n",
    "* Deuxième feature qui influe le plus, `PrimaryPropertyType_Supermarket / Grocery Store` : c'est une feature encoder en OneHotEncoder donc binaire, plus surprenant cette catégorie représente à peine 3% des catégories mais doit avoir des caractéristiques atypiques.\n",
    "* La feature `NumberofFloors` influe beaucoup également\n",
    "* La vingtaine de features suivantes ont une influence moyenne proche, au global n'apportent pas beaucoup plus d'informations, elles influent par catégories spécifiques, l'approche locale sera plus pertinente pour celles-ci."
   ]
  },
  {
   "cell_type": "markdown",
   "id": "48023e9e-4691-48f8-9167-a30c2390a204",
   "metadata": {},
   "source": [
    "---\n",
    "#### 5.1.2 - Méthode avec utilisation de SHAP :"
   ]
  },
  {
   "cell_type": "code",
   "execution_count": null,
   "id": "283518fb-c409-44a1-9032-93db128921b2",
   "metadata": {},
   "outputs": [],
   "source": [
    "import shap\n",
    "from tqdm.autonotebook import tqdm\n",
    "shap.initjs()"
   ]
  },
  {
   "attachments": {
    "b030acab-2915-41ff-9f5e-6076e1bfa40b.png": {
     "image/png": "[encoded data removed]"
    }
   },
   "cell_type": "markdown",
   "id": "a7507012-76fe-4b40-be87-2cfa05a18838",
   "metadata": {},
   "source": [
    "![image.png](attachment:b030acab-2915-41ff-9f5e-6076e1bfa40b.png)"
   ]
  },
  {
   "cell_type": "markdown",
   "id": "3b4d168f-8cf2-4b77-9d1a-7c8a6cc991db",
   "metadata": {},
   "source": [
    "On ne peut pas passer directement un modèle `stacking_regressor` à SHAP, voici l'approche utilisée sur le jeu d'entrainement :\n",
    "* Récupération des prédictions des estimateurs de base\n",
    "* Création d'un explainer SHAP pour chaque estimateurs de base\n",
    "* Calcul des valeurs SHAP pour chaque estimateurs de base\n",
    "* Affichages par estimateurs de base\n",
    "* Création d'un explainer SHAP pour l'estimateur final\n",
    "* Calcul des valeurs SHAP de l'explainer final à partir des prédictions des estimateurs de base\n",
    "* Affichage de l'estimateur final"
   ]
  },
  {
   "cell_type": "code",
   "execution_count": null,
   "id": "44fcef73-b697-411f-9e87-4ae72df9d073",
   "metadata": {},
   "outputs": [],
   "source": [
    "# application du preprocessor sur le train - encodage des features\n",
    "X_train_transformed = SR_model.named_steps['preprocessor'].transform(X_train_SR)\n",
    "X_train_transformed_dense = X_train_transformed.toarray() "
   ]
  },
  {
   "cell_type": "code",
   "execution_count": null,
   "id": "02b41438-eb68-4a99-8086-8c6974efa424",
   "metadata": {},
   "outputs": [],
   "source": [
    "# obtenir les predictions intermediaires des estimators de base\n",
    "base_predictions = np.column_stack([est.predict(X_train_transformed_dense) for _, est in stacking_regressor.named_estimators_.items()])\n",
    "# explainer SHAP pour chaque estimator de base\n",
    "base_explainers = {name: shap.Explainer(est, X_train_transformed_dense) for name, est in stacking_regressor.named_estimators_.items()}\n",
    "# calcul valeurs SHAP pour chaque estimator de base\n",
    "base_shap_values = {name: explainer(X_train_transformed_dense) for name, explainer in base_explainers.items()}"
   ]
  },
  {
   "cell_type": "code",
   "execution_count": null,
   "id": "bde54114-51b7-4166-b7c0-123f71100e51",
   "metadata": {},
   "outputs": [],
   "source": [
    "# explainer SHAP pour le modele final en utilisant les predictions des estimateurs de base\n",
    "final_estimator = stacking_regressor.final_estimator_\n",
    "final_explainer = shap.Explainer(final_estimator, base_predictions)\n",
    "final_shap_values = final_explainer(base_predictions)"
   ]
  },
  {
   "cell_type": "code",
   "execution_count": null,
   "id": "fd5d0d38-ed4c-405d-aeb3-00bdb5ac34e8",
   "metadata": {},
   "outputs": [],
   "source": [
    "# Visualiser les valeurs SHAP pour chaque estimator de base\n",
    "for name, shap_values in base_shap_values.items():\n",
    "    print(f\"SHAP values for base estimator: {name}\")\n",
    "    shap.summary_plot(shap_values, X_train_transformed_dense, feature_names=feature_names)\n",
    "\n",
    "# Visualiser les valeurs SHAP pour le modèle final\n",
    "print(\"SHAP values for final estimator\")\n",
    "shap.summary_plot(final_shap_values, base_predictions, feature_names=[name for name, _ in stacking_regressor.named_estimators_.items()])"
   ]
  },
  {
   "cell_type": "code",
   "execution_count": null,
   "id": "902bcbe9-6e83-4383-89f4-65e57708621a",
   "metadata": {},
   "outputs": [],
   "source": [
    "# moyenne des valeurs SHAP des estimateurs de base pour une estimation combinée\n",
    "combined_shap_values = np.mean([shap_values.values for shap_values in base_shap_values.values()], axis=0)\n",
    "\n",
    "global_shap_values = np.zeros_like(combined_shap_values)\n",
    "\n",
    "global_shap_values += combined_shap_values\n",
    "\n",
    "for i, (name, _) in enumerate(stacking_regressor.named_estimators_.items()):\n",
    "    global_shap_values += final_shap_values.values[:, i][:, np.newaxis] * base_shap_values[name].values\n",
    "\n",
    "# Visualiser les valeurs SHAP globales pour une importance globale des features\n",
    "shap.summary_plot(global_shap_values, X_train_transformed_dense, feature_names=feature_names)"
   ]
  },
  {
   "cell_type": "markdown",
   "id": "19e92470-68cc-46b5-986e-592ff62c5171",
   "metadata": {},
   "source": [
    "**Commentaires :**  \n",
    "* On retrouve ici la feature `PropertyGFABuilding(s)` en tant que plus influente.\n",
    "* Par rapport à la méthode Permutation Importance, on retrouve ensuite les mêmes features mais dans un ordre différent. Nous sommes ici sur le jeu d'entrainement, d'où la différence."
   ]
  },
  {
   "cell_type": "markdown",
   "id": "8cdbf174-de39-4a14-ac72-77f219579bf0",
   "metadata": {},
   "source": [
    "---\n",
    "---\n",
    "### 5.1. - Feature Importance Locale :"
   ]
  },
  {
   "cell_type": "markdown",
   "id": "1082a0bf-854d-4fcd-b7bc-b3544b99d797",
   "metadata": {},
   "source": [
    "#### 5.1.1 - Méthode avec SHAP :"
   ]
  },
  {
   "cell_type": "markdown",
   "id": "0fc0f418-415f-4913-a74a-7fe5f6f0eb68",
   "metadata": {},
   "source": [
    "Comme pour l'analyse globale, ici nous ne pouvons pas calculer directement les shap_values directement avec le modèle Stacking Regressor, une approche identique est utilisée sur le jeu de test :\n",
    "* Récupération des prédictions des estimateurs de base\n",
    "* Création d'un explainer SHAP pour chaque estimateurs de base\n",
    "* Calcul des valeurs SHAP pour chaque estimateurs de base\n",
    "* Création d'un explainer SHAP pour l'estimateur final\n",
    "* Choisir l'élément à expliquer (`index_to_explain`)\n",
    "* Réaliser les calculs pour l'élément\n",
    "* Récupération des données d'origine pour interpréter\n",
    "* Affichage explication SHAP\n"
   ]
  },
  {
   "cell_type": "code",
   "execution_count": null,
   "id": "e55a7200-824b-4829-9f13-1824de4b8513",
   "metadata": {},
   "outputs": [],
   "source": [
    "# application du preprocessor sur le jeu de test - encodage des features\n",
    "X_test_transformed = SR_model.named_steps['preprocessor'].transform(X_test_SR)\n",
    "X_test_transformed_dense = X_test_transformed.toarray() \n",
    "\n",
    "# obtenir les predictions des estimators de base\n",
    "base_predictions = np.column_stack([est.predict(X_test_transformed_dense) for _, est in stacking_regressor.named_estimators_.items()])\n",
    "# creer un explainer SHAP pour chaque estimator de base\n",
    "base_explainers = {name: shap.Explainer(est, X_test_transformed_dense) for name, est in stacking_regressor.named_estimators_.items()}\n",
    "# calculer les valeurs SHAP pour chaque estimator de base\n",
    "base_shap_values = {name: explainer(X_test_transformed_dense) for name, explainer in base_explainers.items()}"
   ]
  },
  {
   "cell_type": "code",
   "execution_count": null,
   "id": "7c13c266-6a07-43cb-a28c-19f912da867b",
   "metadata": {},
   "outputs": [],
   "source": [
    "# creer un explainer SHAP pour le modele final avec les predictions des estimators de base\n",
    "final_estimator = stacking_regressor.final_estimator_\n",
    "final_explainer = shap.Explainer(final_estimator, base_predictions)\n",
    "final_shap_values = final_explainer(base_predictions)"
   ]
  },
  {
   "cell_type": "code",
   "execution_count": null,
   "id": "b7794795-32c4-44ef-8fc6-849e8a919a7a",
   "metadata": {},
   "outputs": [],
   "source": [
    "# choix de l'index pour analyse feature_importance locale\n",
    "index_to_explain = 4"
   ]
  },
  {
   "cell_type": "code",
   "execution_count": null,
   "id": "553f7c2e-6b70-4ff5-bc40-a7ef70c281ca",
   "metadata": {},
   "outputs": [],
   "source": [
    "# creer un tableau dela bonne taille avec des 0\n",
    "local_shap_values = np.zeros_like(base_shap_values['lr'].values[0])"
   ]
  },
  {
   "cell_type": "code",
   "execution_count": null,
   "id": "a20a847b-e5c6-4591-973e-902ae8c3f1c0",
   "metadata": {},
   "outputs": [],
   "source": [
    "# ajouter les valeurs SHAP des features \n",
    "for name in stacking_regressor.named_estimators_.keys():\n",
    "    local_shap_values += base_shap_values[name].values[index_to_explain]\n",
    "\n",
    "# ajouter les valeurs SHAP des predictions de base ponderees du final_estimator\n",
    "for i, (name, _) in enumerate(stacking_regressor.named_estimators_.items()):\n",
    "    local_shap_values += final_shap_values.values[index_to_explain, i] * base_shap_values[name].values[index_to_explain]"
   ]
  },
  {
   "cell_type": "code",
   "execution_count": null,
   "id": "3456282a-74ab-41bd-bf9c-0077c1c0eb1a",
   "metadata": {},
   "outputs": [],
   "source": [
    "# recuperer les donnees d'origine pour interpreter\n",
    "\n",
    "# transformateurs fit\n",
    "quantitative_transformer_fitted = SR_model.named_steps['preprocessor'].named_transformers_['quant']\n",
    "log_and_scale_transformer_fitted = SR_model.named_steps['preprocessor'].named_transformers_['log_and_scale']\n",
    "qualitative_transformer_fitted = SR_model.named_steps['preprocessor'].named_transformers_['qual_OHE']\n",
    "\n",
    "# donnees transformees\n",
    "sample_transformed = X_test_transformed_dense[index_to_explain]\n",
    "\n",
    "# separer les transformations\n",
    "num_features_len = quantitative_transformer_fitted.transform(X_test_SR[quantitative_features]).shape[1]\n",
    "log_features_len = log_and_scale_transformer_fitted.transform(X_test_SR[log_transform_features]).shape[1]\n",
    "cat_features_len = qualitative_transformer_fitted.transform(X_test_SR[qualitative_features_OHE]).shape[1]\n",
    "\n",
    "num_transformed = sample_transformed[:num_features_len]\n",
    "log_transformed = sample_transformed[num_features_len:num_features_len + log_features_len]\n",
    "cat_transformed = sample_transformed[num_features_len + log_features_len:num_features_len + log_features_len + cat_features_len]\n",
    "\n",
    "# inverser les transformations\n",
    "num_original = quantitative_transformer_fitted.inverse_transform([num_transformed])\n",
    "log_original = np.expm1(log_and_scale_transformer_fitted.named_steps['scaler'].inverse_transform([log_transformed]))\n",
    "cat_original = qualitative_transformer_fitted.inverse_transform([cat_transformed])\n",
    "\n",
    "# resultats en listes pour les inserer dictionnaire\n",
    "num_original_list = num_original[0].tolist()\n",
    "log_original_list = log_original[0].tolist()\n",
    "cat_original_list = cat_original[0].tolist()\n",
    "\n",
    "# dictionnaire\n",
    "original_features_dict = {}\n",
    "\n",
    "# features quantitatives\n",
    "for i, feature in enumerate(quantitative_features):\n",
    "    original_features_dict[feature] = num_original_list[i]\n",
    "\n",
    "# features log\n",
    "for i, feature in enumerate(log_transform_features):\n",
    "    original_features_dict[feature] = log_original_list[i]\n",
    "\n",
    "# features qualitatives\n",
    "for i, feature in enumerate(qualitative_features_OHE):\n",
    "    original_features_dict[feature] = cat_original_list[i]\n",
    "\n",
    "# affichage en df\n",
    "df_original_datas = pd.DataFrame.from_dict(original_features_dict, orient='index')\n",
    "df_original_datas"
   ]
  },
  {
   "cell_type": "code",
   "execution_count": null,
   "id": "6ef658cc-1295-41cc-94b6-b5b1aa60f223",
   "metadata": {},
   "outputs": [],
   "source": [
    "# affichage pour index_to_explain\n",
    "shap.waterfall_plot(shap.Explanation(values=local_shap_values, base_values=final_shap_values.base_values[index_to_explain], data=X_test_transformed_dense[index_to_explain], feature_names=feature_names), show=False)\n",
    "plt.gcf().set_size_inches(20, 10)\n",
    "plt.show()"
   ]
  },
  {
   "cell_type": "markdown",
   "id": "95cdc62e-6b8d-408e-b991-f32498c69ba0",
   "metadata": {},
   "source": [
    "**Commentaires :**  \n",
    "* Pour l'exemple ci-dessus, la feature qui augmente le plus le score est : `PropertyGFABuilding(s)`\n",
    "* Les 2 autres qui augmentent le plsu également sont les usages \"WorshipFacility\"\n",
    "* Celles qui font baissées le plus le score : `Latitude`, `ThirdLargestPropertyUseType_Not concerned`, `YearBuilt` et `BuildingAge`"
   ]
  },
  {
   "cell_type": "markdown",
   "id": "ac67b028-89c3-4b9e-978d-e76cee7ae066",
   "metadata": {},
   "source": [
    "---\n",
    "---\n",
    "---\n",
    "## Etape 6 : Analyse de l'influence de l'EnergyStarScore"
   ]
  },
  {
   "cell_type": "markdown",
   "id": "48420d22-9d61-4c4c-8b38-38b81547f751",
   "metadata": {},
   "source": [
    "**Que représente l'EnergyStarScore ?**  \n",
    "\n",
    "L'Energy Star Score est une note de 1 à 100 qui évalue l'efficacité énergétique d'un bâtiment par rapport à d'autres bâtiments similaires. Un score élevé signifie que le bâtiment est plus économe en énergie. Le score est important pour réduire les coûts, les émissions de carbone, et augmenter la valeur du bâtiment."
   ]
  },
  {
   "cell_type": "markdown",
   "id": "f753c018-3d83-4703-9910-2403d5996f47",
   "metadata": {},
   "source": [
    "**Traitement des manquants de `EnergyStarScore` :**  \n",
    "\n",
    "Nous savons que ce score est fastidieux à calculer, il intègre plusieurs aspects et peut ne pas avoir de simple relation linéaire avec les autres features.  \n",
    "Il dépend de plusieurs features et ne peut donc pas se justifier par une imputation par la moyenne ou la médiane.  \n",
    "Connaissant ces particularités, j'opte pour une imputation avec la méthode **KNN** à 5 voisins plus proches, qui sera réaliser pendant le **`preprocessor`** du pipeline."
   ]
  },
  {
   "cell_type": "markdown",
   "id": "71800343-eed4-4478-8dc0-edc6f4d2eb34",
   "metadata": {},
   "source": [
    "---\n",
    "### 6.1 - Nouveau dataset :"
   ]
  },
  {
   "cell_type": "markdown",
   "id": "24a9865e-5d06-4818-bfc9-a827bb1bdc6c",
   "metadata": {},
   "source": [
    "Afin d'ajouter la feature `EnergyStarScore` et afin de ne pas modifier les analyses précédentes, je créé un nouveau fichier EDA qui l'inclus :  \n",
    "[NOUVEAU FICHIER EDA - 01.2_EDA_Target_1_EnergyStarScore](./01.2_EDA_Target_1_EnergyStarScore.ipynb)  "
   ]
  },
  {
   "cell_type": "code",
   "execution_count": null,
   "id": "f616995e-49b8-4639-852b-878ece14b80e",
   "metadata": {},
   "outputs": [],
   "source": [
    "# recuperation du dataset incluant EnergyStarScore\n",
    "energy_df_ESS = pd.read_csv('data/cleaned/energy_df_EnergyStarScore.csv', index_col=0)"
   ]
  },
  {
   "cell_type": "code",
   "execution_count": null,
   "id": "80dc67f2-309b-4804-bc2d-6fcb15fb4fe2",
   "metadata": {},
   "outputs": [],
   "source": [
    "# application du FE précédent\n",
    "energy_df_ESS['UseTypesQty'] = energy_df_ESS['ListOfAllPropertyUseTypes'].apply(count_elements_str)"
   ]
  },
  {
   "cell_type": "code",
   "execution_count": null,
   "id": "43635a4e-921f-4d93-9406-d7efc41e8040",
   "metadata": {},
   "outputs": [],
   "source": [
    "energy_df_ESS = energy_df_ESS.drop(columns='ListOfAllPropertyUseTypes')"
   ]
  },
  {
   "cell_type": "code",
   "execution_count": null,
   "id": "bddf1080-e206-4c82-9e1c-4ea168d1cd17",
   "metadata": {},
   "outputs": [],
   "source": [
    "# creation du dataset features\n",
    "X_ESS = energy_df_ESS.drop(columns = 'target')\n",
    "X_ESS.shape"
   ]
  },
  {
   "cell_type": "code",
   "execution_count": null,
   "id": "ba28d6f4-de24-4642-9f5f-0bbc92fc6209",
   "metadata": {},
   "outputs": [],
   "source": [
    "# creation du dataset target\n",
    "y_ESS = energy_df_ESS.target\n",
    "y_ESS.shape"
   ]
  },
  {
   "cell_type": "code",
   "execution_count": null,
   "id": "c23fb694-d2a1-4657-bf84-f8844ddfcb78",
   "metadata": {},
   "outputs": [],
   "source": [
    "# diviser les donnees en jeux d'entrainement et test\n",
    "X_train_ESS, X_test_ESS, y_train_ESS, y_test_ESS = train_test_split(X_ESS, y_ESS, test_size=0.2, random_state=22)"
   ]
  },
  {
   "cell_type": "markdown",
   "id": "0a1b335b-f04d-45f0-8a6c-23dfb40153c1",
   "metadata": {},
   "source": [
    "---\n",
    "---\n",
    "### 6.2 - Modélisation :"
   ]
  },
  {
   "cell_type": "markdown",
   "id": "8f0255ff-3a3a-4444-b01f-eaf73feb5ead",
   "metadata": {},
   "source": [
    "#### 6.2.1 - Préparation du Pipeline :"
   ]
  },
  {
   "cell_type": "code",
   "execution_count": null,
   "id": "53babbb6-bfa4-48c8-9656-c7a280fd9bc2",
   "metadata": {},
   "outputs": [],
   "source": [
    "from sklearn.impute import KNNImputer"
   ]
  },
  {
   "cell_type": "code",
   "execution_count": null,
   "id": "7324f938-24ff-4e55-bfc6-64272b2176d7",
   "metadata": {},
   "outputs": [],
   "source": [
    "# definir les colonnes quantitatives et qualitatives\n",
    "quantitative_features = ['Latitude', 'Longitude', 'YearBuilt', 'NumberofBuildings', 'NumberofFloors', 'BuildingAge', 'ElectricityRate', 'GasRate', 'SteamRate', 'UseTypesQty', 'ENERGYSTARScore']\n",
    "log_transform_features = ['PropertyGFABuilding(s)', 'SecondLargestPropertyUseTypeGFA', 'ThirdLargestPropertyUseTypeGFA']\n",
    "qualitative_features_OHE = ['BuildingType', 'Neighborhood', 'PrimaryPropertyType', 'LargestPropertyUseType', 'SecondLargestPropertyUseType', 'ThirdLargestPropertyUseType']"
   ]
  },
  {
   "cell_type": "code",
   "execution_count": null,
   "id": "483f3dd0-451e-4dcd-88d4-16ea21049aa3",
   "metadata": {},
   "outputs": [],
   "source": [
    "# standardisation des donnees\n",
    "quantitative_transformer = Pipeline([('imputer', KNNImputer(n_neighbors=5)), ('scaler', StandardScaler())])\n",
    "\n",
    "# fonction de transformation logarithmique de certains features\n",
    "log_transformer = Pipeline([('log_transform', FunctionTransformer(np.log1p, validate=True))])\n",
    "\n",
    "# pipeline pour realiser la transformation log puis standardisation\n",
    "log_and_scale_transformer = Pipeline([('log_transform', log_transformer), ('scaler', StandardScaler())])\n",
    "\n",
    "# encodage des variables qualitatives\n",
    "qualitative_transformer_OHE = Pipeline([('onehot', OneHotEncoder(handle_unknown='ignore'))])\n",
    "\n",
    "# appliquer l'encodage et la standardisation\n",
    "preprocessor = ColumnTransformer(transformers=[('quant', quantitative_transformer, quantitative_features), ('log_and_scale', log_and_scale_transformer, log_transform_features), ('qual_OHE', qualitative_transformer_OHE, qualitative_features_OHE)]) "
   ]
  },
  {
   "cell_type": "code",
   "execution_count": null,
   "id": "c16b59fb-6bba-46f0-97ce-678f2ad05bc8",
   "metadata": {},
   "outputs": [],
   "source": [
    "estimators = [('lr', LinearRegression()),\n",
    "              ('svr_lin', LinearSVR(C=1, random_state=22)),\n",
    "              ('ridge', Ridge(alpha=1, random_state=22))\n",
    "             ]"
   ]
  },
  {
   "cell_type": "code",
   "execution_count": null,
   "id": "84e60b39-4c9a-448f-92f5-1c8b14aafd05",
   "metadata": {},
   "outputs": [],
   "source": [
    "# application preprocessor et modèle\n",
    "stacking_regressor = StackingRegressor(estimators=estimators, final_estimator=RandomForestRegressor(n_estimators=100, random_state=22))\n",
    "\n",
    "SR_model_ESS = Pipeline([('preprocessor', preprocessor), \n",
    "                     ('stacking_regressor', stacking_regressor)])"
   ]
  },
  {
   "cell_type": "markdown",
   "id": "ef41fd78-7382-430b-aaf2-595e0b4aa528",
   "metadata": {},
   "source": [
    "---\n",
    "#### 6.2.2 - Entrainement du modèle :"
   ]
  },
  {
   "cell_type": "code",
   "execution_count": null,
   "id": "a2188fef-dd68-43cc-98df-877e6f5b71b5",
   "metadata": {},
   "outputs": [],
   "source": [
    "# entrainement sur le jeu d'entrainement\n",
    "SR_model_ESS.fit(X_train_ESS, y_train_ESS)"
   ]
  },
  {
   "cell_type": "code",
   "execution_count": null,
   "id": "90887e37-d0f7-4a95-bd67-48024a3c004f",
   "metadata": {},
   "outputs": [],
   "source": [
    "train_r2(SR_model_ESS, X_train_ESS, y_train_ESS)"
   ]
  },
  {
   "cell_type": "code",
   "execution_count": null,
   "id": "adba6773-77ea-4e07-a21f-00f71792afb0",
   "metadata": {},
   "outputs": [],
   "source": [
    "# prediction sur le jeu de test\n",
    "y_pred_ESS = SR_model_ESS.predict(X_test_ESS)\n",
    "test_r2(y_test_ESS, y_pred_ESS)\n",
    "\n",
    "# classe ShuffleSplit trouvé sur la doc scikit-learn afin de comparer avec un cv=5 uù je trouve de grosses différences \n",
    "# https://scikit-learn.org/stable/modules/cross_validation.html#computing-cross-validated-metrics\n",
    "#cv = ShuffleSplit(n_splits=5, test_size=0.3, random_state=22)\n",
    "score_ESS = cross_val_score(SR_model_ESS, X_ESS, y_ESS, cv=5)\n",
    "print(f\"Cross_Validation : {score_ESS}\")"
   ]
  },
  {
   "cell_type": "markdown",
   "id": "c9ad8353-39de-4097-b03c-77ed895cc71d",
   "metadata": {},
   "source": [
    "**Commentaires :**  \n",
    "Amélioration du score avec cette nouvelle feature.  \n",
    "Précédemment :  \n",
    "```\n",
    "Le R²_train pour ce modèle : 0.6423490922617354\n",
    "Le R²_train ajusté pour ce modèle : 0.6360101302775684\n",
    "Le R²_test pour ce modèle : 0.6483464673431264\n",
    "Le R²_test ajusté pour ce modèle : 0.6421138021187974\n",
    "Cross_Validation : [0.20016203 0.4901285  0.27532797 0.27788009 0.41422168]\n",
    "```"
   ]
  },
  {
   "cell_type": "markdown",
   "id": "69a5204f-6f49-4ba8-8f89-9f00a72f98ff",
   "metadata": {},
   "source": [
    "---\n",
    "#### 6.2.3 - Essai d'optimisation :"
   ]
  },
  {
   "cell_type": "markdown",
   "id": "86864522-245a-4d58-8316-b78694c30ff5",
   "metadata": {},
   "source": [
    "Avec cette nouvelle feature, je tente une optimisation par `RandomSearchCV` afin d'évaluer s'il est possible d'améliorer le score."
   ]
  },
  {
   "cell_type": "code",
   "execution_count": null,
   "id": "80b046eb-b360-4f57-a995-617ecc1f6f49",
   "metadata": {},
   "outputs": [],
   "source": [
    "param_stacking_ESS = {\n",
    "    'preprocessor__quant__imputer__n_neighbors': [3, 5, 7, 9], \n",
    "    'stacking_regressor__svr_lin__C': [0.01, 0.1, 1, 10],\n",
    "    'stacking_regressor__ridge__alpha': [0.1, 1, 10, 20],\n",
    "    'stacking_regressor__final_estimator__n_estimators': [10, 50, 100, 200],\n",
    "}"
   ]
  },
  {
   "cell_type": "code",
   "execution_count": null,
   "id": "324bc6f5-2f53-4468-bffa-70cb4f476a94",
   "metadata": {},
   "outputs": [],
   "source": [
    "estimators = [('lr', LinearRegression()),\n",
    "              ('svr_lin', LinearSVR(random_state=22)),\n",
    "              ('ridge', Ridge(random_state=22))\n",
    "             ]"
   ]
  },
  {
   "cell_type": "code",
   "execution_count": null,
   "id": "ed75ebdf-155f-4e2a-99bf-33454d396f5c",
   "metadata": {},
   "outputs": [],
   "source": [
    "SR_model_random_ESS = Pipeline([\n",
    "    ('preprocessor', preprocessor),\n",
    "    ('stacking_regressor', StackingRegressor(estimators=estimators, final_estimator=RandomForestRegressor(random_state=22)))\n",
    "])"
   ]
  },
  {
   "cell_type": "code",
   "execution_count": null,
   "id": "91807224-c10a-42f6-b848-fda066b0b37b",
   "metadata": {},
   "outputs": [],
   "source": [
    "# optimisation de RandomSearchCV\n",
    "random_search = RandomizedSearchCV(estimator=SR_model_random_ESS, param_distributions=param_stacking_ESS, cv=5, n_jobs=-1, scoring='r2')\n",
    "random_search.fit(X_train_ESS, y_train_ESS)"
   ]
  },
  {
   "cell_type": "code",
   "execution_count": null,
   "id": "87a9cf4a-08bb-46d4-a86b-a4c6cb4e8f7a",
   "metadata": {},
   "outputs": [],
   "source": [
    "print(f\"Meilleurs hyperparamètres : {random_search.best_params_}\")"
   ]
  },
  {
   "cell_type": "code",
   "execution_count": null,
   "id": "7e550a25-ff1d-4646-9a8b-e8d2d03c9492",
   "metadata": {},
   "outputs": [],
   "source": [
    "# standardisation des donnees\n",
    "quantitative_transformer = Pipeline([('imputer', KNNImputer(n_neighbors=5)), ('scaler', StandardScaler())])\n",
    "\n",
    "# appliquer l'encodage et la standardisation\n",
    "preprocessor = ColumnTransformer(transformers=[('quant', quantitative_transformer, quantitative_features), ('log_and_scale', log_and_scale_transformer, log_transform_features), ('qual_OHE', qualitative_transformer_OHE, qualitative_features_OHE)]) \n",
    "\n",
    "best_estimators_random = [('lr', LinearRegression()),\n",
    "                          ('svr_lin', LinearSVR(random_state=22, C=0.1)),\n",
    "                          ('ridge', Ridge(random_state=22, alpha=20))\n",
    "                         ]\n",
    "\n",
    "best_final_estimator_random = RandomForestRegressor(random_state=22,\n",
    "                                             n_estimators=100\n",
    "                                            )"
   ]
  },
  {
   "cell_type": "code",
   "execution_count": null,
   "id": "85aba9e4-cce1-492c-b451-e40cf4118b47",
   "metadata": {},
   "outputs": [],
   "source": [
    "best_model_random = Pipeline([('preprocessor', preprocessor), \n",
    "                                       ('stacking_regressor', StackingRegressor(estimators=best_estimators_random, final_estimator=best_final_estimator_random))\n",
    "                                      ])\n",
    "\n",
    "best_model_random.fit(X_train_ESS, y_train_ESS)\n",
    "train_r2(best_model_random, X_train_ESS, y_train_ESS)"
   ]
  },
  {
   "cell_type": "code",
   "execution_count": null,
   "id": "544835c4-083c-438e-b701-2f3fb85aa9ad",
   "metadata": {},
   "outputs": [],
   "source": [
    "# prediction sur le jeu de test\n",
    "y_pred_random = best_model_random.predict(X_test_ESS)\n",
    "test_r2(y_test_ESS, y_pred_random)\n",
    "\n",
    "score_random = cross_val_score(best_model_random, X_ESS, y_ESS, cv=5)\n",
    "print(f\"Cross_Validation : {score_random}\")"
   ]
  },
  {
   "cell_type": "markdown",
   "id": "aa70bf3d-4a5d-420f-8dff-3dbcbf99f60c",
   "metadata": {},
   "source": [
    "**Commentaires :**  \n",
    "Nouvelle amélioration interessante, les scores train et Test augmentent et sont très proches."
   ]
  },
  {
   "cell_type": "markdown",
   "id": "d7a408ab-f2f1-4be1-862a-1a24c9815ffd",
   "metadata": {},
   "source": [
    "---\n",
    "---\n",
    "### 6.3 - Analyse de l'influence de l'Energy Star Score :"
   ]
  },
  {
   "cell_type": "markdown",
   "id": "239db09c-caff-489e-96a2-2b783c8917bb",
   "metadata": {},
   "source": [
    "#### 6.3.1 - Feature Importance Globale avec `Permutation_importance` :"
   ]
  },
  {
   "cell_type": "code",
   "execution_count": null,
   "id": "1b74b9aa-7f08-4f5e-a244-cd969abbf784",
   "metadata": {},
   "outputs": [],
   "source": [
    "# recuperation des noms des features avec celles encodees sous forme de liste\n",
    "feature_names_ESS = quantitative_features + log_transform_features + list(best_model_random.named_steps['preprocessor'].named_transformers_['qual_OHE'].get_feature_names_out())"
   ]
  },
  {
   "cell_type": "code",
   "execution_count": null,
   "id": "286e7936-997f-4aee-92b2-d1148a05b964",
   "metadata": {},
   "outputs": [],
   "source": [
    "# recuperation du modele stacking uniquement\n",
    "pipe_model_ESS = best_model_random.named_steps['stacking_regressor']\n",
    "\n",
    "# Application du preprocessor sur le jeu de test - encodage des features\n",
    "X_test_transformed_ESS = best_model_random.named_steps['preprocessor'].transform(X_test_ESS)\n",
    "X_test_transformed_dense_ESS = X_test_transformed_ESS.toarray() \n",
    "\n",
    "# Permutation Importance\n",
    "result_ESS = permutation_importance(pipe_model_ESS, X_test_transformed_dense_ESS, y_test_ESS, n_repeats=10, random_state=22, n_jobs=-1)"
   ]
  },
  {
   "cell_type": "code",
   "execution_count": null,
   "id": "21d219cc-6b77-488f-a4cb-3174b32146ad",
   "metadata": {},
   "outputs": [],
   "source": [
    "# mise en dataframe de la propriété permutation_importance\n",
    "importances_df_ESS = pd.DataFrame()\n",
    "for key in result:\n",
    "    if key == 'importances':\n",
    "        for j in range(result[key].shape[1]):\n",
    "            importances_df_ESS[f'importances-{j + 1}'] = result_ESS[key][:, j]\n",
    "    else:\n",
    "        importances_df_ESS[key] = result_ESS[key]\n",
    "\n",
    "importances_df_ESS.index = feature_names_ESS\n",
    "\n",
    "# affichage des 10 features les plus importantes\n",
    "importances_df_ESS.abs().sort_values(by='importances_mean', ascending=False).head(10).iloc[:, [0]]"
   ]
  },
  {
   "cell_type": "code",
   "execution_count": null,
   "id": "bb18e7f9-840e-4807-a9ab-64e898bce760",
   "metadata": {},
   "outputs": [],
   "source": [
    "fig, ax = plt.subplots(figsize=(10, 6))\n",
    "# trier les importances par les valeurs absolues\n",
    "importances_abs_ESS = np.abs(result_ESS.importances_mean)\n",
    "sorted_idx_perm_abs_ESS = np.argsort(importances_abs_ESS)[-20:]\n",
    "\n",
    "# Boxplot for Permutation Importance\n",
    "ax.boxplot(result_ESS.importances[sorted_idx_perm_abs_ESS].T, vert=False)\n",
    "ax.axvline(x=0, color='gray', linestyle='--', linewidth=1)\n",
    "ax.set_yticks(np.arange(20) + 1)  \n",
    "ax.set_yticklabels(np.array(feature_names_ESS)[sorted_idx_perm_abs_ESS])\n",
    "ax.set_title(\"Top 20 Permutation Importance (test set)\")\n",
    "\n",
    "# ajustement des marges\n",
    "fig.subplots_adjust(left=0.3, right=0.9, top=0.9, bottom=0.1)\n",
    "fig.tight_layout()\n",
    "plt.show()"
   ]
  },
  {
   "cell_type": "markdown",
   "id": "8b269b46-eb11-4bc7-8174-8eef12e26a10",
   "metadata": {},
   "source": [
    "**Commentaires :**  \n",
    "On observe que la feature `EnergyStarScore` a une forte influence sur le score, elle est la deuxième plus significative."
   ]
  },
  {
   "cell_type": "markdown",
   "id": "ed7873b0-0d52-4c82-b5db-650dfbbd0b70",
   "metadata": {},
   "source": [
    "---\n",
    "#### 6.3.2 - Etude corrélations des features :"
   ]
  },
  {
   "cell_type": "markdown",
   "id": "dd4e16b2-cdd7-4fb7-b3c8-fd9ecce14481",
   "metadata": {},
   "source": [
    "**corrélation du dataset passé par le Feature Engineering mais sans l'imputation :**"
   ]
  },
  {
   "cell_type": "code",
   "execution_count": null,
   "id": "9a934306-d5f5-461f-a393-ef55a2837089",
   "metadata": {},
   "outputs": [],
   "source": [
    "correlation_matrix = energy_df_ESS.select_dtypes(exclude='object').corr()\n",
    "mask = np.triu(np.ones_like(correlation_matrix, dtype=bool))\n",
    "plt.figure(figsize=(8, 6))\n",
    "sns.heatmap(correlation_matrix, mask=mask, annot=True, cmap='viridis', fmt='.2f')\n",
    "plt.title('Correlation Heatmap of Energy Use Variables')\n",
    "#plt.savefig('temp.png', bbox_inches='tight', pad_inches=0.1)\n",
    "plt.show()"
   ]
  },
  {
   "cell_type": "markdown",
   "id": "893104bd-62ac-4ab3-a7a0-aa6578e4419d",
   "metadata": {},
   "source": [
    "**Commentaires :**  \n",
    "Je cherche ici à vérifier s'il existe des corrélations linéaires entre `ENERGYSTARScore` et la target ou les autres features.  \n",
    "Une légère corrélation de 0,24 avec `PropertyGFABuildings`.  \n",
    "Cela confirme que sa relation avec les autres features n'est pas simplement linéaire."
   ]
  },
  {
   "cell_type": "markdown",
   "id": "d842ebd2-9412-4399-898c-ed705af5af39",
   "metadata": {},
   "source": [
    "**corrélation du dataset passé par le preprocessor et l'imputation :**"
   ]
  },
  {
   "cell_type": "code",
   "execution_count": null,
   "id": "13d3bcce-d376-443e-982a-af102320def4",
   "metadata": {},
   "outputs": [],
   "source": [
    "# appliquer le preprocessing sur les données completes\n",
    "X_ESS_preprocessed = best_model_random.named_steps['preprocessor'].transform(X_ESS)\n",
    "# suite erreur pour realiser le dataframe, passage en matrice dense\n",
    "X_ESS_preprocessed_dense = X_ESS_preprocessed.todense()\n",
    "\n",
    "# dataframe\n",
    "X_ESS_preprocessed_df = pd.DataFrame(X_ESS_preprocessed_dense, columns=feature_names_ESS)"
   ]
  },
  {
   "cell_type": "code",
   "execution_count": null,
   "id": "ca395284-4f0a-4c01-a504-ecda5cc94506",
   "metadata": {},
   "outputs": [],
   "source": [
    "# selection des features de base sans l'encodage\n",
    "quantitative_features_all = quantitative_features + log_transform_features\n",
    "X_ESS_preprocessed_quantitative = X_ESS_preprocessed_df[quantitative_features_all]\n",
    "\n",
    "correlation_matrix = X_ESS_preprocessed_quantitative.corr()\n",
    "mask = np.triu(np.ones_like(correlation_matrix, dtype=bool))\n",
    "plt.figure(figsize=(8, 6))\n",
    "sns.heatmap(correlation_matrix, mask=mask, annot=True, cmap='viridis', fmt='.2f')\n",
    "plt.title('Correlation Heatmap of Energy Use Variables')\n",
    "#plt.savefig('temp.png', bbox_inches='tight', pad_inches=0.1)\n",
    "plt.show()"
   ]
  },
  {
   "cell_type": "markdown",
   "id": "b9bd7690-0667-47ee-95ed-1d82b4cf2b36",
   "metadata": {},
   "source": [
    "**Commentaires :**  \n",
    "En comparant les corrélations avant et après Imputation, j'essaie de vérifier qu'il n'y ai pas eu de biais intégré.  \n",
    "| Feature                              | Avant Imputation | Après Imputation | Différence |\n",
    "|--------------------------------------|------------------|------------------|------------|\n",
    "| PropertyGFABuilding(s)               | 0.24             | 0.09             | -0.15      |\n",
    "| SecondLargestPropertyUseTypeGFA      | 0.18             | 0.11             | -0.07      |\n",
    "| ThirdLargestPropertyUseTypeGFA       | 0.03             | 0.06             | +0.03      |\n",
    "| BuildingAge                          | 0.08             | 0.03             | -0.05      |\n",
    "| ElectricityRate                      | 0.14             | 0.09             | -0.05      |\n",
    "| GasRate                              | 0.09             | 0.05             | -0.04      |"
   ]
  },
  {
   "cell_type": "markdown",
   "id": "bcff2447-be66-4ce2-83b4-0572d7ecd87f",
   "metadata": {},
   "source": [
    "On constate une baisse de corrélation de -0.15 avec la feature `PropertyGFABuilding(s)`, cette différence indique une légère influence due à l'imputation, mais rien de catastrophique.\n"
   ]
  },
  {
   "cell_type": "markdown",
   "id": "d5bcaece-f65c-4402-b043-f3880fbfcf88",
   "metadata": {},
   "source": [
    "---\n",
    "#### 6.3.3 - Conclusion sur l'influence de l'Energy Star Score :"
   ]
  },
  {
   "cell_type": "markdown",
   "id": "66c3dd23-051a-4e27-92a7-bb22be75c17a",
   "metadata": {},
   "source": [
    "| Metric                          | Avant                                | Après                                |\n",
    "|---------------------------------|--------------------------------------|--------------------------------------|\n",
    "| R²_train                        | 0.6423                               | 0.7324                               |\n",
    "| R²_train ajusté                 | 0.6360                               | 0.7274                               |\n",
    "| R²_test                         | 0.6483                               | 0.7216                               |\n",
    "| R²_test ajusté                  | 0.6421                               | 0.7166                               |\n",
    "| Cross_Validation (moyenne)      | 0.3315                               | 0.4302                               |\n",
    "| Cross_Validation (détail)       | [0.2002 0.4901 0.2753 0.2779 0.4142] | [0.2366 0.6068 0.3200 0.3945 0.5931] |\n",
    "\n",
    "\n",
    "L'influence de l'EnergyStar Score pour les prédictions de notre target 1 \"SiteEnergyUse(kBtu)\" est significative (Train : +0.09 | Test : +0.07 | CV_mean : +0.1).  \n",
    "C'est une amélioration que l'on pouvait attendre étant donné que ce score est basé sur la consommation d'énergies."
   ]
  },
  {
   "cell_type": "markdown",
   "id": "58fe3bba-6a8a-4895-923e-c35110f1d863",
   "metadata": {},
   "source": [
    "---\n",
    "---\n",
    "---\n",
    "## Etape 7 : Simulation de la 2ème target"
   ]
  },
  {
   "cell_type": "markdown",
   "id": "1c17e46a-c4f6-47fa-9a8b-f2699981194d",
   "metadata": {},
   "source": [
    "Le travail sur la 2ème target a été réalisé en parallèle de de la 1ère, et se trouve sur les notebooks estampillé **Target_2**."
   ]
  },
  {
   "cell_type": "markdown",
   "id": "da402e59-4420-4d03-8daa-864207974abf",
   "metadata": {},
   "source": [
    "---\n",
    "---\n",
    "---\n",
    "# Conclusion :"
   ]
  },
  {
   "cell_type": "markdown",
   "id": "49bb8d7c-5505-4fcb-9617-cf85c92d399d",
   "metadata": {},
   "source": [
    "Pour l'objectif de se passer des relevés de consommation annuels et pouvoir réaliser des prédictions sur tout autre bâtiment, nous avons ici un modèle de départ qui fonctionne si nous n'avons pas besoin de trop de précision.  \n",
    "Il serait par contre intéressant de réaliser les prédictions par tranches (ex: conso entre 1000 et 1500 kBtu), ce qui rendrait le modèle tout à fait pertinent.  \n",
    "\n",
    "Il reste toutefois perfectible :\n",
    "* ajout de données\n",
    "* amélioration Feature Engineering (travail supplémentaire avec Importance Feature)"
   ]
  },
  {
   "cell_type": "code",
   "execution_count": null,
   "id": "1377f141-1351-46e9-928c-57c4b3d1def4",
   "metadata": {},
   "outputs": [],
   "source": []
  }
 ],
 "metadata": {
  "kernelspec": {
   "display_name": "Python 3 (ipykernel)",
   "language": "python",
   "name": "python3"
  },
  "language_info": {
   "codemirror_mode": {
    "name": "ipython",
    "version": 3
   },
   "file_extension": ".py",
   "mimetype": "text/x-python",
   "name": "python",
   "nbconvert_exporter": "python",
   "pygments_lexer": "ipython3",
   "version": "3.9.7"
  }
 },
 "nbformat": 4,
 "nbformat_minor": 5
}
